{
  "cells": [
    {
      "cell_type": "code",
      "execution_count": 1,
      "metadata": {
        "id": "FYxq9Q8rk2P4"
      },
      "outputs": [],
      "source": [
        "%load_ext autoreload\n",
        "%autoreload 2"
      ]
    },
    {
      "cell_type": "code",
      "execution_count": 4,
      "metadata": {
        "colab": {
          "base_uri": "https://localhost:8080/"
        },
        "id": "_dEqce8bk-Rm",
        "outputId": "bb93ef54-caec-44b7-8b7f-9f09baee215a"
      },
      "outputs": [
        {
          "name": "stdout",
          "output_type": "stream",
          "text": [
            "Cloning into 'centernet-tutorial'...\n",
            "remote: Enumerating objects: 27, done.\u001b[K\n",
            "remote: Counting objects: 100% (27/27), done.\u001b[K\n",
            "remote: Compressing objects: 100% (22/22), done.\u001b[K\n",
            "remote: Total 27 (delta 6), reused 23 (delta 5), pack-reused 0\u001b[K\n",
            "Unpacking objects: 100% (27/27), done.\n"
          ]
        }
      ],
      "source": [
        "!git clone https://github.com/interactivetech/centernet-tutorial/"
      ]
    },
    {
      "cell_type": "code",
      "execution_count": 7,
      "metadata": {
        "id": "j2F1yYyQk2P6"
      },
      "outputs": [],
      "source": [
        "import torch\n",
        "import sys\n",
        "sys.path.insert(0,'/content/centernet-tutorial/')\n",
        "from data_gen import ShapeDataset\n",
        "import matplotlib.pyplot as plt\n",
        "from PIL import Image\n",
        "from data import COCODetectionDataset, coco_detection_collate_fn, train_transform_norm, validation_transform_norm\n",
        "from tqdm import tqdm\n",
        "import numpy as np\n",
        "from model import centernet\n",
        "from loss import centerloss4\n",
        "from train import train\n",
        "from utils import pred2box_multiclass, filter_and_nms\n",
        "import cv2"
      ]
    },
    {
      "cell_type": "markdown",
      "metadata": {
        "id": "08FU7KXTk2P7"
      },
      "source": [
        "<h3> Table of Contents </h3>\n",
        "<ul>\n",
        "<li><a href=\"#Prelims\">Prelims</a></li>\n",
        "<li><a href=\"#Background\">Background</a><ul>\n",
        "<li><a href=\"#single-vs-two-stage\">Single Stage vs Two Stage</a></li>\n",
        "<li><a href=\"#Centernet\">Centernet</a></li>\n",
        "</ul>\n",
        "<li><a href=\"#Preprocessing\">Preprocessing</a></li>\n",
        "<ul>\n",
        "<li><a href=\"#Encode-Location-as-Gaussian-Keypoints\">Encode Location as Gaussian Keypoints</a></li>\n",
        "<li><a href=\"#Encode-Width-and-Height\">Encode Width and Height</a></li>\n",
        "</ul>\n",
        "<li><a href=\"#Model Architecture\">Model Architecture</a></li>\n",
        "<ul>\n",
        "<li><a href=\"#Backbone\">Backbone</a></li>\n",
        "<li><a href=\"#Class Head\">Class Head</a></li>\n",
        "<li><a href=\"#Regression Head\">Regression Head</a></li>\n",
        "<li><a href=\"#Initalization for Focal Loss\">Initalization for Focal Loss</a></li>\n",
        "</ul>\n",
        "<li><a href=\"#Loss Function\">Loss Function</a></li>\n",
        "<ul>\n",
        "<li><a href=\"#Focal Loss\">Focal Loss</a></li>\n",
        "<li><a href=\"#Regression Loss\">Regression Loss</a></li>\n",
        "</ul>\n",
        "<li><a href=\"#Prepare-Training-Model\">Prepare Training Model</a></li>\n",
        "<li><a href=\"#Train-Model\">Train Model</a></li>\n",
        "<li><a href=\"#Evaluate-Loss-Curves\">Evaluate Loss Curves</a></li>\n",
        "<li><a href=\"#Evaluate-Model-Predictions\">Evaluate Model Predictions</a></li>\n",
        "\n",
        "</ul>\n"
      ]
    },
    {
      "cell_type": "markdown",
      "metadata": {
        "id": "vJyq-PYBk2P8"
      },
      "source": [
        "# Prelims\n",
        "\n",
        "Generate Dataset"
      ]
    },
    {
      "cell_type": "code",
      "execution_count": 8,
      "metadata": {
        "colab": {
          "base_uri": "https://localhost:8080/"
        },
        "id": "W-wGsCVKk2P8",
        "outputId": "46118156-a0ba-46c7-b096-4c21981271a7"
      },
      "outputs": [
        {
          "name": "stdout",
          "output_type": "stream",
          "text": [
            "Num Circle: 1\n",
            "Num Circle+Rect: 2\n",
            "Num Anns: 3\n",
            "[{'segmentation': [], 'area': 2116, 'iscrowd': 0, 'image_id': 1, 'bbox': [342, 7, 46, 46], 'category_id': 0, 'id': 1}, {'segmentation': [], 'area': 1024, 'iscrowd': 0, 'image_id': 1, 'bbox': [449, 325, 32, 32], 'category_id': 1, 'id': 2}]\n",
            "[{'file_name': 'dummy_1.png', 'height': 512, 'width': 512, 'id': 1}]\n",
            "Num Circle: 1\n",
            "Num Circle+Rect: 2\n",
            "Num Anns: 5\n",
            "[{'segmentation': [], 'area': 2116, 'iscrowd': 0, 'image_id': 1, 'bbox': [342, 7, 46, 46], 'category_id': 0, 'id': 1}, {'segmentation': [], 'area': 1024, 'iscrowd': 0, 'image_id': 1, 'bbox': [449, 325, 32, 32], 'category_id': 1, 'id': 2}, {'segmentation': [], 'area': 3364, 'iscrowd': 0, 'image_id': 2, 'bbox': [296, 59, 58, 58], 'category_id': 0, 'id': 3}, {'segmentation': [], 'area': 1024, 'iscrowd': 0, 'image_id': 2, 'bbox': [182, 361, 32, 32], 'category_id': 1, 'id': 4}]\n",
            "[{'file_name': 'dummy_1.png', 'height': 512, 'width': 512, 'id': 1}, {'file_name': 'dummy_2.png', 'height': 512, 'width': 512, 'id': 2}]\n"
          ]
        }
      ],
      "source": [
        "s = ShapeDataset(n_images = 2,n_circles=1,n_rectangles=1)\n",
        "s.gen_dataset()"
      ]
    },
    {
      "cell_type": "code",
      "execution_count": 8,
      "metadata": {
        "id": "cfZsQyr1k2P9"
      },
      "outputs": [],
      "source": []
    },
    {
      "cell_type": "code",
      "execution_count": 9,
      "metadata": {
        "colab": {
          "base_uri": "https://localhost:8080/",
          "height": 286
        },
        "id": "ef3ylVWRk2P9",
        "outputId": "7de9f4e8-1d46-426c-a76c-ac086e5cdb9a"
      },
      "outputs": [
        {
          "data": {
            "text/plain": [
              "<matplotlib.image.AxesImage at 0x7f9d8919bf90>"
            ]
          },
          "execution_count": 9,
          "metadata": {},
          "output_type": "execute_result"
        },
        {
          "data": {
            "image/png": "[encoded data removed]",
            "text/plain": [
              "<Figure size 432x288 with 1 Axes>"
            ]
          },
          "metadata": {
            "needs_background": "light"
          },
          "output_type": "display_data"
        }
      ],
      "source": [
        "im = Image.open('dummy_2.png')\n",
        "plt.imshow(im)"
      ]
    },
    {
      "cell_type": "code",
      "execution_count": 17,
      "metadata": {
        "colab": {
          "base_uri": "https://localhost:8080/"
        },
        "id": "JBzgial9k2P9",
        "outputId": "7b795fce-c3b5-4e76-c0d5-48c7fce7c5ad"
      },
      "outputs": [
        {
          "name": "stdout",
          "output_type": "stream",
          "text": [
            "label_map: {0: 0, 1: 1}\n",
            "label_map: {0: 0, 1: 1}\n"
          ]
        },
        {
          "name": "stderr",
          "output_type": "stream",
          "text": [
            "/usr/local/lib/python3.7/dist-packages/torch/utils/data/dataloader.py:566: UserWarning: This DataLoader will create 8 worker processes in total. Our suggested max number of worker in current system is 2, which is smaller than what this DataLoader is going to create. Please be aware that excessive worker creation might get DataLoader running slow or even freeze, lower the worker number to avoid potential slowness/freeze if necessary.\n",
            "  cpuset_checked))\n"
          ]
        }
      ],
      "source": [
        "ds = COCODetectionDataset(img_dir='/content/',\n",
        "                ann_json='/content/coco_shapes.json',\n",
        "                IMG_RESOLUTION=512,\n",
        "                transform=train_transform_norm)\n",
        "val_ds = COCODetectionDataset(img_dir='/content/',\n",
        "                ann_json='/content/coco_shapes.json',\n",
        "                IMG_RESOLUTION=512,\n",
        "                transform=validation_transform_norm)\n",
        "train_loader = torch.utils.data.DataLoader(ds,\n",
        "                                        batch_size=2,\n",
        "                                        shuffle=True,\n",
        "                                        num_workers=8,\n",
        "                                        pin_memory=True,\n",
        "                                        collate_fn = coco_detection_collate_fn)\n",
        "val_loader = torch.utils.data.DataLoader(ds,\n",
        "                                        batch_size=1,\n",
        "                                        shuffle=False,\n",
        "                                        num_workers=0,\n",
        "                                        pin_memory=True,\n",
        "                                        collate_fn = coco_detection_collate_fn)\n"
      ]
    },
    {
      "cell_type": "code",
      "execution_count": 18,
      "metadata": {
        "colab": {
          "base_uri": "https://localhost:8080/"
        },
        "id": "Nty85YMBk2P-",
        "outputId": "042aaf8a-28d9-466c-c48b-28f950b9a513"
      },
      "outputs": [
        {
          "data": {
            "text/plain": [
              "2"
            ]
          },
          "execution_count": 18,
          "metadata": {},
          "output_type": "execute_result"
        }
      ],
      "source": [
        "len(ds)"
      ]
    },
    {
      "cell_type": "code",
      "execution_count": 19,
      "metadata": {
        "colab": {
          "base_uri": "https://localhost:8080/",
          "height": 495
        },
        "id": "0vyN5T3kk2P-",
        "outputId": "6a0a7758-155c-4206-f5ff-0d8224426035"
      },
      "outputs": [
        {
          "data": {
            "image/png": "[encoded data removed]",
            "text/plain": [
              "<Figure size 432x288 with 1 Axes>"
            ]
          },
          "metadata": {
            "needs_background": "light"
          },
          "output_type": "display_data"
        },
        {
          "data": {
            "image/png": "[encoded data removed]",
            "text/plain": [
              "<Figure size 432x288 with 1 Axes>"
            ]
          },
          "metadata": {
            "needs_background": "light"
          },
          "output_type": "display_data"
        }
      ],
      "source": [
        "img, hm, reg, wh,reg_mask,inds, in_size, out_size, intermediate_size, scale, boxes_aug, target= ds[0]\n",
        "mean = np.array([0.485, 0.456, 0.406], dtype=np.float32)\n",
        "std = np.array([0.229, 0.224, 0.225], dtype=np.float32)\n",
        "img_u = img.transpose(1,2,0)*std + mean# unnormalize\n",
        "# img = img \n",
        "plt.imshow(img_u)\n",
        "plt.title(\"Resized image\")\n",
        "\n",
        "plt.show()\n",
        "c,h,w = hm.shape\n",
        "nrows = 1\n",
        "ncols = 2\n",
        "hm_u = hm.reshape(nrows, ncols, h, w).swapaxes(1,2).reshape(h*nrows, w*ncols)\n",
        "# hm_u = hm.transpose(1,2,0)\n",
        "plt.imshow(hm_u,cmap='gray')\n",
        "plt.title(\"Heatmap targets (2x128x128)\")\n",
        "plt.show()"
      ]
    },
    {
      "cell_type": "markdown",
      "metadata": {
        "id": "Si7zw5Dak2P_"
      },
      "source": [
        "# Background"
      ]
    },
    {
      "cell_type": "markdown",
      "metadata": {
        "id": "Mi4IkmXVk2P_"
      },
      "source": [
        "## Single Stage vs Two Stage\n",
        "<a id='single-vs-two-stage'></a>"
      ]
    },
    {
      "cell_type": "markdown",
      "metadata": {
        "id": "lrVjCeZsk2P_"
      },
      "source": []
    },
    {
      "cell_type": "markdown",
      "metadata": {
        "id": "TdUgjMguk2P_"
      },
      "source": [
        "## Centernet"
      ]
    },
    {
      "cell_type": "markdown",
      "metadata": {
        "id": "t3Q9gIwmk2P_"
      },
      "source": []
    },
    {
      "cell_type": "markdown",
      "metadata": {
        "id": "VjR9TRsdk2QA"
      },
      "source": []
    },
    {
      "cell_type": "markdown",
      "metadata": {
        "id": "R1khTOVDk2QA"
      },
      "source": [
        "# Preprocessing"
      ]
    },
    {
      "cell_type": "markdown",
      "metadata": {
        "id": "Ny2ZDKBXk2QA"
      },
      "source": [
        "## Encode Class Keypoints"
      ]
    },
    {
      "cell_type": "markdown",
      "metadata": {
        "id": "77wzduU-k2QA"
      },
      "source": [
        "```python\n",
        "def draw_umich_gaussian(heatmap, center, radius, k=1):\n",
        "  diameter = 2 * radius + 1\n",
        "  gaussian = gaussian2D((diameter, diameter), sigma=diameter / 6)\n",
        "  \n",
        "  x, y = int(center[0]), int(center[1])\n",
        "\n",
        "  height, width = heatmap.shape[0:2]\n",
        "    \n",
        "  left, right = min(x, radius), min(width - x, radius + 1)\n",
        "  top, bottom = min(y, radius), min(height - y, radius + 1)\n",
        "\n",
        "  masked_heatmap  = heatmap[y - top:y + bottom, x - left:x + right]\n",
        "  masked_gaussian = gaussian[radius - top:radius + bottom, radius - left:radius + right]\n",
        "  if min(masked_gaussian.shape) > 0 and min(masked_heatmap.shape) > 0: # TODO debug\n",
        "    np.maximum(masked_heatmap, masked_gaussian * k, out=masked_heatmap)\n",
        "  return heatmap\n",
        "```"
      ]
    },
    {
      "cell_type": "markdown",
      "metadata": {
        "id": "naG5yyGzk2QA"
      },
      "source": [
        "## Encoding bounding boxes"
      ]
    },
    {
      "cell_type": "markdown",
      "metadata": {
        "id": "PYza21GMk2QA"
      },
      "source": [
        "```python\n",
        "centers = np.array([bboxes[:,0]+bboxes[:,2]//2,bboxes[:,1]+bboxes[:,3]//2,bboxes[:,2],bboxes[:,3]]).T\n",
        "for ind,(c,l )in enumerate(zip(centers,classes)):\n",
        "    h, w = c[3]/MODEL_SCALE, c[2]/MODEL_SCALE\n",
        "    radius = gaussian_radius((math.ceil(h), math.ceil(w)))\n",
        "    radius = max(0, int(radius))\n",
        "    # print(\"radius:\", radius)\n",
        "    draw_umich_gaussian(hm[l], [int(c[0])//MODEL_SCALE,int(c[1])//MODEL_SCALE], \n",
        "                            radius)\n",
        "    # draw_msra_gaussian(hm[l], [int(c[0])//MODEL_SCALE,int(c[1])//MODEL_SCALE], \n",
        "    #                         radius)\n",
        "    reg_mask[ind] = 1\n",
        "    wh[ind] = c[2:]/input_size\n",
        "    draw_dense_reg(reg,hm[l],c[:2]//MODEL_SCALE,wh[ind],radius)\n",
        "    inds[ind] = (int(c[1])//MODEL_SCALE)*feature_scale + (int(c[0])//MODEL_SCALE)\n",
        "```"
      ]
    },
    {
      "cell_type": "markdown",
      "metadata": {
        "id": "rAKTZm8sk2QA"
      },
      "source": [
        "## Encode Width and Height Regression"
      ]
    },
    {
      "cell_type": "markdown",
      "metadata": {
        "id": "bdyNIPItk2QA"
      },
      "source": [
        "```python\n",
        "def draw_dense_reg(regmap, heatmap, center, value, radius, is_offset=False):\n",
        "  diameter = 2 * radius + 1\n",
        "  gaussian = gaussian2D((diameter, diameter), sigma=diameter / 6)\n",
        "  value = np.array(value, dtype=np.float32).reshape(-1, 1, 1)\n",
        "\n",
        "  dim = value.shape[0]\n",
        "  reg = np.ones((dim, diameter*2+1, diameter*2+1), dtype=np.float32) * value\n",
        "\n",
        "  if is_offset and dim == 2:\n",
        "    delta = np.arange(diameter*2+1) - radius\n",
        "    reg[0] = reg[0] - delta.reshape(1, -1)\n",
        "    reg[1] = reg[1] - delta.reshape(-1, 1)\n",
        "  \n",
        "  x, y = int(center[0]), int(center[1])\n",
        "\n",
        "  height, width = heatmap.shape[0:2]\n",
        "\n",
        "  left, right = min(x, radius), min(width - x, radius + 1)\n",
        "  top, bottom = min(y, radius), min(height - y, radius + 1)\n",
        "\n",
        "  masked_heatmap = heatmap[y - top:y + bottom, x - left:x + right]\n",
        "  masked_regmap = regmap[:, y - top:y + bottom, x - left:x + right]\n",
        "  masked_gaussian = gaussian[radius - top:radius + bottom,\n",
        "                             radius - left:radius + right]\n",
        "  masked_reg = reg[:, radius - top:radius + bottom,\n",
        "                      radius - left:radius + right]\n",
        "\n",
        "  if min(masked_gaussian.shape) > 0 and min(masked_heatmap.shape) > 0: # TODO debug\n",
        "    idx = (masked_gaussian >= masked_heatmap).reshape(\n",
        "      1, masked_gaussian.shape[0], masked_gaussian.shape[1])\n",
        "    masked_regmap = (1-idx) * masked_regmap + idx * masked_reg\n",
        "  regmap[:, y - top:y + bottom, x - left:x + right] = masked_regmap\n",
        "  return regmap\n",
        "```"
      ]
    },
    {
      "cell_type": "markdown",
      "metadata": {
        "id": "gBYJaFEwk2QA"
      },
      "source": [
        "# Model Architecture"
      ]
    },
    {
      "cell_type": "markdown",
      "metadata": {
        "id": "TB29n4jAk2QB"
      },
      "source": [
        "\n",
        "## Backbone"
      ]
    },
    {
      "cell_type": "markdown",
      "metadata": {
        "id": "YkjuudNJk2QB"
      },
      "source": [
        "```python\n",
        "if model_name == 'mv3':\n",
        "            basemodel = torchvision.models.mobilenet_v3_small(pretrained=True)\n",
        "            num_ch = 576\n",
        "elif model_name == 'resnet18':\n",
        "            basemodel = torchvision.models.resnet18(pretrained=True)\n",
        "            num_ch = 512\n",
        "basemodel = nn.Sequential(*list(basemodel.children())[:-2])\n",
        "# set basemodel\n",
        "self.base_model = basemodel\n",
        "# Neck\n",
        "self.up1 = up(num_ch, 512,bilinear=True)\n",
        "self.up2 = up(512, 256,bilinear=True)\n",
        "self.up3 = up(256, 256,bilinear=True)\n",
        "```"
      ]
    },
    {
      "cell_type": "markdown",
      "metadata": {
        "id": "AYDb_h1qk2QB"
      },
      "source": [
        "## Class Head and Regression Head"
      ]
    },
    {
      "cell_type": "markdown",
      "metadata": {
        "id": "uDJdaQLok2QB"
      },
      "source": [
        "```python\n",
        "\n",
        "# output classification\n",
        "self.outc = nn.Conv2d(256, n_classes, 1)\n",
        "\n",
        "self.outr = nn.Conv2d(256, 2, 1)\n",
        "```"
      ]
    },
    {
      "cell_type": "markdown",
      "metadata": {
        "id": "GFdXcl0jk2QB"
      },
      "source": [
        "## Initalization of conv layers in Neck for Focal Loss"
      ]
    },
    {
      "cell_type": "markdown",
      "metadata": {
        "id": "0iRthNXek2QB"
      },
      "source": [
        "```python\n",
        "'''\n",
        "Author of focal loss:  all new conv layers except the \n",
        "final layer, subnets are initalized  with bias b=0 and\n",
        "a Gaussian weight filled with sigma=0.01\n",
        "\n",
        "Weight init improves training stability for both the \n",
        "cross entropy and focal loss in the case of heavy class\n",
        "imbalance\n",
        "'''\n",
        "for m in self.conv.modules():\n",
        "    if isinstance(m,nn.Conv2d):\n",
        "        nn.init.normal_(m.weight,std=0.01)\n",
        "        if m.bias is not None:\n",
        "            nn.init.constant_(m.bias,0)\n",
        "```"
      ]
    },
    {
      "cell_type": "markdown",
      "metadata": {
        "id": "DfVS67zDk2QB"
      },
      "source": [
        "## Initalization of Layers in Head for Focal Loss"
      ]
    },
    {
      "cell_type": "markdown",
      "metadata": {
        "id": "5b5JQHwck2QB"
      },
      "source": [
        "```python\n",
        "'''\n",
        "Author: the final conv later set the bias\n",
        "initalization to log((1-pi)/pi)\n",
        "pi specifies that at the start of training,\n",
        "every anchor should be labeled as foreground\n",
        "with confidence of about pi. pi is a variable that is 0.01\n",
        "\n",
        "This initalization prevents a large number of background \n",
        "anchors from generating a large destabalizing loss value in the\n",
        "in the first iteration of training\n",
        "'''\n",
        "self.outc.bias.data.fill_(-2.19)\n",
        "# output residue\n",
        "self.outr.bias.data.fill_(-2.19)\n",
        "def forward(self, x):\n",
        "batch_size = x.shape[0]\n",
        "x = self.base_model(x) \n",
        "\n",
        "x = self.up1(x)\n",
        "x = self.up2(x)\n",
        "x = self.up3(x)\n",
        "outc = self.outc(x)\n",
        "outr = self.outr(x)\n",
        "return outc, outr\n",
        "```"
      ]
    },
    {
      "cell_type": "code",
      "execution_count": 20,
      "metadata": {
        "colab": {
          "base_uri": "https://localhost:8080/",
          "height": 156,
          "referenced_widgets": [
            "0a4a8acbde464f2285fbe30bfc7f67b2",
            "ef4f9751fa684027b53a6b43e67db3ce",
            "52708f5bd35446cb85e3192930733496",
            "26b4380f7dcd4c489584c3ad3c85cfb7",
            "68cf1382ddc84a19be3aa36bb2e1df94",
            "5ee208cf00d84834936cec542eace6d0",
            "5564d9313d7a40048ae095dc25af1c45",
            "78f8e22dc77b41e1a5691fffb42bc7dd",
            "533c9831172e4d6297498117ee148fd0",
            "8115b3fe1ff647e9a91fa4428e6f780a",
            "59aaae22532a4857920d7b03d341d778"
          ]
        },
        "id": "bYl9Y_CJk2QB",
        "outputId": "a3f9ca81-4cf5-4a91-de21-e370bcd49d41"
      },
      "outputs": [
        {
          "name": "stderr",
          "output_type": "stream",
          "text": [
            "/usr/local/lib/python3.7/dist-packages/torchvision/models/_utils.py:209: UserWarning: The parameter 'pretrained' is deprecated since 0.13 and will be removed in 0.15, please use 'weights' instead.\n",
            "  f\"The parameter '{pretrained_param}' is deprecated since 0.13 and will be removed in 0.15, \"\n",
            "/usr/local/lib/python3.7/dist-packages/torchvision/models/_utils.py:223: UserWarning: Arguments other than a weight enum or `None` for 'weights' are deprecated since 0.13 and will be removed in 0.15. The current behavior is equivalent to passing `weights=MobileNet_V3_Small_Weights.IMAGENET1K_V1`. You can also use `weights=MobileNet_V3_Small_Weights.DEFAULT` to get the most up-to-date weights.\n",
            "  warnings.warn(msg)\n",
            "Downloading: \"https://download.pytorch.org/models/mobilenet_v3_small-047dcff4.pth\" to /root/.cache/torch/hub/checkpoints/mobilenet_v3_small-047dcff4.pth\n"
          ]
        },
        {
          "data": {
            "application/vnd.jupyter.widget-view+json": {
              "model_id": "0a4a8acbde464f2285fbe30bfc7f67b2",
              "version_major": 2,
              "version_minor": 0
            },
            "text/plain": [
              "  0%|          | 0.00/9.83M [00:00<?, ?B/s]"
            ]
          },
          "metadata": {},
          "output_type": "display_data"
        }
      ],
      "source": [
        "model = centernet(ds.num_classes,model_name='mv3')"
      ]
    },
    {
      "cell_type": "markdown",
      "metadata": {
        "id": "czCVk_AIk2QB"
      },
      "source": [
        "# Loss Function"
      ]
    },
    {
      "cell_type": "markdown",
      "metadata": {
        "id": "fUfCJDwik2QB",
        "vscode": {
          "languageId": "latex"
        }
      },
      "source": [
        "# Focal Loss\n",
        "$$\n",
        "L_k = \\frac{-1}{N} \\sum_{xyc}\n",
        "\\begin{cases}\n",
        "(1 - \\hat{Y}_{xyc})^{\\alpha} \n",
        "        \\log(\\hat{Y}_{xyc})  & \\text{ if } Y_{xyc}=1 \\\\\n",
        "\\begin{array}{c}\n",
        "        (1-Y_{xyc})^{\\beta} \n",
        "        (\\hat{Y}_{xyc})^{\\alpha}\\\\\n",
        "        \\log(1-\\hat{Y}_{xyc})\n",
        "        \\end{array} & \\text{ otherwise }\n",
        "\\end{cases}\n",
        "$$"
      ]
    },
    {
      "cell_type": "markdown",
      "metadata": {
        "id": "zYDwPq-jk2QC"
      },
      "source": [
        "```python \n",
        "def focal_loss(pred, gt):\n",
        "  ''' Modified focal loss.\n",
        "    Arguments:\n",
        "      pred (batch x h x w)\n",
        "      gt (batch  x h x w)\n",
        "  '''\n",
        "  pos_inds = gt.eq(1).float()\n",
        "  neg_inds = gt.lt(1).float()\n",
        "  neg_weights = torch.pow(1 - gt, 4)\n",
        "\n",
        "  loss = 0\n",
        "  prob_pred = F.sigmoid(pred)\n",
        "  pos_loss = F.logsigmoid(pred) * torch.pow(1 - prob_pred, 2) * pos_inds\n",
        "  neg_loss = F.logsigmoid(1 - pred) * torch.pow(prob_pred, 2) * neg_inds *  neg_weights \n",
        "\n",
        "  num_pos  = pos_inds.float().sum()\n",
        "  pos_loss = pos_loss.sum()\n",
        "  neg_loss = neg_loss.sum()\n",
        "\n",
        "  if num_pos == 0:\n",
        "    loss = loss - neg_loss\n",
        "  else:\n",
        "    loss =  loss - (pos_loss + neg_loss) / (num_pos+1e-4)\n",
        "  return loss\n",
        "  ```"
      ]
    },
    {
      "cell_type": "markdown",
      "metadata": {
        "id": "ffcRljPsk2QC"
      },
      "source": [
        "# Regression Loss\n",
        "$$\n",
        "L_{size} = \\frac{1}{N}\\sum_{k=1}^{N} \\left|\\hat S_{p_k} - s_k\\right|.\n",
        "$$"
      ]
    },
    {
      "cell_type": "markdown",
      "metadata": {
        "id": "J5V1n9eOk2QC"
      },
      "source": [
        "```python\n",
        "def reg_loss(regr, gt_regr, mask):\n",
        "  ''' L1 regression loss\n",
        "    Arguments:\n",
        "      regr (batch x max_objects x dim)\n",
        "      gt_regr (batch x max_objects x dim)\n",
        "      mask (batch x max_objects)\n",
        "  '''\n",
        "  num = mask.float().sum()\n",
        "  mask = mask.unsqueeze(2).expand_as(gt_regr).float()\n",
        "\n",
        "  regr = regr * mask\n",
        "  gt_regr = gt_regr * mask\n",
        "\n",
        "  regr_loss = nn.functional.l1_loss(regr, gt_regr, size_average=False)\n",
        "  regr_loss = regr_loss / (num + 1e-4)\n",
        "  return regr_loss\n",
        "  ````"
      ]
    },
    {
      "cell_type": "markdown",
      "metadata": {
        "id": "DnhIv91ok2QC"
      },
      "source": [
        "# Prepare and Train Training Model"
      ]
    },
    {
      "cell_type": "markdown",
      "metadata": {
        "id": "ncIJR67uk2QC"
      },
      "source": []
    },
    {
      "cell_type": "code",
      "execution_count": null,
      "metadata": {
        "colab": {
          "base_uri": "https://localhost:8080/"
        },
        "id": "Tod4TUMMk2QC",
        "outputId": "87ce2f7e-d6f7-4c46-f97e-07e4dbcf3797"
      },
      "outputs": [
        {
          "name": "stderr",
          "output_type": "stream",
          "text": [
            "\r  0%|          | 0/150 [00:00<?, ?it/s]/usr/local/lib/python3.7/dist-packages/torch/nn/functional.py:1960: UserWarning: nn.functional.sigmoid is deprecated. Use torch.sigmoid instead.\n",
            "  warnings.warn(\"nn.functional.sigmoid is deprecated. Use torch.sigmoid instead.\")\n",
            "/usr/local/lib/python3.7/dist-packages/torch/nn/_reduction.py:42: UserWarning: size_average and reduce args will be deprecated, please use reduction='sum' instead.\n",
            "  warnings.warn(warning.format(ret))\n",
            "  1%|          | 1/150 [00:08<21:01,  8.47s/it]"
          ]
        },
        {
          "name": "stdout",
          "output_type": "stream",
          "text": [
            "Epoch 0 - Min conf: 0.0007328987121582031, Median conf: 0.2503795623779297, Max conf: 1.3190257549285889\n",
            "Epoch 0 - Loss: 16.407800674438477, Mask Loss: 12.480266571044922, Reg Loss: 3.9275341033935547\n"
          ]
        },
        {
          "name": "stderr",
          "output_type": "stream",
          "text": [
            "\r  1%|▏         | 2/150 [00:13<15:29,  6.28s/it]"
          ]
        },
        {
          "name": "stdout",
          "output_type": "stream",
          "text": [
            "Epoch 1 - Min conf: 0, Median conf: 0, Max conf: 0\n",
            "Epoch 1 - Loss: 42.03006362915039, Mask Loss: 40.41627502441406, Reg Loss: 1.6137902736663818\n"
          ]
        },
        {
          "name": "stderr",
          "output_type": "stream",
          "text": [
            "\r  2%|▏         | 3/150 [00:17<13:41,  5.59s/it]"
          ]
        },
        {
          "name": "stdout",
          "output_type": "stream",
          "text": [
            "Epoch 2 - Min conf: 0.007661581039428711, Median conf: 0.23943305015563965, Max conf: 0.46685194969177246\n",
            "Epoch 2 - Loss: 22.268512725830078, Mask Loss: 19.10971450805664, Reg Loss: 3.1587984561920166\n"
          ]
        },
        {
          "name": "stderr",
          "output_type": "stream",
          "text": [
            "\r  3%|▎         | 4/150 [00:22<12:47,  5.26s/it]"
          ]
        },
        {
          "name": "stdout",
          "output_type": "stream",
          "text": [
            "Epoch 3 - Min conf: 0, Median conf: 0, Max conf: 0\n",
            "Epoch 3 - Loss: 18.050132751464844, Mask Loss: 15.927123069763184, Reg Loss: 2.12300968170166\n"
          ]
        },
        {
          "name": "stderr",
          "output_type": "stream",
          "text": [
            "\r  3%|▎         | 5/150 [00:28<13:05,  5.41s/it]"
          ]
        },
        {
          "name": "stdout",
          "output_type": "stream",
          "text": [
            "Epoch 4 - Min conf: 0, Median conf: 0, Max conf: 0\n",
            "Epoch 4 - Loss: 14.300559997558594, Mask Loss: 11.40742015838623, Reg Loss: 2.893139362335205\n"
          ]
        },
        {
          "name": "stderr",
          "output_type": "stream",
          "text": [
            "\r  4%|▍         | 6/150 [00:33<12:28,  5.20s/it]"
          ]
        }
      ],
      "source": [
        "# LR = 1e-4\n",
        "LR = 2.5e-4*2\n",
        "model_mv3, losses, mask_losses, regr_losses, min_confidences, median_confidences, max_confidences = train('mv3',\n",
        "                                                                                                          ds.num_classes,\n",
        "                                                                                                          learn_rate=LR,\n",
        "                                                                                                          epochs=150,\n",
        "                                                                                                          train_loader=train_loader,\n",
        "                                                                                                          val_loader=val_loader)"
      ]
    },
    {
      "cell_type": "code",
      "execution_count": null,
      "metadata": {
        "id": "Z2kLNjf6k2QC"
      },
      "outputs": [],
      "source": [
        "len(losses)"
      ]
    },
    {
      "cell_type": "code",
      "execution_count": null,
      "metadata": {
        "id": "MfDGtQOgk2QC"
      },
      "outputs": [],
      "source": [
        "# LR = 2.5e-4*2\n",
        "model_resnet18, losses_resnet18, mask_losses_resnet18, regr_losses_resnet18 = train('resnet18',\n",
        "                                                                                    ds.num_classes,\n",
        "                                                                                    learn_rate=1e-4,\n",
        "                                                                                    epochs=50,\n",
        "                                                                                    train_loader=train_loader,\n",
        "                                                                                    val_loader=val_loader)\n"
      ]
    },
    {
      "cell_type": "markdown",
      "metadata": {
        "id": "hONnAPryk2QC"
      },
      "source": [
        "# Visualize Loss Curves"
      ]
    },
    {
      "cell_type": "code",
      "execution_count": null,
      "metadata": {
        "id": "AW3ynC2_k2QC",
        "outputId": "58893a8e-81d9-49ac-f223-a3bd1f84b131"
      },
      "outputs": [
        {
          "data": {
            "image/png": "[encoded data removed]",
            "text/plain": [
              "<Figure size 640x480 with 1 Axes>"
            ]
          },
          "metadata": {},
          "output_type": "display_data"
        }
      ],
      "source": [
        "import matplotlib.pyplot as plt\n",
        "plt.plot(range(len(losses)),losses )\n",
        "plt.plot(range(len(losses)),mask_losses)\n",
        "plt.plot(range(len(losses)),regr_losses)\n",
        "plt.title(\"centernet (mobilenetv3 backbone) training\")\n",
        "plt.legend(['loss','mask loss','regression loss'])\n",
        "plt.show()"
      ]
    },
    {
      "cell_type": "markdown",
      "metadata": {
        "id": "sYaQtvmXk2QD"
      },
      "source": [
        "## Visualize Confidence Scores over training"
      ]
    },
    {
      "cell_type": "code",
      "execution_count": null,
      "metadata": {
        "id": "OHf7fDNkk2QD"
      },
      "outputs": [],
      "source": [
        "plt.plot(range(len(min_confidences)),min_confidences )\n",
        "plt.plot(range(len(median_confidences)),median_confidences)\n",
        "plt.plot(range(len(max_confidences)),max_confidences)\n",
        "plt.title(\"confidence scores for centernet (mv3 backbone) during training\")\n",
        "plt.legend(['min_confidences','median_confidences','max_confidences'])\n",
        "plt.show()"
      ]
    },
    {
      "cell_type": "markdown",
      "metadata": {
        "id": "CO32OVhyk2QD"
      },
      "source": [
        "## Visualize Training Loss for Resnet18"
      ]
    },
    {
      "cell_type": "code",
      "execution_count": null,
      "metadata": {
        "id": "daDoNs2Ak2QD",
        "outputId": "1a36e516-750b-4faa-b8ac-431cf111ed59"
      },
      "outputs": [
        {
          "data": {
            "image/png": "[encoded data removed]",
            "text/plain": [
              "<Figure size 640x480 with 1 Axes>"
            ]
          },
          "metadata": {},
          "output_type": "display_data"
        }
      ],
      "source": [
        "plt.plot(range(len(losses_resnet18)),losses_resnet18 )\n",
        "plt.plot(range(len(losses_resnet18)),mask_losses_resnet18)\n",
        "plt.plot(range(len(losses_resnet18)),regr_losses_resnet18)\n",
        "plt.title(\"centernet (resnet18 backbone) training\")\n",
        "plt.legend(['loss','mask loss','regression loss'])\n",
        "plt.show()"
      ]
    },
    {
      "cell_type": "code",
      "execution_count": null,
      "metadata": {
        "id": "hRDxEh49k2QD",
        "outputId": "0f19ae13-a96b-4a15-921b-29a9e8da6e68"
      },
      "outputs": [
        {
          "data": {
            "image/png": "[encoded data removed]",
            "text/plain": [
              "<Figure size 640x480 with 1 Axes>"
            ]
          },
          "metadata": {},
          "output_type": "display_data"
        }
      ],
      "source": [
        "plt.plot(range(len(losses)),losses )\n",
        "plt.plot(range(len(losses_resnet18)),losses_resnet18)\n",
        "plt.title(\"mv3 vs resnet18\")\n",
        "plt.legend(['mv3: loss','resnet18: loss'])\n",
        "plt.show()"
      ]
    },
    {
      "cell_type": "markdown",
      "metadata": {
        "id": "KXTU8Ilsk2QD"
      },
      "source": [
        "# Visualize Predictions"
      ]
    },
    {
      "cell_type": "code",
      "execution_count": null,
      "metadata": {
        "id": "XvAY0YFbk2QD"
      },
      "outputs": [],
      "source": [
        "# model_mv3(torch.rand(1,3,512,512))"
      ]
    },
    {
      "cell_type": "code",
      "execution_count": null,
      "metadata": {
        "id": "0czprakSk2QD",
        "outputId": "76f25cef-d1c0-4e7d-9886-b440f9a2f006"
      },
      "outputs": [
        {
          "name": "stdout",
          "output_type": "stream",
          "text": [
            "[[ 89.  67. 113.  90.]\n",
            " [ 26.  22.  28.  25.]\n",
            " [ 27.  22.  29.  25.]\n",
            " [ 25.  22.  27.  25.]\n",
            " [ 26.  21.  28.  23.]\n",
            " [ 27.  21.  29.  23.]\n",
            " [ 28.  22.  30.  25.]\n",
            " [ 28.  21.  31.  23.]\n",
            " [ 24.  21.  27.  23.]\n",
            " [ 29.  21.  32.  25.]\n",
            " [ 26.  21.  29.  21.]\n",
            " [ 27.  23.  29.  28.]\n",
            " [ 27.  21.  30.  22.]\n",
            " [ 25.  21.  28.  21.]\n",
            " [ 25.  23.  28.  28.]\n",
            " [ 28.  23.  30.  28.]\n",
            " [ 23.  22.  26.  25.]\n",
            " [ 22.  21.  26.  23.]\n",
            " [ 23.  21.  27.  21.]\n",
            " [ 28.  20.  32.  22.]]\n"
          ]
        }
      ],
      "source": [
        "model_mv3.eval()\n",
        "for img, hm, reg, wh,reg_mask,inds, in_size, out_size, intermediate_size, scale,boxes_aug, target in val_loader:\n",
        "        break\n",
        "\n",
        "pred_hm, pred_regs = model_mv3(img)# (4,1,128,128), (4,2,128,128)\n",
        "pred_hm = torch.sigmoid(pred_hm)\n",
        "# bboxes,scores,classes = pred2box_multiclass(pred_hm[0].cpu().data.numpy(),\n",
        "#                                                         pred_regs[0].cpu().detach().numpy(),128,1,thresh=0.0)\n",
        "bboxes,scores,classes = pred2box_multiclass(pred_hm[0].data.numpy(),pred_regs[0].data.numpy(),128,1,thresh=0.15)\n",
        "bboxes,scores,classes =  filter_and_nms(bboxes,scores,classes,nms_threshold=0.45,n_top_scores=20)\n",
        "print(bboxes)"
      ]
    },
    {
      "cell_type": "code",
      "execution_count": null,
      "metadata": {
        "id": "g5LheN0vk2QD",
        "outputId": "4b374792-51fa-48fb-ff2a-ba5457b61768"
      },
      "outputs": [
        {
          "data": {
            "text/plain": [
              "torch.Size([1, 2, 128, 128])"
            ]
          },
          "execution_count": 62,
          "metadata": {},
          "output_type": "execute_result"
        }
      ],
      "source": [
        "hm.shape"
      ]
    },
    {
      "cell_type": "code",
      "execution_count": null,
      "metadata": {
        "id": "g_A2oE4mk2QD",
        "outputId": "6b8365c8-b844-4eae-a666-a62b972d2813"
      },
      "outputs": [
        {
          "data": {
            "image/png": "[encoded data removed]",
            "text/plain": [
              "<Figure size 640x480 with 1 Axes>"
            ]
          },
          "metadata": {},
          "output_type": "display_data"
        },
        {
          "data": {
            "image/png": "[encoded data removed]",
            "text/plain": [
              "<Figure size 640x480 with 1 Axes>"
            ]
          },
          "metadata": {},
          "output_type": "display_data"
        },
        {
          "data": {
            "image/png": "[encoded data removed]",
            "text/plain": [
              "<Figure size 640x480 with 1 Axes>"
            ]
          },
          "metadata": {},
          "output_type": "display_data"
        },
        {
          "data": {
            "image/png": "[encoded data removed]",
            "text/plain": [
              "<Figure size 640x480 with 1 Axes>"
            ]
          },
          "metadata": {},
          "output_type": "display_data"
        }
      ],
      "source": [
        "for i in range(hm.shape[1]):\n",
        "    hm_gt = hm[0].data.numpy()[i]\n",
        "    hm_pred = pred_hm[0].data.numpy()[i]\n",
        "    hm_pred = np.dstack([hm_pred*255]*3).astype(np.uint8)\n",
        "    for b,c in zip(bboxes,classes):\n",
        "        if c == i:\n",
        "            x,y,x2,y2 = [int(k) for k in b]\n",
        "            # print(x,y)\n",
        "            cv2.rectangle(hm_pred,(x,y),(x2,y2),(255,0,0),1)\n",
        "        \n",
        "    plt.imshow(hm_gt,cmap='gray')\n",
        "    plt.title(\"GT centerpoints of Class {}\".format(i))\n",
        "    plt.show()\n",
        "    plt.imshow(hm_pred)\n",
        "    plt.title(\"prediction centerpoints for Class {} from model\".format(i))\n",
        "    plt.show()\n"
      ]
    },
    {
      "cell_type": "code",
      "execution_count": null,
      "metadata": {
        "id": "d8dr0NgKk2QD"
      },
      "outputs": [],
      "source": []
    }
  ],
  "metadata": {
    "accelerator": "GPU",
    "colab": {
      "provenance": []
    },
    "gpuClass": "standard",
    "kernelspec": {
      "display_name": "Python 3.8.13 64-bit ('centernet-tutorial')",
      "language": "python",
      "name": "python3"
    },
    "language_info": {
      "codemirror_mode": {
        "name": "ipython",
        "version": 3
      },
      "file_extension": ".py",
      "mimetype": "text/x-python",
      "name": "python",
      "nbconvert_exporter": "python",
      "pygments_lexer": "ipython3",
      "version": "3.8.13"
    },
    "orig_nbformat": 4,
    "vscode": {
      "interpreter": {
        "hash": "8c4847ba61354b9a2a97e4fd433e47cbf0c145ba9857abc70eb1f83b10d073fa"
      }
    },
    "widgets": {
      "application/vnd.jupyter.widget-state+json": {
        "0a4a8acbde464f2285fbe30bfc7f67b2": {
          "model_module": "@jupyter-widgets/controls",
          "model_module_version": "1.5.0",
          "model_name": "HBoxModel",
          "state": {
            "_dom_classes": [],
            "_model_module": "@jupyter-widgets/controls",
            "_model_module_version": "1.5.0",
            "_model_name": "HBoxModel",
            "_view_count": null,
            "_view_module": "@jupyter-widgets/controls",
            "_view_module_version": "1.5.0",
            "_view_name": "HBoxView",
            "box_style": "",
            "children": [
              "IPY_MODEL_ef4f9751fa684027b53a6b43e67db3ce",
              "IPY_MODEL_52708f5bd35446cb85e3192930733496",
              "IPY_MODEL_26b4380f7dcd4c489584c3ad3c85cfb7"
            ],
            "layout": "IPY_MODEL_68cf1382ddc84a19be3aa36bb2e1df94"
          }
        },
        "26b4380f7dcd4c489584c3ad3c85cfb7": {
          "model_module": "@jupyter-widgets/controls",
          "model_module_version": "1.5.0",
          "model_name": "HTMLModel",
          "state": {
            "_dom_classes": [],
            "_model_module": "@jupyter-widgets/controls",
            "_model_module_version": "1.5.0",
            "_model_name": "HTMLModel",
            "_view_count": null,
            "_view_module": "@jupyter-widgets/controls",
            "_view_module_version": "1.5.0",
            "_view_name": "HTMLView",
            "description": "",
            "description_tooltip": null,
            "layout": "IPY_MODEL_8115b3fe1ff647e9a91fa4428e6f780a",
            "placeholder": "​",
            "style": "IPY_MODEL_59aaae22532a4857920d7b03d341d778",
            "value": " 9.83M/9.83M [00:00&lt;00:00, 30.4MB/s]"
          }
        },
        "52708f5bd35446cb85e3192930733496": {
          "model_module": "@jupyter-widgets/controls",
          "model_module_version": "1.5.0",
          "model_name": "FloatProgressModel",
          "state": {
            "_dom_classes": [],
            "_model_module": "@jupyter-widgets/controls",
            "_model_module_version": "1.5.0",
            "_model_name": "FloatProgressModel",
            "_view_count": null,
            "_view_module": "@jupyter-widgets/controls",
            "_view_module_version": "1.5.0",
            "_view_name": "ProgressView",
            "bar_style": "success",
            "description": "",
            "description_tooltip": null,
            "layout": "IPY_MODEL_78f8e22dc77b41e1a5691fffb42bc7dd",
            "max": 10306551,
            "min": 0,
            "orientation": "horizontal",
            "style": "IPY_MODEL_533c9831172e4d6297498117ee148fd0",
            "value": 10306551
          }
        },
        "533c9831172e4d6297498117ee148fd0": {
          "model_module": "@jupyter-widgets/controls",
          "model_module_version": "1.5.0",
          "model_name": "ProgressStyleModel",
          "state": {
            "_model_module": "@jupyter-widgets/controls",
            "_model_module_version": "1.5.0",
            "_model_name": "ProgressStyleModel",
            "_view_count": null,
            "_view_module": "@jupyter-widgets/base",
            "_view_module_version": "1.2.0",
            "_view_name": "StyleView",
            "bar_color": null,
            "description_width": ""
          }
        },
        "5564d9313d7a40048ae095dc25af1c45": {
          "model_module": "@jupyter-widgets/controls",
          "model_module_version": "1.5.0",
          "model_name": "DescriptionStyleModel",
          "state": {
            "_model_module": "@jupyter-widgets/controls",
            "_model_module_version": "1.5.0",
            "_model_name": "DescriptionStyleModel",
            "_view_count": null,
            "_view_module": "@jupyter-widgets/base",
            "_view_module_version": "1.2.0",
            "_view_name": "StyleView",
            "description_width": ""
          }
        },
        "59aaae22532a4857920d7b03d341d778": {
          "model_module": "@jupyter-widgets/controls",
          "model_module_version": "1.5.0",
          "model_name": "DescriptionStyleModel",
          "state": {
            "_model_module": "@jupyter-widgets/controls",
            "_model_module_version": "1.5.0",
            "_model_name": "DescriptionStyleModel",
            "_view_count": null,
            "_view_module": "@jupyter-widgets/base",
            "_view_module_version": "1.2.0",
            "_view_name": "StyleView",
            "description_width": ""
          }
        },
        "5ee208cf00d84834936cec542eace6d0": {
          "model_module": "@jupyter-widgets/base",
          "model_module_version": "1.2.0",
          "model_name": "LayoutModel",
          "state": {
            "_model_module": "@jupyter-widgets/base",
            "_model_module_version": "1.2.0",
            "_model_name": "LayoutModel",
            "_view_count": null,
            "_view_module": "@jupyter-widgets/base",
            "_view_module_version": "1.2.0",
            "_view_name": "LayoutView",
            "align_content": null,
            "align_items": null,
            "align_self": null,
            "border": null,
            "bottom": null,
            "display": null,
            "flex": null,
            "flex_flow": null,
            "grid_area": null,
            "grid_auto_columns": null,
            "grid_auto_flow": null,
            "grid_auto_rows": null,
            "grid_column": null,
            "grid_gap": null,
            "grid_row": null,
            "grid_template_areas": null,
            "grid_template_columns": null,
            "grid_template_rows": null,
            "height": null,
            "justify_content": null,
            "justify_items": null,
            "left": null,
            "margin": null,
            "max_height": null,
            "max_width": null,
            "min_height": null,
            "min_width": null,
            "object_fit": null,
            "object_position": null,
            "order": null,
            "overflow": null,
            "overflow_x": null,
            "overflow_y": null,
            "padding": null,
            "right": null,
            "top": null,
            "visibility": null,
            "width": null
          }
        },
        "68cf1382ddc84a19be3aa36bb2e1df94": {
          "model_module": "@jupyter-widgets/base",
          "model_module_version": "1.2.0",
          "model_name": "LayoutModel",
          "state": {
            "_model_module": "@jupyter-widgets/base",
            "_model_module_version": "1.2.0",
            "_model_name": "LayoutModel",
            "_view_count": null,
            "_view_module": "@jupyter-widgets/base",
            "_view_module_version": "1.2.0",
            "_view_name": "LayoutView",
            "align_content": null,
            "align_items": null,
            "align_self": null,
            "border": null,
            "bottom": null,
            "display": null,
            "flex": null,
            "flex_flow": null,
            "grid_area": null,
            "grid_auto_columns": null,
            "grid_auto_flow": null,
            "grid_auto_rows": null,
            "grid_column": null,
            "grid_gap": null,
            "grid_row": null,
            "grid_template_areas": null,
            "grid_template_columns": null,
            "grid_template_rows": null,
            "height": null,
            "justify_content": null,
            "justify_items": null,
            "left": null,
            "margin": null,
            "max_height": null,
            "max_width": null,
            "min_height": null,
            "min_width": null,
            "object_fit": null,
            "object_position": null,
            "order": null,
            "overflow": null,
            "overflow_x": null,
            "overflow_y": null,
            "padding": null,
            "right": null,
            "top": null,
            "visibility": null,
            "width": null
          }
        },
        "78f8e22dc77b41e1a5691fffb42bc7dd": {
          "model_module": "@jupyter-widgets/base",
          "model_module_version": "1.2.0",
          "model_name": "LayoutModel",
          "state": {
            "_model_module": "@jupyter-widgets/base",
            "_model_module_version": "1.2.0",
            "_model_name": "LayoutModel",
            "_view_count": null,
            "_view_module": "@jupyter-widgets/base",
            "_view_module_version": "1.2.0",
            "_view_name": "LayoutView",
            "align_content": null,
            "align_items": null,
            "align_self": null,
            "border": null,
            "bottom": null,
            "display": null,
            "flex": null,
            "flex_flow": null,
            "grid_area": null,
            "grid_auto_columns": null,
            "grid_auto_flow": null,
            "grid_auto_rows": null,
            "grid_column": null,
            "grid_gap": null,
            "grid_row": null,
            "grid_template_areas": null,
            "grid_template_columns": null,
            "grid_template_rows": null,
            "height": null,
            "justify_content": null,
            "justify_items": null,
            "left": null,
            "margin": null,
            "max_height": null,
            "max_width": null,
            "min_height": null,
            "min_width": null,
            "object_fit": null,
            "object_position": null,
            "order": null,
            "overflow": null,
            "overflow_x": null,
            "overflow_y": null,
            "padding": null,
            "right": null,
            "top": null,
            "visibility": null,
            "width": null
          }
        },
        "8115b3fe1ff647e9a91fa4428e6f780a": {
          "model_module": "@jupyter-widgets/base",
          "model_module_version": "1.2.0",
          "model_name": "LayoutModel",
          "state": {
            "_model_module": "@jupyter-widgets/base",
            "_model_module_version": "1.2.0",
            "_model_name": "LayoutModel",
            "_view_count": null,
            "_view_module": "@jupyter-widgets/base",
            "_view_module_version": "1.2.0",
            "_view_name": "LayoutView",
            "align_content": null,
            "align_items": null,
            "align_self": null,
            "border": null,
            "bottom": null,
            "display": null,
            "flex": null,
            "flex_flow": null,
            "grid_area": null,
            "grid_auto_columns": null,
            "grid_auto_flow": null,
            "grid_auto_rows": null,
            "grid_column": null,
            "grid_gap": null,
            "grid_row": null,
            "grid_template_areas": null,
            "grid_template_columns": null,
            "grid_template_rows": null,
            "height": null,
            "justify_content": null,
            "justify_items": null,
            "left": null,
            "margin": null,
            "max_height": null,
            "max_width": null,
            "min_height": null,
            "min_width": null,
            "object_fit": null,
            "object_position": null,
            "order": null,
            "overflow": null,
            "overflow_x": null,
            "overflow_y": null,
            "padding": null,
            "right": null,
            "top": null,
            "visibility": null,
            "width": null
          }
        },
        "ef4f9751fa684027b53a6b43e67db3ce": {
          "model_module": "@jupyter-widgets/controls",
          "model_module_version": "1.5.0",
          "model_name": "HTMLModel",
          "state": {
            "_dom_classes": [],
            "_model_module": "@jupyter-widgets/controls",
            "_model_module_version": "1.5.0",
            "_model_name": "HTMLModel",
            "_view_count": null,
            "_view_module": "@jupyter-widgets/controls",
            "_view_module_version": "1.5.0",
            "_view_name": "HTMLView",
            "description": "",
            "description_tooltip": null,
            "layout": "IPY_MODEL_5ee208cf00d84834936cec542eace6d0",
            "placeholder": "​",
            "style": "IPY_MODEL_5564d9313d7a40048ae095dc25af1c45",
            "value": "100%"
          }
        }
      }
    }
  },
  "nbformat": 4,
  "nbformat_minor": 0
}
