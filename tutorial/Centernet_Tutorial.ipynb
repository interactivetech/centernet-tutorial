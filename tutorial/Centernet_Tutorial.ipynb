{
 "cells": [
  {
   "cell_type": "code",
   "execution_count": 3,
   "metadata": {},
   "outputs": [],
   "source": [
    "%load_ext autoreload\n",
    "%autoreload 2"
   ]
  },
  {
   "cell_type": "code",
   "execution_count": 4,
   "metadata": {},
   "outputs": [],
   "source": [
    "import torch\n",
    "import sys\n",
    "sys.path.insert(0,'/Users/mendeza/Documents/projects/cent-tutorial/centernet-tutorial')\n",
    "from data_gen import ShapeDataset\n",
    "import matplotlib.pyplot as plt\n",
    "from PIL import Image\n",
    "from data import COCODetectionDataset, coco_detection_collate_fn, train_transform_norm, validation_transform_norm\n",
    "from tqdm import tqdm\n",
    "import numpy as np\n",
    "from model import centernet\n",
    "from loss import centerloss4\n",
    "from train import train\n",
    "from utils import pred2box_multiclass, filter_and_nms"
   ]
  },
  {
   "cell_type": "markdown",
   "metadata": {},
   "source": [
    "<h3> Table of Contents </h3>\n",
    "<ul>\n",
    "<li><a href=\"#Prelims\">Prelims</a></li>\n",
    "<li><a href=\"#Background\">Background</a><ul>\n",
    "<li><a href=\"#single-vs-two-stage\">Single Stage vs Two Stage</a></li>\n",
    "<li><a href=\"#Centernet\">Centernet</a></li>\n",
    "</ul>\n",
    "<li><a href=\"#Preprocessing\">Preprocessing</a></li>\n",
    "<ul>\n",
    "<li><a href=\"#Encode-Location-as-Gaussian-Keypoints\">Encode Location as Gaussian Keypoints</a></li>\n",
    "<li><a href=\"#Encode-Width-and-Height\">Encode Width and Height</a></li>\n",
    "</ul>\n",
    "<li><a href=\"#Model Architecture\">Model Architecture</a></li>\n",
    "<ul>\n",
    "<li><a href=\"#Backbone\">Backbone</a></li>\n",
    "<li><a href=\"#Class Head\">Class Head</a></li>\n",
    "<li><a href=\"#Regression Head\">Regression Head</a></li>\n",
    "<li><a href=\"#Initalization for Focal Loss\">Initalization for Focal Loss</a></li>\n",
    "</ul>\n",
    "<li><a href=\"#Loss Function\">Loss Function</a></li>\n",
    "<ul>\n",
    "<li><a href=\"#Focal Loss\">Focal Loss</a></li>\n",
    "<li><a href=\"#Regression Loss\">Regression Loss</a></li>\n",
    "</ul>\n",
    "<li><a href=\"#Prepare-Training-Model\">Prepare Training Model</a></li>\n",
    "<li><a href=\"#Train-Model\">Train Model</a></li>\n",
    "<li><a href=\"#Evaluate-Loss-Curves\">Evaluate Loss Curves</a></li>\n",
    "<li><a href=\"#Evaluate-Model-Predictions\">Evaluate Model Predictions</a></li>\n",
    "\n",
    "</ul>\n"
   ]
  },
  {
   "cell_type": "markdown",
   "metadata": {},
   "source": [
    "# Prelims\n",
    "\n",
    "Generate Dataset"
   ]
  },
  {
   "cell_type": "code",
   "execution_count": 5,
   "metadata": {},
   "outputs": [
    {
     "name": "stdout",
     "output_type": "stream",
     "text": [
      "Num Circle: 1\n",
      "Num Circle+Rect: 2\n",
      "Num Anns: 3\n",
      "[{'segmentation': [], 'area': 3844, 'iscrowd': 0, 'image_id': 1, 'bbox': [287, 142, 62, 62], 'category_id': 0, 'id': 1}, {'segmentation': [], 'area': 1024, 'iscrowd': 0, 'image_id': 1, 'bbox': [102, 41, 32, 32], 'category_id': 1, 'id': 2}]\n",
      "[{'file_name': 'dummy_1.png', 'height': 512, 'width': 512, 'id': 1}]\n",
      "Num Circle: 1\n",
      "Num Circle+Rect: 2\n",
      "Num Anns: 5\n",
      "[{'segmentation': [], 'area': 3844, 'iscrowd': 0, 'image_id': 1, 'bbox': [287, 142, 62, 62], 'category_id': 0, 'id': 1}, {'segmentation': [], 'area': 1024, 'iscrowd': 0, 'image_id': 1, 'bbox': [102, 41, 32, 32], 'category_id': 1, 'id': 2}, {'segmentation': [], 'area': 2116, 'iscrowd': 0, 'image_id': 2, 'bbox': [219, 297, 46, 46], 'category_id': 0, 'id': 3}, {'segmentation': [], 'area': 1024, 'iscrowd': 0, 'image_id': 2, 'bbox': [400, 417, 32, 32], 'category_id': 1, 'id': 4}]\n",
      "[{'file_name': 'dummy_1.png', 'height': 512, 'width': 512, 'id': 1}, {'file_name': 'dummy_2.png', 'height': 512, 'width': 512, 'id': 2}]\n"
     ]
    }
   ],
   "source": [
    "s = ShapeDataset(n_images = 2,n_circles=1,n_rectangles=1)\n",
    "s.gen_dataset()"
   ]
  },
  {
   "cell_type": "code",
   "execution_count": null,
   "metadata": {},
   "outputs": [],
   "source": []
  },
  {
   "cell_type": "code",
   "execution_count": 6,
   "metadata": {},
   "outputs": [
    {
     "data": {
      "text/plain": [
       "<matplotlib.image.AxesImage at 0x29f215730>"
      ]
     },
     "execution_count": 6,
     "metadata": {},
     "output_type": "execute_result"
    },
    {
     "data": {
      "image/png": "[encoded data removed]",
      "text/plain": [
       "<Figure size 640x480 with 1 Axes>"
      ]
     },
     "metadata": {},
     "output_type": "display_data"
    }
   ],
   "source": [
    "im = Image.open('dummy_1.png')\n",
    "plt.imshow(im)"
   ]
  },
  {
   "cell_type": "code",
   "execution_count": 7,
   "metadata": {},
   "outputs": [
    {
     "name": "stdout",
     "output_type": "stream",
     "text": [
      "label_map: {0: 0, 1: 1}\n",
      "label_map: {0: 0, 1: 1}\n"
     ]
    }
   ],
   "source": [
    "ds = COCODetectionDataset(img_dir='/Users/mendeza/Documents/projects/cent-tutorial/centernet-tutorial/tutorial',\n",
    "                ann_json='/Users/mendeza/Documents/projects/cent-tutorial/centernet-tutorial/tutorial/coco_shapes.json',\n",
    "                IMG_RESOLUTION=512,\n",
    "                transform=train_transform_norm)\n",
    "val_ds = COCODetectionDataset(img_dir='/Users/mendeza/Documents/projects/cent-tutorial/centernet-tutorial/tutorial',\n",
    "                ann_json='/Users/mendeza/Documents/projects/cent-tutorial/centernet-tutorial/tutorial/coco_shapes.json',\n",
    "                IMG_RESOLUTION=512,\n",
    "                transform=validation_transform_norm)\n",
    "train_loader = torch.utils.data.DataLoader(ds,\n",
    "                                        batch_size=2,\n",
    "                                        shuffle=True,\n",
    "                                        num_workers=8,\n",
    "                                        pin_memory=True,\n",
    "                                        collate_fn = coco_detection_collate_fn)\n",
    "val_loader = torch.utils.data.DataLoader(ds,\n",
    "                                        batch_size=1,\n",
    "                                        shuffle=False,\n",
    "                                        num_workers=0,\n",
    "                                        pin_memory=True,\n",
    "                                        collate_fn = coco_detection_collate_fn)\n"
   ]
  },
  {
   "cell_type": "code",
   "execution_count": 9,
   "metadata": {},
   "outputs": [
    {
     "data": {
      "text/plain": [
       "2"
      ]
     },
     "execution_count": 9,
     "metadata": {},
     "output_type": "execute_result"
    }
   ],
   "source": [
    "len(ds)"
   ]
  },
  {
   "cell_type": "code",
   "execution_count": 13,
   "metadata": {},
   "outputs": [
    {
     "data": {
      "image/png": "[encoded data removed]",
      "text/plain": [
       "<Figure size 640x480 with 1 Axes>"
      ]
     },
     "metadata": {},
     "output_type": "display_data"
    },
    {
     "data": {
      "image/png": "[encoded data removed]",
      "text/plain": [
       "<Figure size 640x480 with 1 Axes>"
      ]
     },
     "metadata": {},
     "output_type": "display_data"
    }
   ],
   "source": [
    "mean = np.array([0.485, 0.456, 0.406], dtype=np.float32)\n",
    "std = np.array([0.229, 0.224, 0.225], dtype=np.float32)\n",
    "img_u = img.transpose(1,2,0)*std + mean# unnormalize\n",
    "# img = img \n",
    "plt.imshow(img_u)\n",
    "plt.title(\"Resized image\")\n",
    "\n",
    "plt.show()\n",
    "c,h,w = hm.shape\n",
    "nrows = 1\n",
    "ncols = 2\n",
    "hm_u = hm.reshape(nrows, ncols, h, w).swapaxes(1,2).reshape(h*nrows, w*ncols)\n",
    "# hm_u = hm.transpose(1,2,0)\n",
    "plt.imshow(hm_u,cmap='gray')\n",
    "plt.title(\"Heatmap targets (2x128x128)\")\n",
    "plt.show()"
   ]
  },
  {
   "cell_type": "markdown",
   "metadata": {},
   "source": [
    "# Background"
   ]
  },
  {
   "cell_type": "markdown",
   "metadata": {},
   "source": [
    "## Single Stage vs Two Stage\n",
    "<a id='single-vs-two-stage'></a>"
   ]
  },
  {
   "cell_type": "markdown",
   "metadata": {},
   "source": []
  },
  {
   "cell_type": "markdown",
   "metadata": {},
   "source": [
    "## Centernet"
   ]
  },
  {
   "cell_type": "markdown",
   "metadata": {},
   "source": []
  },
  {
   "cell_type": "markdown",
   "metadata": {},
   "source": []
  },
  {
   "cell_type": "markdown",
   "metadata": {},
   "source": [
    "# Preprocessing"
   ]
  },
  {
   "cell_type": "markdown",
   "metadata": {},
   "source": [
    "## Encode Class Keypoints"
   ]
  },
  {
   "cell_type": "markdown",
   "metadata": {},
   "source": [
    "```python\n",
    "def draw_umich_gaussian(heatmap, center, radius, k=1):\n",
    "  diameter = 2 * radius + 1\n",
    "  gaussian = gaussian2D((diameter, diameter), sigma=diameter / 6)\n",
    "  \n",
    "  x, y = int(center[0]), int(center[1])\n",
    "\n",
    "  height, width = heatmap.shape[0:2]\n",
    "    \n",
    "  left, right = min(x, radius), min(width - x, radius + 1)\n",
    "  top, bottom = min(y, radius), min(height - y, radius + 1)\n",
    "\n",
    "  masked_heatmap  = heatmap[y - top:y + bottom, x - left:x + right]\n",
    "  masked_gaussian = gaussian[radius - top:radius + bottom, radius - left:radius + right]\n",
    "  if min(masked_gaussian.shape) > 0 and min(masked_heatmap.shape) > 0: # TODO debug\n",
    "    np.maximum(masked_heatmap, masked_gaussian * k, out=masked_heatmap)\n",
    "  return heatmap\n",
    "```"
   ]
  },
  {
   "cell_type": "markdown",
   "metadata": {},
   "source": [
    "## Encoding bounding boxes"
   ]
  },
  {
   "cell_type": "markdown",
   "metadata": {},
   "source": [
    "```python\n",
    "centers = np.array([bboxes[:,0]+bboxes[:,2]//2,bboxes[:,1]+bboxes[:,3]//2,bboxes[:,2],bboxes[:,3]]).T\n",
    "for ind,(c,l )in enumerate(zip(centers,classes)):\n",
    "    h, w = c[3]/MODEL_SCALE, c[2]/MODEL_SCALE\n",
    "    radius = gaussian_radius((math.ceil(h), math.ceil(w)))\n",
    "    radius = max(0, int(radius))\n",
    "    # print(\"radius:\", radius)\n",
    "    draw_umich_gaussian(hm[l], [int(c[0])//MODEL_SCALE,int(c[1])//MODEL_SCALE], \n",
    "                            radius)\n",
    "    # draw_msra_gaussian(hm[l], [int(c[0])//MODEL_SCALE,int(c[1])//MODEL_SCALE], \n",
    "    #                         radius)\n",
    "    reg_mask[ind] = 1\n",
    "    wh[ind] = c[2:]/input_size\n",
    "    draw_dense_reg(reg,hm[l],c[:2]//MODEL_SCALE,wh[ind],radius)\n",
    "    inds[ind] = (int(c[1])//MODEL_SCALE)*feature_scale + (int(c[0])//MODEL_SCALE)\n",
    "```"
   ]
  },
  {
   "cell_type": "markdown",
   "metadata": {},
   "source": [
    "## Encode Width and Height Regression"
   ]
  },
  {
   "cell_type": "markdown",
   "metadata": {},
   "source": [
    "```python\n",
    "def draw_dense_reg(regmap, heatmap, center, value, radius, is_offset=False):\n",
    "  diameter = 2 * radius + 1\n",
    "  gaussian = gaussian2D((diameter, diameter), sigma=diameter / 6)\n",
    "  value = np.array(value, dtype=np.float32).reshape(-1, 1, 1)\n",
    "\n",
    "  dim = value.shape[0]\n",
    "  reg = np.ones((dim, diameter*2+1, diameter*2+1), dtype=np.float32) * value\n",
    "\n",
    "  if is_offset and dim == 2:\n",
    "    delta = np.arange(diameter*2+1) - radius\n",
    "    reg[0] = reg[0] - delta.reshape(1, -1)\n",
    "    reg[1] = reg[1] - delta.reshape(-1, 1)\n",
    "  \n",
    "  x, y = int(center[0]), int(center[1])\n",
    "\n",
    "  height, width = heatmap.shape[0:2]\n",
    "\n",
    "  left, right = min(x, radius), min(width - x, radius + 1)\n",
    "  top, bottom = min(y, radius), min(height - y, radius + 1)\n",
    "\n",
    "  masked_heatmap = heatmap[y - top:y + bottom, x - left:x + right]\n",
    "  masked_regmap = regmap[:, y - top:y + bottom, x - left:x + right]\n",
    "  masked_gaussian = gaussian[radius - top:radius + bottom,\n",
    "                             radius - left:radius + right]\n",
    "  masked_reg = reg[:, radius - top:radius + bottom,\n",
    "                      radius - left:radius + right]\n",
    "\n",
    "  if min(masked_gaussian.shape) > 0 and min(masked_heatmap.shape) > 0: # TODO debug\n",
    "    idx = (masked_gaussian >= masked_heatmap).reshape(\n",
    "      1, masked_gaussian.shape[0], masked_gaussian.shape[1])\n",
    "    masked_regmap = (1-idx) * masked_regmap + idx * masked_reg\n",
    "  regmap[:, y - top:y + bottom, x - left:x + right] = masked_regmap\n",
    "  return regmap\n",
    "```"
   ]
  },
  {
   "cell_type": "markdown",
   "metadata": {},
   "source": [
    "# Model Architecture"
   ]
  },
  {
   "cell_type": "markdown",
   "metadata": {},
   "source": [
    "\n",
    "## Backbone"
   ]
  },
  {
   "cell_type": "markdown",
   "metadata": {},
   "source": [
    "```python\n",
    "if model_name == 'mv3':\n",
    "            basemodel = torchvision.models.mobilenet_v3_small(pretrained=True)\n",
    "            num_ch = 576\n",
    "elif model_name == 'resnet18':\n",
    "            basemodel = torchvision.models.resnet18(pretrained=True)\n",
    "            num_ch = 512\n",
    "basemodel = nn.Sequential(*list(basemodel.children())[:-2])\n",
    "# set basemodel\n",
    "self.base_model = basemodel\n",
    "# Neck\n",
    "self.up1 = up(num_ch, 512,bilinear=True)\n",
    "self.up2 = up(512, 256,bilinear=True)\n",
    "self.up3 = up(256, 256,bilinear=True)\n",
    "```"
   ]
  },
  {
   "cell_type": "markdown",
   "metadata": {},
   "source": [
    "## Class Head and Regression Head"
   ]
  },
  {
   "cell_type": "markdown",
   "metadata": {},
   "source": [
    "```python\n",
    "\n",
    "# output classification\n",
    "self.outc = nn.Conv2d(256, n_classes, 1)\n",
    "\n",
    "self.outr = nn.Conv2d(256, 2, 1)\n",
    "```"
   ]
  },
  {
   "cell_type": "markdown",
   "metadata": {},
   "source": [
    "## Initalization of conv layers in Neck for Focal Loss"
   ]
  },
  {
   "cell_type": "markdown",
   "metadata": {},
   "source": [
    "```python\n",
    "'''\n",
    "Author of focal loss:  all new conv layers except the \n",
    "final layer, subnets are initalized  with bias b=0 and\n",
    "a Gaussian weight filled with sigma=0.01\n",
    "\n",
    "Weight init improves training stability for both the \n",
    "cross entropy and focal loss in the case of heavy class\n",
    "imbalance\n",
    "'''\n",
    "for m in self.conv.modules():\n",
    "    if isinstance(m,nn.Conv2d):\n",
    "        nn.init.normal_(m.weight,std=0.01)\n",
    "        if m.bias is not None:\n",
    "            nn.init.constant_(m.bias,0)\n",
    "```"
   ]
  },
  {
   "cell_type": "markdown",
   "metadata": {},
   "source": [
    "## Initalization of Layers in Head for Focal Loss"
   ]
  },
  {
   "cell_type": "markdown",
   "metadata": {},
   "source": [
    "```python\n",
    "'''\n",
    "Author: the final conv later set the bias\n",
    "initalization to log((1-pi)/pi)\n",
    "pi specifies that at the start of training,\n",
    "every anchor should be labeled as foreground\n",
    "with confidence of about pi. pi is a variable that is 0.01\n",
    "\n",
    "This initalization prevents a large number of background \n",
    "anchors from generating a large destabalizing loss value in the\n",
    "in the first iteration of training\n",
    "'''\n",
    "self.outc.bias.data.fill_(-2.19)\n",
    "# output residue\n",
    "self.outr.bias.data.fill_(-2.19)\n",
    "def forward(self, x):\n",
    "batch_size = x.shape[0]\n",
    "x = self.base_model(x) \n",
    "\n",
    "x = self.up1(x)\n",
    "x = self.up2(x)\n",
    "x = self.up3(x)\n",
    "outc = self.outc(x)\n",
    "outr = self.outr(x)\n",
    "return outc, outr\n",
    "```"
   ]
  },
  {
   "cell_type": "code",
   "execution_count": 14,
   "metadata": {},
   "outputs": [
    {
     "name": "stderr",
     "output_type": "stream",
     "text": [
      "/Users/mendeza/miniforge3/envs/centernet-tutorial/lib/python3.8/site-packages/torchvision/models/_utils.py:208: UserWarning: The parameter 'pretrained' is deprecated since 0.13 and will be removed in 0.15, please use 'weights' instead.\n",
      "  warnings.warn(\n",
      "/Users/mendeza/miniforge3/envs/centernet-tutorial/lib/python3.8/site-packages/torchvision/models/_utils.py:223: UserWarning: Arguments other than a weight enum or `None` for 'weights' are deprecated since 0.13 and will be removed in 0.15. The current behavior is equivalent to passing `weights=MobileNet_V3_Small_Weights.IMAGENET1K_V1`. You can also use `weights=MobileNet_V3_Small_Weights.DEFAULT` to get the most up-to-date weights.\n",
      "  warnings.warn(msg)\n"
     ]
    }
   ],
   "source": [
    "model = centernet(ds.num_classes,model_name='mv3')"
   ]
  },
  {
   "cell_type": "markdown",
   "metadata": {},
   "source": [
    "# Loss Function"
   ]
  },
  {
   "cell_type": "markdown",
   "metadata": {
    "vscode": {
     "languageId": "latex"
    }
   },
   "source": [
    "# Focal Loss\n",
    "$$\n",
    "L_k = \\frac{-1}{N} \\sum_{xyc}\n",
    "\\begin{cases}\n",
    "(1 - \\hat{Y}_{xyc})^{\\alpha} \n",
    "        \\log(\\hat{Y}_{xyc})  & \\text{ if } Y_{xyc}=1 \\\\\n",
    "\\begin{array}{c}\n",
    "        (1-Y_{xyc})^{\\beta} \n",
    "        (\\hat{Y}_{xyc})^{\\alpha}\\\\\n",
    "        \\log(1-\\hat{Y}_{xyc})\n",
    "        \\end{array} & \\text{ otherwise }\n",
    "\\end{cases}\n",
    "$$"
   ]
  },
  {
   "cell_type": "markdown",
   "metadata": {},
   "source": [
    "```python \n",
    "def focal_loss(pred, gt):\n",
    "  ''' Modified focal loss.\n",
    "    Arguments:\n",
    "      pred (batch x h x w)\n",
    "      gt (batch  x h x w)\n",
    "  '''\n",
    "  pos_inds = gt.eq(1).float()\n",
    "  neg_inds = gt.lt(1).float()\n",
    "  neg_weights = torch.pow(1 - gt, 4)\n",
    "\n",
    "  loss = 0\n",
    "  prob_pred = F.sigmoid(pred)\n",
    "  pos_loss = F.logsigmoid(pred) * torch.pow(1 - prob_pred, 2) * pos_inds\n",
    "  neg_loss = F.logsigmoid(1 - pred) * torch.pow(prob_pred, 2) * neg_inds *  neg_weights \n",
    "\n",
    "  num_pos  = pos_inds.float().sum()\n",
    "  pos_loss = pos_loss.sum()\n",
    "  neg_loss = neg_loss.sum()\n",
    "\n",
    "  if num_pos == 0:\n",
    "    loss = loss - neg_loss\n",
    "  else:\n",
    "    loss =  loss - (pos_loss + neg_loss) / (num_pos+1e-4)\n",
    "  return loss\n",
    "  ```"
   ]
  },
  {
   "cell_type": "markdown",
   "metadata": {},
   "source": [
    "# Regression Loss\n",
    "$$\n",
    "L_{size} = \\frac{1}{N}\\sum_{k=1}^{N} \\left|\\hat S_{p_k} - s_k\\right|.\n",
    "$$"
   ]
  },
  {
   "cell_type": "markdown",
   "metadata": {},
   "source": [
    "```python\n",
    "def reg_loss(regr, gt_regr, mask):\n",
    "  ''' L1 regression loss\n",
    "    Arguments:\n",
    "      regr (batch x max_objects x dim)\n",
    "      gt_regr (batch x max_objects x dim)\n",
    "      mask (batch x max_objects)\n",
    "  '''\n",
    "  num = mask.float().sum()\n",
    "  mask = mask.unsqueeze(2).expand_as(gt_regr).float()\n",
    "\n",
    "  regr = regr * mask\n",
    "  gt_regr = gt_regr * mask\n",
    "\n",
    "  regr_loss = nn.functional.l1_loss(regr, gt_regr, size_average=False)\n",
    "  regr_loss = regr_loss / (num + 1e-4)\n",
    "  return regr_loss\n",
    "  ````"
   ]
  },
  {
   "cell_type": "markdown",
   "metadata": {},
   "source": [
    "# Prepare and Train Training Model"
   ]
  },
  {
   "cell_type": "markdown",
   "metadata": {},
   "source": []
  },
  {
   "cell_type": "code",
   "execution_count": 21,
   "metadata": {},
   "outputs": [
    {
     "name": "stderr",
     "output_type": "stream",
     "text": [
      "/Users/mendeza/miniforge3/envs/centernet-tutorial/lib/python3.8/site-packages/torchvision/models/_utils.py:208: UserWarning: The parameter 'pretrained' is deprecated since 0.13 and will be removed in 0.15, please use 'weights' instead.\n",
      "  warnings.warn(\n",
      "/Users/mendeza/miniforge3/envs/centernet-tutorial/lib/python3.8/site-packages/torchvision/models/_utils.py:223: UserWarning: Arguments other than a weight enum or `None` for 'weights' are deprecated since 0.13 and will be removed in 0.15. The current behavior is equivalent to passing `weights=MobileNet_V3_Small_Weights.IMAGENET1K_V1`. You can also use `weights=MobileNet_V3_Small_Weights.DEFAULT` to get the most up-to-date weights.\n",
      "  warnings.warn(msg)\n",
      "  0%|          | 0/50 [00:00<?, ?it/s]"
     ]
    },
    {
     "name": "stdout",
     "output_type": "stream",
     "text": [
      "----EPOCH: 0----\n"
     ]
    },
    {
     "name": "stderr",
     "output_type": "stream",
     "text": [
      "/Users/mendeza/miniforge3/envs/centernet-tutorial/lib/python3.8/site-packages/torch/nn/functional.py:1960: UserWarning: nn.functional.sigmoid is deprecated. Use torch.sigmoid instead.\n",
      "  warnings.warn(\"nn.functional.sigmoid is deprecated. Use torch.sigmoid instead.\")\n",
      "/Users/mendeza/miniforge3/envs/centernet-tutorial/lib/python3.8/site-packages/torch/nn/_reduction.py:42: UserWarning: size_average and reduce args will be deprecated, please use reduction='sum' instead.\n",
      "  warnings.warn(warning.format(ret))\n"
     ]
    },
    {
     "name": "stdout",
     "output_type": "stream",
     "text": [
      "Loss: 60.206504821777344, Mask Loss: 57.800506591796875, Reg Loss: 2.4059996604919434\n"
     ]
    },
    {
     "name": "stderr",
     "output_type": "stream",
     "text": [
      "100%|██████████| 1/1 [00:08<00:00,  8.22s/it]\n",
      "  2%|▏         | 1/50 [00:08<06:42,  8.22s/it]"
     ]
    },
    {
     "name": "stdout",
     "output_type": "stream",
     "text": [
      "----EPOCH: 1----\n"
     ]
    },
    {
     "name": "stderr",
     "output_type": "stream",
     "text": []
    },
    {
     "name": "stdout",
     "output_type": "stream",
     "text": [
      "Loss: 63.89543533325195, Mask Loss: 61.33489990234375, Reg Loss: 2.5605337619781494\n"
     ]
    },
    {
     "name": "stderr",
     "output_type": "stream",
     "text": [
      "100%|██████████| 1/1 [00:08<00:00,  8.06s/it]\n",
      "  4%|▍         | 2/50 [00:16<06:30,  8.13s/it]"
     ]
    },
    {
     "name": "stdout",
     "output_type": "stream",
     "text": [
      "----EPOCH: 2----\n"
     ]
    },
    {
     "name": "stderr",
     "output_type": "stream",
     "text": []
    },
    {
     "name": "stdout",
     "output_type": "stream",
     "text": [
      "Loss: 48.28178024291992, Mask Loss: 46.32649612426758, Reg Loss: 1.9552844762802124\n"
     ]
    },
    {
     "name": "stderr",
     "output_type": "stream",
     "text": [
      "100%|██████████| 1/1 [00:08<00:00,  8.05s/it]\n",
      "  6%|▌         | 3/50 [00:24<06:20,  8.10s/it]"
     ]
    },
    {
     "name": "stdout",
     "output_type": "stream",
     "text": [
      "----EPOCH: 3----\n"
     ]
    },
    {
     "name": "stderr",
     "output_type": "stream",
     "text": []
    },
    {
     "name": "stdout",
     "output_type": "stream",
     "text": [
      "Loss: 27.7767391204834, Mask Loss: 25.429367065429688, Reg Loss: 2.347372055053711\n"
     ]
    },
    {
     "name": "stderr",
     "output_type": "stream",
     "text": [
      "100%|██████████| 1/1 [00:08<00:00,  8.06s/it]\n",
      "  8%|▊         | 4/50 [00:32<06:11,  8.08s/it]"
     ]
    },
    {
     "name": "stdout",
     "output_type": "stream",
     "text": [
      "----EPOCH: 4----\n"
     ]
    },
    {
     "name": "stderr",
     "output_type": "stream",
     "text": []
    },
    {
     "name": "stdout",
     "output_type": "stream",
     "text": [
      "Loss: 17.507823944091797, Mask Loss: 15.938423156738281, Reg Loss: 1.5694010257720947\n"
     ]
    },
    {
     "name": "stderr",
     "output_type": "stream",
     "text": [
      "100%|██████████| 1/1 [00:08<00:00,  8.02s/it]\n",
      " 10%|█         | 5/50 [00:40<06:02,  8.06s/it]"
     ]
    },
    {
     "name": "stdout",
     "output_type": "stream",
     "text": [
      "----EPOCH: 5----\n"
     ]
    },
    {
     "name": "stderr",
     "output_type": "stream",
     "text": []
    },
    {
     "name": "stdout",
     "output_type": "stream",
     "text": [
      "Loss: 16.41988754272461, Mask Loss: 13.334739685058594, Reg Loss: 3.0851480960845947\n"
     ]
    },
    {
     "name": "stderr",
     "output_type": "stream",
     "text": [
      "100%|██████████| 1/1 [00:07<00:00,  8.00s/it]\n",
      " 12%|█▏        | 6/50 [00:48<05:53,  8.04s/it]"
     ]
    },
    {
     "name": "stdout",
     "output_type": "stream",
     "text": [
      "----EPOCH: 6----\n"
     ]
    },
    {
     "name": "stderr",
     "output_type": "stream",
     "text": []
    },
    {
     "name": "stdout",
     "output_type": "stream",
     "text": [
      "Loss: 13.411704063415527, Mask Loss: 11.057644844055176, Reg Loss: 2.3540589809417725\n"
     ]
    },
    {
     "name": "stderr",
     "output_type": "stream",
     "text": [
      "100%|██████████| 1/1 [00:08<00:00,  8.06s/it]\n",
      " 14%|█▍        | 7/50 [00:56<05:46,  8.05s/it]"
     ]
    },
    {
     "name": "stdout",
     "output_type": "stream",
     "text": [
      "----EPOCH: 7----\n"
     ]
    },
    {
     "name": "stderr",
     "output_type": "stream",
     "text": []
    },
    {
     "name": "stdout",
     "output_type": "stream",
     "text": [
      "Loss: 13.61515998840332, Mask Loss: 11.687363624572754, Reg Loss: 1.9277961254119873\n"
     ]
    },
    {
     "name": "stderr",
     "output_type": "stream",
     "text": [
      "100%|██████████| 1/1 [00:08<00:00,  8.06s/it]\n",
      " 16%|█▌        | 8/50 [01:04<05:38,  8.05s/it]"
     ]
    },
    {
     "name": "stdout",
     "output_type": "stream",
     "text": [
      "----EPOCH: 8----\n"
     ]
    },
    {
     "name": "stderr",
     "output_type": "stream",
     "text": []
    },
    {
     "name": "stdout",
     "output_type": "stream",
     "text": [
      "Loss: 12.158012390136719, Mask Loss: 10.4719877243042, Reg Loss: 1.6860244274139404\n"
     ]
    },
    {
     "name": "stderr",
     "output_type": "stream",
     "text": [
      "100%|██████████| 1/1 [00:08<00:00,  8.05s/it]\n",
      " 18%|█▊        | 9/50 [01:12<05:30,  8.05s/it]"
     ]
    },
    {
     "name": "stdout",
     "output_type": "stream",
     "text": [
      "----EPOCH: 9----\n"
     ]
    },
    {
     "name": "stderr",
     "output_type": "stream",
     "text": []
    },
    {
     "name": "stdout",
     "output_type": "stream",
     "text": [
      "Loss: 10.371551513671875, Mask Loss: 9.09748363494873, Reg Loss: 1.2740674018859863\n"
     ]
    },
    {
     "name": "stderr",
     "output_type": "stream",
     "text": [
      "100%|██████████| 1/1 [00:08<00:00,  8.02s/it]\n",
      " 20%|██        | 10/50 [01:20<05:21,  8.04s/it]"
     ]
    },
    {
     "name": "stdout",
     "output_type": "stream",
     "text": [
      "----EPOCH: 10----\n"
     ]
    },
    {
     "name": "stderr",
     "output_type": "stream",
     "text": []
    },
    {
     "name": "stdout",
     "output_type": "stream",
     "text": [
      "Loss: 12.018522262573242, Mask Loss: 10.603063583374023, Reg Loss: 1.4154582023620605\n"
     ]
    },
    {
     "name": "stderr",
     "output_type": "stream",
     "text": [
      "100%|██████████| 1/1 [00:08<00:00,  8.06s/it]\n",
      " 22%|██▏       | 11/50 [01:28<05:13,  8.05s/it]"
     ]
    },
    {
     "name": "stdout",
     "output_type": "stream",
     "text": [
      "----EPOCH: 11----\n"
     ]
    },
    {
     "name": "stderr",
     "output_type": "stream",
     "text": []
    },
    {
     "name": "stdout",
     "output_type": "stream",
     "text": [
      "Loss: 9.228768348693848, Mask Loss: 7.443946838378906, Reg Loss: 1.78482186794281\n"
     ]
    },
    {
     "name": "stderr",
     "output_type": "stream",
     "text": [
      "100%|██████████| 1/1 [00:08<00:00,  8.07s/it]\n",
      " 24%|██▍       | 12/50 [01:36<05:06,  8.06s/it]"
     ]
    },
    {
     "name": "stdout",
     "output_type": "stream",
     "text": [
      "----EPOCH: 12----\n"
     ]
    },
    {
     "name": "stderr",
     "output_type": "stream",
     "text": []
    },
    {
     "name": "stdout",
     "output_type": "stream",
     "text": [
      "Loss: 8.398039817810059, Mask Loss: 7.185201644897461, Reg Loss: 1.212837815284729\n"
     ]
    },
    {
     "name": "stderr",
     "output_type": "stream",
     "text": [
      "100%|██████████| 1/1 [00:08<00:00,  8.04s/it]\n",
      " 26%|██▌       | 13/50 [01:44<04:58,  8.05s/it]"
     ]
    },
    {
     "name": "stdout",
     "output_type": "stream",
     "text": [
      "----EPOCH: 13----\n"
     ]
    },
    {
     "name": "stderr",
     "output_type": "stream",
     "text": []
    },
    {
     "name": "stdout",
     "output_type": "stream",
     "text": [
      "Loss: 8.038572311401367, Mask Loss: 7.05042839050293, Reg Loss: 0.9881437420845032\n"
     ]
    },
    {
     "name": "stderr",
     "output_type": "stream",
     "text": [
      "100%|██████████| 1/1 [00:07<00:00,  7.98s/it]\n",
      " 28%|██▊       | 14/50 [01:52<04:49,  8.03s/it]"
     ]
    },
    {
     "name": "stdout",
     "output_type": "stream",
     "text": [
      "----EPOCH: 14----\n"
     ]
    },
    {
     "name": "stderr",
     "output_type": "stream",
     "text": []
    },
    {
     "name": "stdout",
     "output_type": "stream",
     "text": [
      "Loss: 7.451196670532227, Mask Loss: 6.215336799621582, Reg Loss: 1.2358598709106445\n"
     ]
    },
    {
     "name": "stderr",
     "output_type": "stream",
     "text": [
      "100%|██████████| 1/1 [00:08<00:00,  8.01s/it]\n",
      " 30%|███       | 15/50 [02:00<04:41,  8.03s/it]"
     ]
    },
    {
     "name": "stdout",
     "output_type": "stream",
     "text": [
      "----EPOCH: 15----\n"
     ]
    },
    {
     "name": "stderr",
     "output_type": "stream",
     "text": []
    },
    {
     "name": "stdout",
     "output_type": "stream",
     "text": [
      "Loss: 7.529455661773682, Mask Loss: 6.219128131866455, Reg Loss: 1.3103276491165161\n"
     ]
    },
    {
     "name": "stderr",
     "output_type": "stream",
     "text": [
      "100%|██████████| 1/1 [00:07<00:00,  7.99s/it]\n",
      " 32%|███▏      | 16/50 [02:08<04:32,  8.02s/it]"
     ]
    },
    {
     "name": "stdout",
     "output_type": "stream",
     "text": [
      "----EPOCH: 16----\n"
     ]
    },
    {
     "name": "stderr",
     "output_type": "stream",
     "text": []
    },
    {
     "name": "stdout",
     "output_type": "stream",
     "text": [
      "Loss: 6.613151550292969, Mask Loss: 5.7938456535339355, Reg Loss: 0.8193057179450989\n"
     ]
    },
    {
     "name": "stderr",
     "output_type": "stream",
     "text": [
      "100%|██████████| 1/1 [00:08<00:00,  8.02s/it]\n",
      " 34%|███▍      | 17/50 [02:16<04:24,  8.02s/it]"
     ]
    },
    {
     "name": "stdout",
     "output_type": "stream",
     "text": [
      "----EPOCH: 17----\n"
     ]
    },
    {
     "name": "stderr",
     "output_type": "stream",
     "text": []
    },
    {
     "name": "stdout",
     "output_type": "stream",
     "text": [
      "Loss: 7.022401332855225, Mask Loss: 5.733043193817139, Reg Loss: 1.2893582582473755\n"
     ]
    },
    {
     "name": "stderr",
     "output_type": "stream",
     "text": [
      "100%|██████████| 1/1 [00:07<00:00,  7.98s/it]\n",
      " 36%|███▌      | 18/50 [02:24<04:16,  8.01s/it]"
     ]
    },
    {
     "name": "stdout",
     "output_type": "stream",
     "text": [
      "----EPOCH: 18----\n"
     ]
    },
    {
     "name": "stderr",
     "output_type": "stream",
     "text": []
    },
    {
     "name": "stdout",
     "output_type": "stream",
     "text": [
      "Loss: 6.69397497177124, Mask Loss: 5.653995990753174, Reg Loss: 1.0399789810180664\n"
     ]
    },
    {
     "name": "stderr",
     "output_type": "stream",
     "text": [
      "100%|██████████| 1/1 [00:08<00:00,  8.03s/it]\n",
      " 38%|███▊      | 19/50 [02:32<04:08,  8.02s/it]"
     ]
    },
    {
     "name": "stdout",
     "output_type": "stream",
     "text": [
      "----EPOCH: 19----\n"
     ]
    },
    {
     "name": "stderr",
     "output_type": "stream",
     "text": []
    },
    {
     "name": "stdout",
     "output_type": "stream",
     "text": [
      "Loss: 6.906583309173584, Mask Loss: 5.441194534301758, Reg Loss: 1.4653888940811157\n"
     ]
    },
    {
     "name": "stderr",
     "output_type": "stream",
     "text": [
      "100%|██████████| 1/1 [00:07<00:00,  7.97s/it]\n",
      " 40%|████      | 20/50 [02:40<04:00,  8.00s/it]"
     ]
    },
    {
     "name": "stdout",
     "output_type": "stream",
     "text": [
      "----EPOCH: 20----\n"
     ]
    },
    {
     "name": "stderr",
     "output_type": "stream",
     "text": []
    },
    {
     "name": "stdout",
     "output_type": "stream",
     "text": [
      "Loss: 5.75040340423584, Mask Loss: 5.171330451965332, Reg Loss: 0.5790731906890869\n"
     ]
    },
    {
     "name": "stderr",
     "output_type": "stream",
     "text": [
      "100%|██████████| 1/1 [00:08<00:00,  8.03s/it]\n",
      " 42%|████▏     | 21/50 [02:48<03:52,  8.01s/it]"
     ]
    },
    {
     "name": "stdout",
     "output_type": "stream",
     "text": [
      "----EPOCH: 21----\n"
     ]
    },
    {
     "name": "stderr",
     "output_type": "stream",
     "text": []
    },
    {
     "name": "stdout",
     "output_type": "stream",
     "text": [
      "Loss: 6.592739105224609, Mask Loss: 5.09008264541626, Reg Loss: 1.5026566982269287\n"
     ]
    },
    {
     "name": "stderr",
     "output_type": "stream",
     "text": [
      "100%|██████████| 1/1 [00:07<00:00,  7.99s/it]\n",
      " 44%|████▍     | 22/50 [02:56<03:44,  8.01s/it]"
     ]
    },
    {
     "name": "stdout",
     "output_type": "stream",
     "text": [
      "----EPOCH: 22----\n"
     ]
    },
    {
     "name": "stderr",
     "output_type": "stream",
     "text": []
    },
    {
     "name": "stdout",
     "output_type": "stream",
     "text": [
      "Loss: 5.848377227783203, Mask Loss: 4.802752494812012, Reg Loss: 1.0456246137619019\n"
     ]
    },
    {
     "name": "stderr",
     "output_type": "stream",
     "text": [
      "100%|██████████| 1/1 [00:08<00:00,  8.01s/it]\n",
      " 46%|████▌     | 23/50 [03:04<03:36,  8.01s/it]"
     ]
    },
    {
     "name": "stdout",
     "output_type": "stream",
     "text": [
      "----EPOCH: 23----\n"
     ]
    },
    {
     "name": "stderr",
     "output_type": "stream",
     "text": []
    },
    {
     "name": "stdout",
     "output_type": "stream",
     "text": [
      "Loss: 5.1604204177856445, Mask Loss: 4.696950912475586, Reg Loss: 0.4634697139263153\n"
     ]
    },
    {
     "name": "stderr",
     "output_type": "stream",
     "text": [
      "100%|██████████| 1/1 [00:07<00:00,  7.98s/it]\n",
      " 48%|████▊     | 24/50 [03:12<03:28,  8.00s/it]"
     ]
    },
    {
     "name": "stdout",
     "output_type": "stream",
     "text": [
      "----EPOCH: 24----\n"
     ]
    },
    {
     "name": "stderr",
     "output_type": "stream",
     "text": []
    },
    {
     "name": "stdout",
     "output_type": "stream",
     "text": [
      "Loss: 5.587155818939209, Mask Loss: 4.537586688995361, Reg Loss: 1.049569010734558\n"
     ]
    },
    {
     "name": "stderr",
     "output_type": "stream",
     "text": [
      "100%|██████████| 1/1 [00:08<00:00,  8.02s/it]\n",
      " 50%|█████     | 25/50 [03:20<03:20,  8.01s/it]"
     ]
    },
    {
     "name": "stdout",
     "output_type": "stream",
     "text": [
      "----EPOCH: 25----\n"
     ]
    },
    {
     "name": "stderr",
     "output_type": "stream",
     "text": []
    },
    {
     "name": "stdout",
     "output_type": "stream",
     "text": [
      "Loss: 5.418884754180908, Mask Loss: 4.486037731170654, Reg Loss: 0.9328469634056091\n"
     ]
    },
    {
     "name": "stderr",
     "output_type": "stream",
     "text": [
      "100%|██████████| 1/1 [00:07<00:00,  7.98s/it]\n",
      " 52%|█████▏    | 26/50 [03:28<03:12,  8.00s/it]"
     ]
    },
    {
     "name": "stdout",
     "output_type": "stream",
     "text": [
      "----EPOCH: 26----\n"
     ]
    },
    {
     "name": "stderr",
     "output_type": "stream",
     "text": []
    },
    {
     "name": "stdout",
     "output_type": "stream",
     "text": [
      "Loss: 5.105047225952148, Mask Loss: 4.205602169036865, Reg Loss: 0.8994452357292175\n"
     ]
    },
    {
     "name": "stderr",
     "output_type": "stream",
     "text": [
      "100%|██████████| 1/1 [00:08<00:00,  8.00s/it]\n",
      " 54%|█████▍    | 27/50 [03:36<03:04,  8.00s/it]"
     ]
    },
    {
     "name": "stdout",
     "output_type": "stream",
     "text": [
      "----EPOCH: 27----\n"
     ]
    },
    {
     "name": "stderr",
     "output_type": "stream",
     "text": []
    },
    {
     "name": "stdout",
     "output_type": "stream",
     "text": [
      "Loss: 5.058488845825195, Mask Loss: 4.250761032104492, Reg Loss: 0.8077277541160583\n"
     ]
    },
    {
     "name": "stderr",
     "output_type": "stream",
     "text": [
      "100%|██████████| 1/1 [00:07<00:00,  7.98s/it]\n",
      " 56%|█████▌    | 28/50 [03:44<02:55,  8.00s/it]"
     ]
    },
    {
     "name": "stdout",
     "output_type": "stream",
     "text": [
      "----EPOCH: 28----\n"
     ]
    },
    {
     "name": "stderr",
     "output_type": "stream",
     "text": []
    },
    {
     "name": "stdout",
     "output_type": "stream",
     "text": [
      "Loss: 6.105315208435059, Mask Loss: 4.232280254364014, Reg Loss: 1.873035192489624\n"
     ]
    },
    {
     "name": "stderr",
     "output_type": "stream",
     "text": [
      "100%|██████████| 1/1 [00:08<00:00,  8.00s/it]\n",
      " 58%|█████▊    | 29/50 [03:52<02:47,  8.00s/it]"
     ]
    },
    {
     "name": "stdout",
     "output_type": "stream",
     "text": [
      "----EPOCH: 29----\n"
     ]
    },
    {
     "name": "stderr",
     "output_type": "stream",
     "text": []
    },
    {
     "name": "stdout",
     "output_type": "stream",
     "text": [
      "Loss: 5.0334792137146, Mask Loss: 4.056198596954346, Reg Loss: 0.9772804975509644\n"
     ]
    },
    {
     "name": "stderr",
     "output_type": "stream",
     "text": [
      "100%|██████████| 1/1 [00:08<00:00,  8.02s/it]\n",
      " 60%|██████    | 30/50 [04:00<02:40,  8.01s/it]"
     ]
    },
    {
     "name": "stdout",
     "output_type": "stream",
     "text": [
      "----EPOCH: 30----\n"
     ]
    },
    {
     "name": "stderr",
     "output_type": "stream",
     "text": []
    },
    {
     "name": "stdout",
     "output_type": "stream",
     "text": [
      "Loss: 4.764255046844482, Mask Loss: 3.824763774871826, Reg Loss: 0.9394910931587219\n"
     ]
    },
    {
     "name": "stderr",
     "output_type": "stream",
     "text": [
      "100%|██████████| 1/1 [00:08<00:00,  8.01s/it]\n",
      " 62%|██████▏   | 31/50 [04:08<02:32,  8.01s/it]"
     ]
    },
    {
     "name": "stdout",
     "output_type": "stream",
     "text": [
      "----EPOCH: 31----\n"
     ]
    },
    {
     "name": "stderr",
     "output_type": "stream",
     "text": []
    },
    {
     "name": "stdout",
     "output_type": "stream",
     "text": [
      "Loss: 5.238545894622803, Mask Loss: 4.215761184692383, Reg Loss: 1.02278470993042\n"
     ]
    },
    {
     "name": "stderr",
     "output_type": "stream",
     "text": [
      "100%|██████████| 1/1 [00:08<00:00,  8.02s/it]\n",
      " 64%|██████▍   | 32/50 [04:16<02:24,  8.02s/it]"
     ]
    },
    {
     "name": "stdout",
     "output_type": "stream",
     "text": [
      "----EPOCH: 32----\n"
     ]
    },
    {
     "name": "stderr",
     "output_type": "stream",
     "text": []
    },
    {
     "name": "stdout",
     "output_type": "stream",
     "text": [
      "Loss: 4.272558212280273, Mask Loss: 3.7165207862854004, Reg Loss: 0.5560373067855835\n"
     ]
    },
    {
     "name": "stderr",
     "output_type": "stream",
     "text": [
      "100%|██████████| 1/1 [00:07<00:00,  8.00s/it]\n",
      " 66%|██████▌   | 33/50 [04:24<02:16,  8.01s/it]"
     ]
    },
    {
     "name": "stdout",
     "output_type": "stream",
     "text": [
      "----EPOCH: 33----\n"
     ]
    },
    {
     "name": "stderr",
     "output_type": "stream",
     "text": []
    },
    {
     "name": "stdout",
     "output_type": "stream",
     "text": [
      "Loss: 4.859798431396484, Mask Loss: 3.9845101833343506, Reg Loss: 0.8752883076667786\n"
     ]
    },
    {
     "name": "stderr",
     "output_type": "stream",
     "text": [
      "100%|██████████| 1/1 [00:08<00:00,  8.03s/it]\n",
      " 68%|██████▊   | 34/50 [04:32<02:08,  8.02s/it]"
     ]
    },
    {
     "name": "stdout",
     "output_type": "stream",
     "text": [
      "----EPOCH: 34----\n"
     ]
    },
    {
     "name": "stderr",
     "output_type": "stream",
     "text": []
    },
    {
     "name": "stdout",
     "output_type": "stream",
     "text": [
      "Loss: 4.520249366760254, Mask Loss: 3.6194217205047607, Reg Loss: 0.9008277654647827\n"
     ]
    },
    {
     "name": "stderr",
     "output_type": "stream",
     "text": [
      "100%|██████████| 1/1 [00:08<00:00,  8.03s/it]\n",
      " 70%|███████   | 35/50 [04:41<02:00,  8.02s/it]"
     ]
    },
    {
     "name": "stdout",
     "output_type": "stream",
     "text": [
      "----EPOCH: 35----\n"
     ]
    },
    {
     "name": "stderr",
     "output_type": "stream",
     "text": []
    },
    {
     "name": "stdout",
     "output_type": "stream",
     "text": [
      "Loss: 4.3808417320251465, Mask Loss: 3.712618827819824, Reg Loss: 0.6682230830192566\n"
     ]
    },
    {
     "name": "stderr",
     "output_type": "stream",
     "text": [
      "100%|██████████| 1/1 [00:08<00:00,  8.04s/it]\n",
      " 72%|███████▏  | 36/50 [04:49<01:52,  8.03s/it]"
     ]
    },
    {
     "name": "stdout",
     "output_type": "stream",
     "text": [
      "----EPOCH: 36----\n"
     ]
    },
    {
     "name": "stderr",
     "output_type": "stream",
     "text": []
    },
    {
     "name": "stdout",
     "output_type": "stream",
     "text": [
      "Loss: 4.09063720703125, Mask Loss: 3.435580015182495, Reg Loss: 0.6550570130348206\n"
     ]
    },
    {
     "name": "stderr",
     "output_type": "stream",
     "text": [
      "100%|██████████| 1/1 [00:08<00:00,  8.05s/it]\n",
      " 74%|███████▍  | 37/50 [04:57<01:44,  8.04s/it]"
     ]
    },
    {
     "name": "stdout",
     "output_type": "stream",
     "text": [
      "----EPOCH: 37----\n"
     ]
    },
    {
     "name": "stderr",
     "output_type": "stream",
     "text": []
    },
    {
     "name": "stdout",
     "output_type": "stream",
     "text": [
      "Loss: 4.086841106414795, Mask Loss: 3.4580118656158447, Reg Loss: 0.6288290619850159\n"
     ]
    },
    {
     "name": "stderr",
     "output_type": "stream",
     "text": [
      "100%|██████████| 1/1 [00:08<00:00,  8.01s/it]\n",
      " 76%|███████▌  | 38/50 [05:05<01:36,  8.03s/it]"
     ]
    },
    {
     "name": "stdout",
     "output_type": "stream",
     "text": [
      "----EPOCH: 38----\n"
     ]
    },
    {
     "name": "stderr",
     "output_type": "stream",
     "text": []
    },
    {
     "name": "stdout",
     "output_type": "stream",
     "text": [
      "Loss: 4.665572166442871, Mask Loss: 3.4904966354370117, Reg Loss: 1.1750755310058594\n"
     ]
    },
    {
     "name": "stderr",
     "output_type": "stream",
     "text": [
      "100%|██████████| 1/1 [00:07<00:00,  7.99s/it]\n",
      " 78%|███████▊  | 39/50 [05:13<01:28,  8.02s/it]"
     ]
    },
    {
     "name": "stdout",
     "output_type": "stream",
     "text": [
      "----EPOCH: 39----\n"
     ]
    },
    {
     "name": "stderr",
     "output_type": "stream",
     "text": []
    },
    {
     "name": "stdout",
     "output_type": "stream",
     "text": [
      "Loss: 4.530832290649414, Mask Loss: 3.4686851501464844, Reg Loss: 1.0621469020843506\n"
     ]
    },
    {
     "name": "stderr",
     "output_type": "stream",
     "text": [
      "100%|██████████| 1/1 [00:08<00:00,  8.05s/it]\n",
      " 80%|████████  | 40/50 [05:21<01:20,  8.03s/it]"
     ]
    },
    {
     "name": "stdout",
     "output_type": "stream",
     "text": [
      "----EPOCH: 40----\n"
     ]
    },
    {
     "name": "stderr",
     "output_type": "stream",
     "text": []
    },
    {
     "name": "stdout",
     "output_type": "stream",
     "text": [
      "Loss: 4.1270647048950195, Mask Loss: 3.1290314197540283, Reg Loss: 0.9980332255363464\n"
     ]
    },
    {
     "name": "stderr",
     "output_type": "stream",
     "text": [
      "100%|██████████| 1/1 [00:08<00:00,  8.00s/it]\n",
      " 82%|████████▏ | 41/50 [05:29<01:12,  8.02s/it]"
     ]
    },
    {
     "name": "stdout",
     "output_type": "stream",
     "text": [
      "----EPOCH: 41----\n"
     ]
    },
    {
     "name": "stderr",
     "output_type": "stream",
     "text": []
    },
    {
     "name": "stdout",
     "output_type": "stream",
     "text": [
      "Loss: 4.1019439697265625, Mask Loss: 3.0526113510131836, Reg Loss: 1.049332857131958\n"
     ]
    },
    {
     "name": "stderr",
     "output_type": "stream",
     "text": [
      "100%|██████████| 1/1 [00:08<00:00,  8.06s/it]\n",
      " 84%|████████▍ | 42/50 [05:37<01:04,  8.04s/it]"
     ]
    },
    {
     "name": "stdout",
     "output_type": "stream",
     "text": [
      "----EPOCH: 42----\n"
     ]
    },
    {
     "name": "stderr",
     "output_type": "stream",
     "text": []
    },
    {
     "name": "stdout",
     "output_type": "stream",
     "text": [
      "Loss: 4.482345104217529, Mask Loss: 3.2701220512390137, Reg Loss: 1.2122231721878052\n"
     ]
    }
   ],
   "source": [
    "# LR = 1e-4\n",
    "LR = 2.5e-4*2\n",
    "model_mv3, losses, mask_losses, regr_losses = train('mv3',ds.num_classes,learn_rate=LR,epochs=50,train_loader=train_loader,val_loader=val_loader)"
   ]
  },
  {
   "cell_type": "code",
   "execution_count": null,
   "metadata": {},
   "outputs": [
    {
     "data": {
      "text/plain": [
       "3"
      ]
     },
     "execution_count": 20,
     "metadata": {},
     "output_type": "execute_result"
    }
   ],
   "source": [
    "len(losses)"
   ]
  },
  {
   "cell_type": "code",
   "execution_count": null,
   "metadata": {},
   "outputs": [
    {
     "name": "stderr",
     "output_type": "stream",
     "text": [
      "  0%|          | 0/50 [00:00<?, ?it/s]"
     ]
    },
    {
     "name": "stdout",
     "output_type": "stream",
     "text": [
      "----EPOCH: 0----\n"
     ]
    },
    {
     "name": "stderr",
     "output_type": "stream",
     "text": []
    },
    {
     "name": "stdout",
     "output_type": "stream",
     "text": [
      "0.0018367767 0.34612402 0.99003506\n"
     ]
    },
    {
     "name": "stderr",
     "output_type": "stream",
     "text": []
    },
    {
     "name": "stdout",
     "output_type": "stream",
     "text": [
      "Loss: 34.95229721069336, Mask Loss: 31.19273567199707, Reg Loss: 3.7595632076263428\n"
     ]
    },
    {
     "name": "stderr",
     "output_type": "stream",
     "text": [
      "100%|██████████| 1/1 [00:08<00:00,  8.21s/it]\n",
      "  2%|▏         | 1/50 [00:08<06:42,  8.21s/it]"
     ]
    },
    {
     "name": "stdout",
     "output_type": "stream",
     "text": [
      "----EPOCH: 1----\n"
     ]
    },
    {
     "name": "stderr",
     "output_type": "stream",
     "text": []
    },
    {
     "name": "stdout",
     "output_type": "stream",
     "text": [
      "zero-size array to reduction operation minimum which has no identity\n"
     ]
    },
    {
     "name": "stderr",
     "output_type": "stream",
     "text": [
      "100%|██████████| 1/1 [00:07<00:00,  7.14s/it]\n",
      "  4%|▍         | 2/50 [00:15<06:04,  7.59s/it]"
     ]
    },
    {
     "name": "stdout",
     "output_type": "stream",
     "text": [
      "----EPOCH: 2----\n"
     ]
    },
    {
     "name": "stderr",
     "output_type": "stream",
     "text": []
    },
    {
     "name": "stdout",
     "output_type": "stream",
     "text": [
      "zero-size array to reduction operation minimum which has no identity\n"
     ]
    },
    {
     "name": "stderr",
     "output_type": "stream",
     "text": [
      "100%|██████████| 1/1 [00:07<00:00,  7.12s/it]\n",
      "  6%|▌         | 3/50 [00:22<05:47,  7.39s/it]"
     ]
    },
    {
     "name": "stdout",
     "output_type": "stream",
     "text": [
      "----EPOCH: 3----\n"
     ]
    },
    {
     "name": "stderr",
     "output_type": "stream",
     "text": []
    },
    {
     "name": "stdout",
     "output_type": "stream",
     "text": [
      "zero-size array to reduction operation minimum which has no identity\n"
     ]
    },
    {
     "name": "stderr",
     "output_type": "stream",
     "text": [
      "100%|██████████| 1/1 [00:07<00:00,  7.08s/it]\n",
      "  8%|▊         | 4/50 [00:29<05:34,  7.27s/it]"
     ]
    },
    {
     "name": "stdout",
     "output_type": "stream",
     "text": [
      "----EPOCH: 4----\n"
     ]
    },
    {
     "name": "stderr",
     "output_type": "stream",
     "text": []
    },
    {
     "name": "stdout",
     "output_type": "stream",
     "text": [
      "zero-size array to reduction operation minimum which has no identity\n"
     ]
    },
    {
     "name": "stderr",
     "output_type": "stream",
     "text": [
      "100%|██████████| 1/1 [00:07<00:00,  7.11s/it]\n",
      " 10%|█         | 5/50 [00:36<05:24,  7.22s/it]"
     ]
    },
    {
     "name": "stdout",
     "output_type": "stream",
     "text": [
      "----EPOCH: 5----\n"
     ]
    },
    {
     "name": "stderr",
     "output_type": "stream",
     "text": []
    },
    {
     "name": "stdout",
     "output_type": "stream",
     "text": [
      "zero-size array to reduction operation minimum which has no identity\n"
     ]
    },
    {
     "name": "stderr",
     "output_type": "stream",
     "text": [
      "100%|██████████| 1/1 [00:07<00:00,  7.15s/it]\n",
      " 12%|█▏        | 6/50 [00:43<05:16,  7.20s/it]"
     ]
    },
    {
     "name": "stdout",
     "output_type": "stream",
     "text": [
      "----EPOCH: 6----\n"
     ]
    },
    {
     "name": "stderr",
     "output_type": "stream",
     "text": []
    },
    {
     "name": "stdout",
     "output_type": "stream",
     "text": [
      "zero-size array to reduction operation minimum which has no identity\n"
     ]
    },
    {
     "name": "stderr",
     "output_type": "stream",
     "text": [
      "100%|██████████| 1/1 [00:07<00:00,  7.08s/it]\n",
      " 14%|█▍        | 7/50 [00:51<05:08,  7.17s/it]"
     ]
    },
    {
     "name": "stdout",
     "output_type": "stream",
     "text": [
      "----EPOCH: 7----\n"
     ]
    },
    {
     "name": "stderr",
     "output_type": "stream",
     "text": []
    },
    {
     "name": "stdout",
     "output_type": "stream",
     "text": [
      "zero-size array to reduction operation minimum which has no identity\n"
     ]
    },
    {
     "name": "stderr",
     "output_type": "stream",
     "text": [
      "100%|██████████| 1/1 [00:07<00:00,  7.10s/it]\n",
      " 16%|█▌        | 8/50 [00:58<05:00,  7.15s/it]"
     ]
    },
    {
     "name": "stdout",
     "output_type": "stream",
     "text": [
      "----EPOCH: 8----\n"
     ]
    },
    {
     "name": "stderr",
     "output_type": "stream",
     "text": []
    },
    {
     "name": "stdout",
     "output_type": "stream",
     "text": [
      "zero-size array to reduction operation minimum which has no identity\n"
     ]
    },
    {
     "name": "stderr",
     "output_type": "stream",
     "text": [
      "100%|██████████| 1/1 [00:07<00:00,  7.12s/it]\n",
      " 18%|█▊        | 9/50 [01:05<04:53,  7.15s/it]"
     ]
    },
    {
     "name": "stdout",
     "output_type": "stream",
     "text": [
      "----EPOCH: 9----\n"
     ]
    },
    {
     "name": "stderr",
     "output_type": "stream",
     "text": []
    },
    {
     "name": "stdout",
     "output_type": "stream",
     "text": [
      "zero-size array to reduction operation minimum which has no identity\n"
     ]
    },
    {
     "name": "stderr",
     "output_type": "stream",
     "text": [
      "100%|██████████| 1/1 [00:07<00:00,  7.14s/it]\n",
      " 20%|██        | 10/50 [01:12<04:46,  7.15s/it]"
     ]
    },
    {
     "name": "stdout",
     "output_type": "stream",
     "text": [
      "----EPOCH: 10----\n"
     ]
    },
    {
     "name": "stderr",
     "output_type": "stream",
     "text": []
    },
    {
     "name": "stdout",
     "output_type": "stream",
     "text": [
      "zero-size array to reduction operation minimum which has no identity\n"
     ]
    },
    {
     "name": "stderr",
     "output_type": "stream",
     "text": [
      "100%|██████████| 1/1 [00:07<00:00,  7.11s/it]\n",
      " 22%|██▏       | 11/50 [01:19<04:38,  7.15s/it]"
     ]
    },
    {
     "name": "stdout",
     "output_type": "stream",
     "text": [
      "----EPOCH: 11----\n"
     ]
    },
    {
     "name": "stderr",
     "output_type": "stream",
     "text": []
    },
    {
     "name": "stdout",
     "output_type": "stream",
     "text": [
      "zero-size array to reduction operation minimum which has no identity\n"
     ]
    },
    {
     "name": "stderr",
     "output_type": "stream",
     "text": [
      "100%|██████████| 1/1 [00:07<00:00,  7.14s/it]\n",
      " 24%|██▍       | 12/50 [01:26<04:31,  7.15s/it]"
     ]
    },
    {
     "name": "stdout",
     "output_type": "stream",
     "text": [
      "----EPOCH: 12----\n"
     ]
    },
    {
     "name": "stderr",
     "output_type": "stream",
     "text": []
    },
    {
     "name": "stdout",
     "output_type": "stream",
     "text": [
      "zero-size array to reduction operation minimum which has no identity\n"
     ]
    },
    {
     "name": "stderr",
     "output_type": "stream",
     "text": [
      "100%|██████████| 1/1 [00:07<00:00,  7.09s/it]\n",
      " 26%|██▌       | 13/50 [01:33<04:24,  7.14s/it]"
     ]
    },
    {
     "name": "stdout",
     "output_type": "stream",
     "text": [
      "----EPOCH: 13----\n"
     ]
    },
    {
     "name": "stderr",
     "output_type": "stream",
     "text": []
    },
    {
     "name": "stdout",
     "output_type": "stream",
     "text": [
      "zero-size array to reduction operation minimum which has no identity\n"
     ]
    },
    {
     "name": "stderr",
     "output_type": "stream",
     "text": [
      "100%|██████████| 1/1 [00:07<00:00,  7.17s/it]\n",
      " 28%|██▊       | 14/50 [01:41<04:17,  7.15s/it]"
     ]
    },
    {
     "name": "stdout",
     "output_type": "stream",
     "text": [
      "----EPOCH: 14----\n"
     ]
    },
    {
     "name": "stderr",
     "output_type": "stream",
     "text": []
    },
    {
     "name": "stdout",
     "output_type": "stream",
     "text": [
      "zero-size array to reduction operation minimum which has no identity\n"
     ]
    },
    {
     "name": "stderr",
     "output_type": "stream",
     "text": [
      "100%|██████████| 1/1 [00:07<00:00,  7.13s/it]\n",
      " 30%|███       | 15/50 [01:48<04:10,  7.15s/it]"
     ]
    },
    {
     "name": "stdout",
     "output_type": "stream",
     "text": [
      "----EPOCH: 15----\n"
     ]
    },
    {
     "name": "stderr",
     "output_type": "stream",
     "text": []
    },
    {
     "name": "stdout",
     "output_type": "stream",
     "text": [
      "zero-size array to reduction operation minimum which has no identity\n"
     ]
    },
    {
     "name": "stderr",
     "output_type": "stream",
     "text": [
      "100%|██████████| 1/1 [00:07<00:00,  7.43s/it]\n",
      " 32%|███▏      | 16/50 [01:55<04:06,  7.24s/it]"
     ]
    },
    {
     "name": "stdout",
     "output_type": "stream",
     "text": [
      "----EPOCH: 16----\n"
     ]
    },
    {
     "name": "stderr",
     "output_type": "stream",
     "text": []
    },
    {
     "name": "stdout",
     "output_type": "stream",
     "text": [
      "zero-size array to reduction operation minimum which has no identity\n"
     ]
    },
    {
     "name": "stderr",
     "output_type": "stream",
     "text": [
      "100%|██████████| 1/1 [00:07<00:00,  7.27s/it]\n",
      " 34%|███▍      | 17/50 [02:02<03:59,  7.26s/it]"
     ]
    },
    {
     "name": "stdout",
     "output_type": "stream",
     "text": [
      "----EPOCH: 17----\n"
     ]
    },
    {
     "name": "stderr",
     "output_type": "stream",
     "text": []
    },
    {
     "name": "stdout",
     "output_type": "stream",
     "text": [
      "zero-size array to reduction operation minimum which has no identity\n"
     ]
    },
    {
     "name": "stderr",
     "output_type": "stream",
     "text": [
      "100%|██████████| 1/1 [00:07<00:00,  7.27s/it]\n",
      " 36%|███▌      | 18/50 [02:10<03:52,  7.27s/it]"
     ]
    },
    {
     "name": "stdout",
     "output_type": "stream",
     "text": [
      "----EPOCH: 18----\n"
     ]
    },
    {
     "name": "stderr",
     "output_type": "stream",
     "text": []
    },
    {
     "name": "stdout",
     "output_type": "stream",
     "text": [
      "zero-size array to reduction operation minimum which has no identity\n"
     ]
    },
    {
     "name": "stderr",
     "output_type": "stream",
     "text": [
      "100%|██████████| 1/1 [00:07<00:00,  7.16s/it]\n",
      " 38%|███▊      | 19/50 [02:17<03:44,  7.24s/it]"
     ]
    },
    {
     "name": "stdout",
     "output_type": "stream",
     "text": [
      "----EPOCH: 19----\n"
     ]
    },
    {
     "name": "stderr",
     "output_type": "stream",
     "text": []
    },
    {
     "name": "stdout",
     "output_type": "stream",
     "text": [
      "zero-size array to reduction operation minimum which has no identity\n"
     ]
    },
    {
     "name": "stderr",
     "output_type": "stream",
     "text": [
      "100%|██████████| 1/1 [00:07<00:00,  7.12s/it]\n",
      " 40%|████      | 20/50 [02:24<03:36,  7.21s/it]"
     ]
    },
    {
     "name": "stdout",
     "output_type": "stream",
     "text": [
      "----EPOCH: 20----\n"
     ]
    },
    {
     "name": "stderr",
     "output_type": "stream",
     "text": []
    },
    {
     "name": "stdout",
     "output_type": "stream",
     "text": [
      "zero-size array to reduction operation minimum which has no identity\n"
     ]
    },
    {
     "name": "stderr",
     "output_type": "stream",
     "text": [
      "100%|██████████| 1/1 [00:07<00:00,  7.15s/it]\n",
      " 42%|████▏     | 21/50 [02:31<03:28,  7.19s/it]"
     ]
    },
    {
     "name": "stdout",
     "output_type": "stream",
     "text": [
      "----EPOCH: 21----\n"
     ]
    },
    {
     "name": "stderr",
     "output_type": "stream",
     "text": []
    },
    {
     "name": "stdout",
     "output_type": "stream",
     "text": [
      "zero-size array to reduction operation minimum which has no identity\n"
     ]
    },
    {
     "name": "stderr",
     "output_type": "stream",
     "text": [
      "100%|██████████| 1/1 [00:07<00:00,  7.29s/it]\n",
      " 44%|████▍     | 22/50 [02:38<03:22,  7.23s/it]"
     ]
    },
    {
     "name": "stdout",
     "output_type": "stream",
     "text": [
      "----EPOCH: 22----\n"
     ]
    },
    {
     "name": "stderr",
     "output_type": "stream",
     "text": []
    },
    {
     "name": "stdout",
     "output_type": "stream",
     "text": [
      "zero-size array to reduction operation minimum which has no identity\n"
     ]
    },
    {
     "name": "stderr",
     "output_type": "stream",
     "text": [
      "100%|██████████| 1/1 [00:07<00:00,  7.13s/it]\n",
      " 46%|████▌     | 23/50 [02:46<03:14,  7.21s/it]"
     ]
    },
    {
     "name": "stdout",
     "output_type": "stream",
     "text": [
      "----EPOCH: 23----\n"
     ]
    },
    {
     "name": "stderr",
     "output_type": "stream",
     "text": []
    },
    {
     "name": "stdout",
     "output_type": "stream",
     "text": [
      "zero-size array to reduction operation minimum which has no identity\n"
     ]
    },
    {
     "name": "stderr",
     "output_type": "stream",
     "text": [
      "100%|██████████| 1/1 [00:07<00:00,  7.17s/it]\n",
      " 48%|████▊     | 24/50 [02:53<03:07,  7.20s/it]"
     ]
    },
    {
     "name": "stdout",
     "output_type": "stream",
     "text": [
      "----EPOCH: 24----\n"
     ]
    },
    {
     "name": "stderr",
     "output_type": "stream",
     "text": []
    },
    {
     "name": "stdout",
     "output_type": "stream",
     "text": [
      "zero-size array to reduction operation minimum which has no identity\n"
     ]
    },
    {
     "name": "stderr",
     "output_type": "stream",
     "text": [
      "100%|██████████| 1/1 [00:07<00:00,  7.16s/it]\n",
      " 50%|█████     | 25/50 [03:00<02:59,  7.19s/it]"
     ]
    },
    {
     "name": "stdout",
     "output_type": "stream",
     "text": [
      "----EPOCH: 25----\n"
     ]
    },
    {
     "name": "stderr",
     "output_type": "stream",
     "text": []
    },
    {
     "name": "stdout",
     "output_type": "stream",
     "text": [
      "zero-size array to reduction operation minimum which has no identity\n"
     ]
    },
    {
     "name": "stderr",
     "output_type": "stream",
     "text": [
      "100%|██████████| 1/1 [00:07<00:00,  7.14s/it]\n",
      " 52%|█████▏    | 26/50 [03:07<02:52,  7.18s/it]"
     ]
    },
    {
     "name": "stdout",
     "output_type": "stream",
     "text": [
      "----EPOCH: 26----\n"
     ]
    },
    {
     "name": "stderr",
     "output_type": "stream",
     "text": []
    },
    {
     "name": "stdout",
     "output_type": "stream",
     "text": [
      "zero-size array to reduction operation minimum which has no identity\n"
     ]
    },
    {
     "name": "stderr",
     "output_type": "stream",
     "text": [
      "100%|██████████| 1/1 [00:07<00:00,  7.14s/it]\n",
      " 54%|█████▍    | 27/50 [03:14<02:45,  7.18s/it]"
     ]
    },
    {
     "name": "stdout",
     "output_type": "stream",
     "text": [
      "----EPOCH: 27----\n"
     ]
    },
    {
     "name": "stderr",
     "output_type": "stream",
     "text": []
    },
    {
     "name": "stdout",
     "output_type": "stream",
     "text": [
      "zero-size array to reduction operation minimum which has no identity\n"
     ]
    },
    {
     "name": "stderr",
     "output_type": "stream",
     "text": [
      "100%|██████████| 1/1 [00:07<00:00,  7.14s/it]\n",
      " 56%|█████▌    | 28/50 [03:21<02:37,  7.17s/it]"
     ]
    },
    {
     "name": "stdout",
     "output_type": "stream",
     "text": [
      "----EPOCH: 28----\n"
     ]
    },
    {
     "name": "stderr",
     "output_type": "stream",
     "text": []
    },
    {
     "name": "stdout",
     "output_type": "stream",
     "text": [
      "zero-size array to reduction operation minimum which has no identity\n"
     ]
    },
    {
     "name": "stderr",
     "output_type": "stream",
     "text": [
      "100%|██████████| 1/1 [00:07<00:00,  7.19s/it]\n",
      " 58%|█████▊    | 29/50 [03:29<02:30,  7.18s/it]"
     ]
    },
    {
     "name": "stdout",
     "output_type": "stream",
     "text": [
      "----EPOCH: 29----\n"
     ]
    },
    {
     "name": "stderr",
     "output_type": "stream",
     "text": []
    },
    {
     "name": "stdout",
     "output_type": "stream",
     "text": [
      "zero-size array to reduction operation minimum which has no identity\n"
     ]
    },
    {
     "name": "stderr",
     "output_type": "stream",
     "text": [
      "100%|██████████| 1/1 [00:07<00:00,  7.17s/it]\n",
      " 60%|██████    | 30/50 [03:36<02:23,  7.18s/it]"
     ]
    },
    {
     "name": "stdout",
     "output_type": "stream",
     "text": [
      "----EPOCH: 30----\n"
     ]
    },
    {
     "name": "stderr",
     "output_type": "stream",
     "text": []
    },
    {
     "name": "stdout",
     "output_type": "stream",
     "text": [
      "zero-size array to reduction operation minimum which has no identity\n"
     ]
    },
    {
     "name": "stderr",
     "output_type": "stream",
     "text": [
      "100%|██████████| 1/1 [00:07<00:00,  7.16s/it]\n",
      " 62%|██████▏   | 31/50 [03:43<02:16,  7.18s/it]"
     ]
    },
    {
     "name": "stdout",
     "output_type": "stream",
     "text": [
      "----EPOCH: 31----\n"
     ]
    },
    {
     "name": "stderr",
     "output_type": "stream",
     "text": []
    },
    {
     "name": "stdout",
     "output_type": "stream",
     "text": [
      "zero-size array to reduction operation minimum which has no identity\n"
     ]
    },
    {
     "name": "stderr",
     "output_type": "stream",
     "text": [
      "100%|██████████| 1/1 [00:07<00:00,  7.17s/it]\n",
      " 64%|██████▍   | 32/50 [03:50<02:09,  7.18s/it]"
     ]
    },
    {
     "name": "stdout",
     "output_type": "stream",
     "text": [
      "----EPOCH: 32----\n"
     ]
    },
    {
     "name": "stderr",
     "output_type": "stream",
     "text": []
    },
    {
     "name": "stdout",
     "output_type": "stream",
     "text": [
      "zero-size array to reduction operation minimum which has no identity\n"
     ]
    },
    {
     "name": "stderr",
     "output_type": "stream",
     "text": [
      "100%|██████████| 1/1 [00:07<00:00,  7.15s/it]\n",
      " 66%|██████▌   | 33/50 [03:57<02:02,  7.18s/it]"
     ]
    },
    {
     "name": "stdout",
     "output_type": "stream",
     "text": [
      "----EPOCH: 33----\n"
     ]
    },
    {
     "name": "stderr",
     "output_type": "stream",
     "text": []
    },
    {
     "name": "stdout",
     "output_type": "stream",
     "text": [
      "zero-size array to reduction operation minimum which has no identity\n"
     ]
    },
    {
     "name": "stderr",
     "output_type": "stream",
     "text": [
      "100%|██████████| 1/1 [00:07<00:00,  7.20s/it]\n",
      " 68%|██████▊   | 34/50 [04:05<01:54,  7.19s/it]"
     ]
    },
    {
     "name": "stdout",
     "output_type": "stream",
     "text": [
      "----EPOCH: 34----\n"
     ]
    },
    {
     "name": "stderr",
     "output_type": "stream",
     "text": []
    },
    {
     "name": "stdout",
     "output_type": "stream",
     "text": [
      "zero-size array to reduction operation minimum which has no identity\n"
     ]
    },
    {
     "name": "stderr",
     "output_type": "stream",
     "text": [
      "100%|██████████| 1/1 [00:07<00:00,  7.12s/it]\n",
      " 70%|███████   | 35/50 [04:12<01:47,  7.17s/it]"
     ]
    },
    {
     "name": "stdout",
     "output_type": "stream",
     "text": [
      "----EPOCH: 35----\n"
     ]
    },
    {
     "name": "stderr",
     "output_type": "stream",
     "text": []
    },
    {
     "name": "stdout",
     "output_type": "stream",
     "text": [
      "zero-size array to reduction operation minimum which has no identity\n"
     ]
    },
    {
     "name": "stderr",
     "output_type": "stream",
     "text": [
      "100%|██████████| 1/1 [00:07<00:00,  7.14s/it]\n",
      " 72%|███████▏  | 36/50 [04:19<01:40,  7.17s/it]"
     ]
    },
    {
     "name": "stdout",
     "output_type": "stream",
     "text": [
      "----EPOCH: 36----\n"
     ]
    },
    {
     "name": "stderr",
     "output_type": "stream",
     "text": []
    },
    {
     "name": "stdout",
     "output_type": "stream",
     "text": [
      "zero-size array to reduction operation minimum which has no identity\n"
     ]
    },
    {
     "name": "stderr",
     "output_type": "stream",
     "text": [
      "100%|██████████| 1/1 [00:07<00:00,  7.17s/it]\n",
      " 74%|███████▍  | 37/50 [04:26<01:33,  7.17s/it]"
     ]
    },
    {
     "name": "stdout",
     "output_type": "stream",
     "text": [
      "----EPOCH: 37----\n"
     ]
    },
    {
     "name": "stderr",
     "output_type": "stream",
     "text": []
    },
    {
     "name": "stdout",
     "output_type": "stream",
     "text": [
      "zero-size array to reduction operation minimum which has no identity\n"
     ]
    },
    {
     "name": "stderr",
     "output_type": "stream",
     "text": [
      "100%|██████████| 1/1 [00:07<00:00,  7.22s/it]\n",
      " 76%|███████▌  | 38/50 [04:33<01:26,  7.19s/it]"
     ]
    },
    {
     "name": "stdout",
     "output_type": "stream",
     "text": [
      "----EPOCH: 38----\n"
     ]
    },
    {
     "name": "stderr",
     "output_type": "stream",
     "text": []
    },
    {
     "name": "stdout",
     "output_type": "stream",
     "text": [
      "zero-size array to reduction operation minimum which has no identity\n"
     ]
    },
    {
     "name": "stderr",
     "output_type": "stream",
     "text": [
      "100%|██████████| 1/1 [00:07<00:00,  7.06s/it]\n",
      " 78%|███████▊  | 39/50 [04:40<01:18,  7.16s/it]"
     ]
    },
    {
     "name": "stdout",
     "output_type": "stream",
     "text": [
      "----EPOCH: 39----\n"
     ]
    },
    {
     "name": "stderr",
     "output_type": "stream",
     "text": []
    },
    {
     "name": "stdout",
     "output_type": "stream",
     "text": [
      "zero-size array to reduction operation minimum which has no identity\n"
     ]
    },
    {
     "name": "stderr",
     "output_type": "stream",
     "text": [
      "100%|██████████| 1/1 [00:07<00:00,  7.10s/it]\n",
      " 80%|████████  | 40/50 [04:48<01:11,  7.15s/it]"
     ]
    },
    {
     "name": "stdout",
     "output_type": "stream",
     "text": [
      "----EPOCH: 40----\n"
     ]
    },
    {
     "name": "stderr",
     "output_type": "stream",
     "text": []
    },
    {
     "name": "stdout",
     "output_type": "stream",
     "text": [
      "zero-size array to reduction operation minimum which has no identity\n"
     ]
    },
    {
     "name": "stderr",
     "output_type": "stream",
     "text": [
      "100%|██████████| 1/1 [00:07<00:00,  7.43s/it]\n",
      " 82%|████████▏ | 41/50 [04:55<01:05,  7.24s/it]"
     ]
    },
    {
     "name": "stdout",
     "output_type": "stream",
     "text": [
      "----EPOCH: 41----\n"
     ]
    },
    {
     "name": "stderr",
     "output_type": "stream",
     "text": []
    },
    {
     "name": "stdout",
     "output_type": "stream",
     "text": [
      "zero-size array to reduction operation minimum which has no identity\n"
     ]
    },
    {
     "name": "stderr",
     "output_type": "stream",
     "text": [
      "100%|██████████| 1/1 [00:07<00:00,  7.12s/it]\n",
      " 84%|████████▍ | 42/50 [05:02<00:57,  7.21s/it]"
     ]
    },
    {
     "name": "stdout",
     "output_type": "stream",
     "text": [
      "----EPOCH: 42----\n"
     ]
    },
    {
     "name": "stderr",
     "output_type": "stream",
     "text": []
    },
    {
     "name": "stdout",
     "output_type": "stream",
     "text": [
      "zero-size array to reduction operation minimum which has no identity\n"
     ]
    },
    {
     "name": "stderr",
     "output_type": "stream",
     "text": [
      "100%|██████████| 1/1 [00:07<00:00,  7.14s/it]\n",
      " 86%|████████▌ | 43/50 [05:09<00:50,  7.20s/it]"
     ]
    },
    {
     "name": "stdout",
     "output_type": "stream",
     "text": [
      "----EPOCH: 43----\n"
     ]
    },
    {
     "name": "stderr",
     "output_type": "stream",
     "text": []
    },
    {
     "name": "stdout",
     "output_type": "stream",
     "text": [
      "zero-size array to reduction operation minimum which has no identity\n"
     ]
    },
    {
     "name": "stderr",
     "output_type": "stream",
     "text": [
      "100%|██████████| 1/1 [00:07<00:00,  7.12s/it]\n",
      " 88%|████████▊ | 44/50 [05:16<00:43,  7.18s/it]"
     ]
    },
    {
     "name": "stdout",
     "output_type": "stream",
     "text": [
      "----EPOCH: 44----\n"
     ]
    },
    {
     "name": "stderr",
     "output_type": "stream",
     "text": []
    },
    {
     "name": "stdout",
     "output_type": "stream",
     "text": [
      "zero-size array to reduction operation minimum which has no identity\n"
     ]
    },
    {
     "name": "stderr",
     "output_type": "stream",
     "text": [
      "100%|██████████| 1/1 [00:07<00:00,  7.10s/it]\n",
      " 90%|█████████ | 45/50 [05:24<00:35,  7.16s/it]"
     ]
    },
    {
     "name": "stdout",
     "output_type": "stream",
     "text": [
      "----EPOCH: 45----\n"
     ]
    },
    {
     "name": "stderr",
     "output_type": "stream",
     "text": []
    },
    {
     "name": "stdout",
     "output_type": "stream",
     "text": [
      "zero-size array to reduction operation minimum which has no identity\n"
     ]
    },
    {
     "name": "stderr",
     "output_type": "stream",
     "text": [
      "100%|██████████| 1/1 [00:07<00:00,  7.30s/it]\n",
      " 92%|█████████▏| 46/50 [05:31<00:28,  7.21s/it]"
     ]
    },
    {
     "name": "stdout",
     "output_type": "stream",
     "text": [
      "----EPOCH: 46----\n"
     ]
    },
    {
     "name": "stderr",
     "output_type": "stream",
     "text": []
    },
    {
     "name": "stdout",
     "output_type": "stream",
     "text": [
      "zero-size array to reduction operation minimum which has no identity\n"
     ]
    },
    {
     "name": "stderr",
     "output_type": "stream",
     "text": [
      "100%|██████████| 1/1 [00:07<00:00,  7.16s/it]\n",
      " 94%|█████████▍| 47/50 [05:38<00:21,  7.20s/it]"
     ]
    },
    {
     "name": "stdout",
     "output_type": "stream",
     "text": [
      "----EPOCH: 47----\n"
     ]
    },
    {
     "name": "stderr",
     "output_type": "stream",
     "text": []
    },
    {
     "name": "stdout",
     "output_type": "stream",
     "text": [
      "zero-size array to reduction operation minimum which has no identity\n"
     ]
    },
    {
     "name": "stderr",
     "output_type": "stream",
     "text": [
      "100%|██████████| 1/1 [00:07<00:00,  7.10s/it]\n",
      " 96%|█████████▌| 48/50 [05:45<00:14,  7.18s/it]"
     ]
    },
    {
     "name": "stdout",
     "output_type": "stream",
     "text": [
      "----EPOCH: 48----\n"
     ]
    },
    {
     "name": "stderr",
     "output_type": "stream",
     "text": []
    },
    {
     "name": "stdout",
     "output_type": "stream",
     "text": [
      "zero-size array to reduction operation minimum which has no identity\n"
     ]
    },
    {
     "name": "stderr",
     "output_type": "stream",
     "text": [
      "100%|██████████| 1/1 [00:07<00:00,  7.14s/it]\n",
      " 98%|█████████▊| 49/50 [05:52<00:07,  7.17s/it]"
     ]
    },
    {
     "name": "stdout",
     "output_type": "stream",
     "text": [
      "----EPOCH: 49----\n"
     ]
    },
    {
     "name": "stderr",
     "output_type": "stream",
     "text": []
    },
    {
     "name": "stdout",
     "output_type": "stream",
     "text": [
      "zero-size array to reduction operation minimum which has no identity\n"
     ]
    },
    {
     "name": "stderr",
     "output_type": "stream",
     "text": [
      "100%|██████████| 1/1 [00:07<00:00,  7.17s/it]\n",
      "100%|██████████| 50/50 [06:00<00:00,  7.20s/it]\n"
     ]
    }
   ],
   "source": [
    "# LR = 2.5e-4*2\n",
    "model_resnet18, losses_resnet18, mask_losses_resnet18, regr_losses_resnet18 = train('resnet18',ds.num_classes,learn_rate=1e-4,epochs=50,train_loader=train_loader,val_loader=val_loader)\n"
   ]
  },
  {
   "cell_type": "markdown",
   "metadata": {},
   "source": [
    "# Visualize Loss Curves"
   ]
  },
  {
   "cell_type": "code",
   "execution_count": null,
   "metadata": {},
   "outputs": [
    {
     "data": {
      "image/png": "[encoded data removed]",
      "text/plain": [
       "<Figure size 640x480 with 1 Axes>"
      ]
     },
     "metadata": {},
     "output_type": "display_data"
    }
   ],
   "source": [
    "import matplotlib.pyplot as plt\n",
    "plt.plot(range(len(losses)),losses )\n",
    "plt.plot(range(len(losses)),mask_losses)\n",
    "plt.plot(range(len(losses)),regr_losses)\n",
    "plt.title(\"centernet (mobilenetv3 backbone) training\")\n",
    "plt.legend(['loss','mask loss','regression loss'])\n",
    "plt.show()"
   ]
  },
  {
   "cell_type": "code",
   "execution_count": null,
   "metadata": {},
   "outputs": [],
   "source": [
    "plt.plot(range(len(losses_resnet18)),losses_resnet18 )\n",
    "plt.plot(range(len(losses_resnet18)),mask_losses_resnet18)\n",
    "plt.plot(range(len(losses_resnet18)),regr_losses_resnet18)\n",
    "plt.title(\"centernet (resnet18 backbone) training\")\n",
    "plt.legend(['loss','mask loss','regression loss'])\n",
    "plt.show()"
   ]
  },
  {
   "cell_type": "code",
   "execution_count": null,
   "metadata": {},
   "outputs": [
    {
     "data": {
      "image/png": "[encoded data removed]",
      "text/plain": [
       "<Figure size 640x480 with 1 Axes>"
      ]
     },
     "metadata": {},
     "output_type": "display_data"
    }
   ],
   "source": [
    "plt.plot(range(len(losses)),losses )\n",
    "plt.plot(range(len(losses_resnet18)),losses_resnet18)\n",
    "plt.title(\"mv3 vs resnet18\")\n",
    "plt.legend(['mv3: loss','resnet18: loss'])\n",
    "plt.show()"
   ]
  },
  {
   "cell_type": "markdown",
   "metadata": {},
   "source": [
    "# Visualize Predictions"
   ]
  },
  {
   "cell_type": "code",
   "execution_count": 101,
   "metadata": {},
   "outputs": [],
   "source": [
    "# model_mv3(torch.rand(1,3,512,512))"
   ]
  },
  {
   "cell_type": "code",
   "execution_count": 137,
   "metadata": {},
   "outputs": [
    {
     "name": "stdout",
     "output_type": "stream",
     "text": [
      "[[128. 128. 128. 128.]\n",
      " [128. 128. 128. 128.]\n",
      " [128. 128. 128. 128.]\n",
      " ...\n",
      " [128. 128. 128. 128.]\n",
      " [128. 128. 128. 128.]\n",
      " [128. 128. 128. 128.]]\n"
     ]
    }
   ],
   "source": [
    "model_mv3.eval()\n",
    "for img, hm, reg, wh,reg_mask,inds, in_size, out_size, intermediate_size, scale,boxes_aug, target in val_loader:\n",
    "        break\n",
    "\n",
    "pred_hm, pred_regs = model_mv3(img)# (4,1,128,128), (4,2,128,128)\n",
    "pred_hm = torch.sigmoid(pred_hm)\n",
    "# bboxes,scores,classes = pred2box_multiclass(pred_hm[0].cpu().data.numpy(),\n",
    "#                                                         pred_regs[0].cpu().detach().numpy(),128,1,thresh=0.0)\n",
    "bboxes,scores,classes = pred2box_multiclass(pred_hm[0].data.numpy(),pred_regs[0].data.numpy(),128,1,thresh=0.1)\n",
    "bboxes,scores,classes =  filter_and_nms(bboxes,scores,classes,nms_threshold=0.6,n_top_scores=len(scores))\n",
    "print(bboxes)"
   ]
  },
  {
   "cell_type": "code",
   "execution_count": 138,
   "metadata": {},
   "outputs": [
    {
     "data": {
      "text/plain": [
       "<matplotlib.image.AxesImage at 0x2f330b190>"
      ]
     },
     "execution_count": 138,
     "metadata": {},
     "output_type": "execute_result"
    },
    {
     "data": {
      "image/png": "[encoded data removed]",
      "text/plain": [
       "<Figure size 640x480 with 1 Axes>"
      ]
     },
     "metadata": {},
     "output_type": "display_data"
    }
   ],
   "source": [
    "plt.imshow(pred_hm[0].data.numpy()[0],cmap='gray')"
   ]
  },
  {
   "cell_type": "code",
   "execution_count": null,
   "metadata": {},
   "outputs": [],
   "source": []
  }
 ],
 "metadata": {
  "kernelspec": {
   "display_name": "Python 3.8.13 64-bit ('centernet-tutorial')",
   "language": "python",
   "name": "python3"
  },
  "language_info": {
   "codemirror_mode": {
    "name": "ipython",
    "version": 3
   },
   "file_extension": ".py",
   "mimetype": "text/x-python",
   "name": "python",
   "nbconvert_exporter": "python",
   "pygments_lexer": "ipython3",
   "version": "3.8.13"
  },
  "orig_nbformat": 4,
  "vscode": {
   "interpreter": {
    "hash": "8c4847ba61354b9a2a97e4fd433e47cbf0c145ba9857abc70eb1f83b10d073fa"
   }
  }
 },
 "nbformat": 4,
 "nbformat_minor": 2
}
