{
  "cells": [
    {
      "cell_type": "code",
      "execution_count": 3,
      "metadata": {
        "id": "FYxq9Q8rk2P4"
      },
      "outputs": [],
      "source": [
        "%load_ext autoreload\n",
        "%autoreload 2"
      ]
    },
    {
      "cell_type": "code",
      "source": [
        "# !rm -rf /content"
      ],
      "metadata": {
        "id": "nRpKKqabpFBT"
      },
      "execution_count": 4,
      "outputs": []
    },
    {
      "cell_type": "code",
      "source": [
        "!git clone https://github.com/interactivetech/centernet-tutorial/"
      ],
      "metadata": {
        "colab": {
          "base_uri": "https://localhost:8080/"
        },
        "id": "_dEqce8bk-Rm",
        "outputId": "133a808a-b96f-49a8-d737-6f33814e611c"
      },
      "execution_count": 5,
      "outputs": [
        {
          "output_type": "stream",
          "name": "stdout",
          "text": [
            "fatal: destination path 'centernet-tutorial' already exists and is not an empty directory.\n"
          ]
        }
      ]
    },
    {
      "cell_type": "code",
      "execution_count": 6,
      "metadata": {
        "id": "j2F1yYyQk2P6"
      },
      "outputs": [],
      "source": [
        "import torch\n",
        "import sys\n",
        "sys.path.insert(0,'/content/centernet-tutorial/')\n",
        "from data_gen import ShapeDataset\n",
        "import matplotlib.pyplot as plt\n",
        "from PIL import Image\n",
        "from data import COCODetectionDataset, coco_detection_collate_fn, train_transform_norm, validation_transform_norm\n",
        "from tqdm import tqdm\n",
        "import numpy as np\n",
        "from model import centernet\n",
        "from loss import centerloss4\n",
        "from train import train\n",
        "from utils import pred2box_multiclass, filter_and_nms\n",
        "import cv2"
      ]
    },
    {
      "cell_type": "markdown",
      "metadata": {
        "id": "08FU7KXTk2P7"
      },
      "source": [
        "<h3> Table of Contents </h3>\n",
        "<ul>\n",
        "<li><a href=\"#Prelims\">Prelims</a></li>\n",
        "<li><a href=\"#Background\">Background</a><ul>\n",
        "<li><a href=\"#single-vs-two-stage\">Single Stage vs Two Stage</a></li>\n",
        "<li><a href=\"#Centernet\">Centernet</a></li>\n",
        "</ul>\n",
        "<li><a href=\"#Preprocessing\">Preprocessing</a></li>\n",
        "<ul>\n",
        "<li><a href=\"#Encode-Location-as-Gaussian-Keypoints\">Encode Location as Gaussian Keypoints</a></li>\n",
        "<li><a href=\"#Encode-Width-and-Height\">Encode Width and Height</a></li>\n",
        "</ul>\n",
        "<li><a href=\"#Model Architecture\">Model Architecture</a></li>\n",
        "<ul>\n",
        "<li><a href=\"#Backbone\">Backbone</a></li>\n",
        "<li><a href=\"#Class Head\">Class Head</a></li>\n",
        "<li><a href=\"#Regression Head\">Regression Head</a></li>\n",
        "<li><a href=\"#Initalization for Focal Loss\">Initalization for Focal Loss</a></li>\n",
        "</ul>\n",
        "<li><a href=\"#Loss Function\">Loss Function</a></li>\n",
        "<ul>\n",
        "<li><a href=\"#Focal Loss\">Focal Loss</a></li>\n",
        "<li><a href=\"#Regression Loss\">Regression Loss</a></li>\n",
        "</ul>\n",
        "<li><a href=\"#Prepare-Training-Model\">Prepare Training Model</a></li>\n",
        "<li><a href=\"#Train-Model\">Train Model</a></li>\n",
        "<li><a href=\"#Evaluate-Loss-Curves\">Evaluate Loss Curves</a></li>\n",
        "<li><a href=\"#Evaluate-Model-Predictions\">Evaluate Model Predictions</a></li>\n",
        "\n",
        "</ul>\n"
      ]
    },
    {
      "cell_type": "markdown",
      "metadata": {
        "id": "vJyq-PYBk2P8"
      },
      "source": [
        "# Prelims\n",
        "\n",
        "Generate Dataset"
      ]
    },
    {
      "cell_type": "code",
      "execution_count": 7,
      "metadata": {
        "colab": {
          "base_uri": "https://localhost:8080/"
        },
        "id": "W-wGsCVKk2P8",
        "outputId": "d86b3bdc-295f-498f-9d2b-ecdae20e140b"
      },
      "outputs": [
        {
          "output_type": "stream",
          "name": "stdout",
          "text": [
            "Num Circle: 1\n",
            "Num Circle+Rect: 2\n",
            "Num Anns: 3\n",
            "[{'segmentation': [], 'area': 3600, 'iscrowd': 0, 'image_id': 1, 'bbox': [375, 316, 60, 60], 'category_id': 0, 'id': 1}, {'segmentation': [], 'area': 1024, 'iscrowd': 0, 'image_id': 1, 'bbox': [328, 353, 32, 32], 'category_id': 1, 'id': 2}]\n",
            "[{'file_name': 'dummy_1.png', 'height': 512, 'width': 512, 'id': 1}]\n",
            "Num Circle: 1\n",
            "Num Circle+Rect: 2\n",
            "Num Anns: 5\n",
            "[{'segmentation': [], 'area': 3600, 'iscrowd': 0, 'image_id': 1, 'bbox': [375, 316, 60, 60], 'category_id': 0, 'id': 1}, {'segmentation': [], 'area': 1024, 'iscrowd': 0, 'image_id': 1, 'bbox': [328, 353, 32, 32], 'category_id': 1, 'id': 2}, {'segmentation': [], 'area': 3364, 'iscrowd': 0, 'image_id': 2, 'bbox': [47, 117, 58, 58], 'category_id': 0, 'id': 3}, {'segmentation': [], 'area': 1024, 'iscrowd': 0, 'image_id': 2, 'bbox': [403, 319, 32, 32], 'category_id': 1, 'id': 4}]\n",
            "[{'file_name': 'dummy_1.png', 'height': 512, 'width': 512, 'id': 1}, {'file_name': 'dummy_2.png', 'height': 512, 'width': 512, 'id': 2}]\n",
            "Num Circle: 1\n",
            "Num Circle+Rect: 2\n",
            "Num Anns: 7\n",
            "[{'segmentation': [], 'area': 3600, 'iscrowd': 0, 'image_id': 1, 'bbox': [375, 316, 60, 60], 'category_id': 0, 'id': 1}, {'segmentation': [], 'area': 1024, 'iscrowd': 0, 'image_id': 1, 'bbox': [328, 353, 32, 32], 'category_id': 1, 'id': 2}, {'segmentation': [], 'area': 3364, 'iscrowd': 0, 'image_id': 2, 'bbox': [47, 117, 58, 58], 'category_id': 0, 'id': 3}, {'segmentation': [], 'area': 1024, 'iscrowd': 0, 'image_id': 2, 'bbox': [403, 319, 32, 32], 'category_id': 1, 'id': 4}, {'segmentation': [], 'area': 2704, 'iscrowd': 0, 'image_id': 3, 'bbox': [197, 231, 52, 52], 'category_id': 0, 'id': 5}, {'segmentation': [], 'area': 1024, 'iscrowd': 0, 'image_id': 3, 'bbox': [380, 325, 32, 32], 'category_id': 1, 'id': 6}]\n",
            "[{'file_name': 'dummy_1.png', 'height': 512, 'width': 512, 'id': 1}, {'file_name': 'dummy_2.png', 'height': 512, 'width': 512, 'id': 2}, {'file_name': 'dummy_3.png', 'height': 512, 'width': 512, 'id': 3}]\n",
            "Num Circle: 1\n",
            "Num Circle+Rect: 2\n",
            "Num Anns: 9\n",
            "[{'segmentation': [], 'area': 3600, 'iscrowd': 0, 'image_id': 1, 'bbox': [375, 316, 60, 60], 'category_id': 0, 'id': 1}, {'segmentation': [], 'area': 1024, 'iscrowd': 0, 'image_id': 1, 'bbox': [328, 353, 32, 32], 'category_id': 1, 'id': 2}, {'segmentation': [], 'area': 3364, 'iscrowd': 0, 'image_id': 2, 'bbox': [47, 117, 58, 58], 'category_id': 0, 'id': 3}, {'segmentation': [], 'area': 1024, 'iscrowd': 0, 'image_id': 2, 'bbox': [403, 319, 32, 32], 'category_id': 1, 'id': 4}, {'segmentation': [], 'area': 2704, 'iscrowd': 0, 'image_id': 3, 'bbox': [197, 231, 52, 52], 'category_id': 0, 'id': 5}, {'segmentation': [], 'area': 1024, 'iscrowd': 0, 'image_id': 3, 'bbox': [380, 325, 32, 32], 'category_id': 1, 'id': 6}, {'segmentation': [], 'area': 2304, 'iscrowd': 0, 'image_id': 4, 'bbox': [260, 213, 48, 48], 'category_id': 0, 'id': 7}, {'segmentation': [], 'area': 1024, 'iscrowd': 0, 'image_id': 4, 'bbox': [65, 236, 32, 32], 'category_id': 1, 'id': 8}]\n",
            "[{'file_name': 'dummy_1.png', 'height': 512, 'width': 512, 'id': 1}, {'file_name': 'dummy_2.png', 'height': 512, 'width': 512, 'id': 2}, {'file_name': 'dummy_3.png', 'height': 512, 'width': 512, 'id': 3}, {'file_name': 'dummy_4.png', 'height': 512, 'width': 512, 'id': 4}]\n",
            "Num Circle: 1\n",
            "Num Circle+Rect: 2\n",
            "Num Anns: 11\n",
            "[{'segmentation': [], 'area': 3600, 'iscrowd': 0, 'image_id': 1, 'bbox': [375, 316, 60, 60], 'category_id': 0, 'id': 1}, {'segmentation': [], 'area': 1024, 'iscrowd': 0, 'image_id': 1, 'bbox': [328, 353, 32, 32], 'category_id': 1, 'id': 2}, {'segmentation': [], 'area': 3364, 'iscrowd': 0, 'image_id': 2, 'bbox': [47, 117, 58, 58], 'category_id': 0, 'id': 3}, {'segmentation': [], 'area': 1024, 'iscrowd': 0, 'image_id': 2, 'bbox': [403, 319, 32, 32], 'category_id': 1, 'id': 4}, {'segmentation': [], 'area': 2704, 'iscrowd': 0, 'image_id': 3, 'bbox': [197, 231, 52, 52], 'category_id': 0, 'id': 5}, {'segmentation': [], 'area': 1024, 'iscrowd': 0, 'image_id': 3, 'bbox': [380, 325, 32, 32], 'category_id': 1, 'id': 6}, {'segmentation': [], 'area': 2304, 'iscrowd': 0, 'image_id': 4, 'bbox': [260, 213, 48, 48], 'category_id': 0, 'id': 7}, {'segmentation': [], 'area': 1024, 'iscrowd': 0, 'image_id': 4, 'bbox': [65, 236, 32, 32], 'category_id': 1, 'id': 8}, {'segmentation': [], 'area': 2916, 'iscrowd': 0, 'image_id': 5, 'bbox': [422, 309, 54, 54], 'category_id': 0, 'id': 9}, {'segmentation': [], 'area': 1024, 'iscrowd': 0, 'image_id': 5, 'bbox': [281, 98, 32, 32], 'category_id': 1, 'id': 10}]\n",
            "[{'file_name': 'dummy_1.png', 'height': 512, 'width': 512, 'id': 1}, {'file_name': 'dummy_2.png', 'height': 512, 'width': 512, 'id': 2}, {'file_name': 'dummy_3.png', 'height': 512, 'width': 512, 'id': 3}, {'file_name': 'dummy_4.png', 'height': 512, 'width': 512, 'id': 4}, {'file_name': 'dummy_5.png', 'height': 512, 'width': 512, 'id': 5}]\n",
            "Num Circle: 1\n",
            "Num Circle+Rect: 2\n",
            "Num Anns: 13\n",
            "[{'segmentation': [], 'area': 3600, 'iscrowd': 0, 'image_id': 1, 'bbox': [375, 316, 60, 60], 'category_id': 0, 'id': 1}, {'segmentation': [], 'area': 1024, 'iscrowd': 0, 'image_id': 1, 'bbox': [328, 353, 32, 32], 'category_id': 1, 'id': 2}, {'segmentation': [], 'area': 3364, 'iscrowd': 0, 'image_id': 2, 'bbox': [47, 117, 58, 58], 'category_id': 0, 'id': 3}, {'segmentation': [], 'area': 1024, 'iscrowd': 0, 'image_id': 2, 'bbox': [403, 319, 32, 32], 'category_id': 1, 'id': 4}, {'segmentation': [], 'area': 2704, 'iscrowd': 0, 'image_id': 3, 'bbox': [197, 231, 52, 52], 'category_id': 0, 'id': 5}, {'segmentation': [], 'area': 1024, 'iscrowd': 0, 'image_id': 3, 'bbox': [380, 325, 32, 32], 'category_id': 1, 'id': 6}, {'segmentation': [], 'area': 2304, 'iscrowd': 0, 'image_id': 4, 'bbox': [260, 213, 48, 48], 'category_id': 0, 'id': 7}, {'segmentation': [], 'area': 1024, 'iscrowd': 0, 'image_id': 4, 'bbox': [65, 236, 32, 32], 'category_id': 1, 'id': 8}, {'segmentation': [], 'area': 2916, 'iscrowd': 0, 'image_id': 5, 'bbox': [422, 309, 54, 54], 'category_id': 0, 'id': 9}, {'segmentation': [], 'area': 1024, 'iscrowd': 0, 'image_id': 5, 'bbox': [281, 98, 32, 32], 'category_id': 1, 'id': 10}, {'segmentation': [], 'area': 2704, 'iscrowd': 0, 'image_id': 6, 'bbox': [327, 18, 52, 52], 'category_id': 0, 'id': 11}, {'segmentation': [], 'area': 1024, 'iscrowd': 0, 'image_id': 6, 'bbox': [297, 90, 32, 32], 'category_id': 1, 'id': 12}]\n",
            "[{'file_name': 'dummy_1.png', 'height': 512, 'width': 512, 'id': 1}, {'file_name': 'dummy_2.png', 'height': 512, 'width': 512, 'id': 2}, {'file_name': 'dummy_3.png', 'height': 512, 'width': 512, 'id': 3}, {'file_name': 'dummy_4.png', 'height': 512, 'width': 512, 'id': 4}, {'file_name': 'dummy_5.png', 'height': 512, 'width': 512, 'id': 5}, {'file_name': 'dummy_6.png', 'height': 512, 'width': 512, 'id': 6}]\n",
            "Num Circle: 1\n",
            "Num Circle+Rect: 2\n",
            "Num Anns: 15\n",
            "[{'segmentation': [], 'area': 3600, 'iscrowd': 0, 'image_id': 1, 'bbox': [375, 316, 60, 60], 'category_id': 0, 'id': 1}, {'segmentation': [], 'area': 1024, 'iscrowd': 0, 'image_id': 1, 'bbox': [328, 353, 32, 32], 'category_id': 1, 'id': 2}, {'segmentation': [], 'area': 3364, 'iscrowd': 0, 'image_id': 2, 'bbox': [47, 117, 58, 58], 'category_id': 0, 'id': 3}, {'segmentation': [], 'area': 1024, 'iscrowd': 0, 'image_id': 2, 'bbox': [403, 319, 32, 32], 'category_id': 1, 'id': 4}, {'segmentation': [], 'area': 2704, 'iscrowd': 0, 'image_id': 3, 'bbox': [197, 231, 52, 52], 'category_id': 0, 'id': 5}, {'segmentation': [], 'area': 1024, 'iscrowd': 0, 'image_id': 3, 'bbox': [380, 325, 32, 32], 'category_id': 1, 'id': 6}, {'segmentation': [], 'area': 2304, 'iscrowd': 0, 'image_id': 4, 'bbox': [260, 213, 48, 48], 'category_id': 0, 'id': 7}, {'segmentation': [], 'area': 1024, 'iscrowd': 0, 'image_id': 4, 'bbox': [65, 236, 32, 32], 'category_id': 1, 'id': 8}, {'segmentation': [], 'area': 2916, 'iscrowd': 0, 'image_id': 5, 'bbox': [422, 309, 54, 54], 'category_id': 0, 'id': 9}, {'segmentation': [], 'area': 1024, 'iscrowd': 0, 'image_id': 5, 'bbox': [281, 98, 32, 32], 'category_id': 1, 'id': 10}, {'segmentation': [], 'area': 2704, 'iscrowd': 0, 'image_id': 6, 'bbox': [327, 18, 52, 52], 'category_id': 0, 'id': 11}, {'segmentation': [], 'area': 1024, 'iscrowd': 0, 'image_id': 6, 'bbox': [297, 90, 32, 32], 'category_id': 1, 'id': 12}, {'segmentation': [], 'area': 2916, 'iscrowd': 0, 'image_id': 7, 'bbox': [95, 128, 54, 54], 'category_id': 0, 'id': 13}, {'segmentation': [], 'area': 1024, 'iscrowd': 0, 'image_id': 7, 'bbox': [86, 240, 32, 32], 'category_id': 1, 'id': 14}]\n",
            "[{'file_name': 'dummy_1.png', 'height': 512, 'width': 512, 'id': 1}, {'file_name': 'dummy_2.png', 'height': 512, 'width': 512, 'id': 2}, {'file_name': 'dummy_3.png', 'height': 512, 'width': 512, 'id': 3}, {'file_name': 'dummy_4.png', 'height': 512, 'width': 512, 'id': 4}, {'file_name': 'dummy_5.png', 'height': 512, 'width': 512, 'id': 5}, {'file_name': 'dummy_6.png', 'height': 512, 'width': 512, 'id': 6}, {'file_name': 'dummy_7.png', 'height': 512, 'width': 512, 'id': 7}]\n",
            "Num Circle: 1\n",
            "Num Circle+Rect: 2\n",
            "Num Anns: 17\n",
            "[{'segmentation': [], 'area': 3600, 'iscrowd': 0, 'image_id': 1, 'bbox': [375, 316, 60, 60], 'category_id': 0, 'id': 1}, {'segmentation': [], 'area': 1024, 'iscrowd': 0, 'image_id': 1, 'bbox': [328, 353, 32, 32], 'category_id': 1, 'id': 2}, {'segmentation': [], 'area': 3364, 'iscrowd': 0, 'image_id': 2, 'bbox': [47, 117, 58, 58], 'category_id': 0, 'id': 3}, {'segmentation': [], 'area': 1024, 'iscrowd': 0, 'image_id': 2, 'bbox': [403, 319, 32, 32], 'category_id': 1, 'id': 4}, {'segmentation': [], 'area': 2704, 'iscrowd': 0, 'image_id': 3, 'bbox': [197, 231, 52, 52], 'category_id': 0, 'id': 5}, {'segmentation': [], 'area': 1024, 'iscrowd': 0, 'image_id': 3, 'bbox': [380, 325, 32, 32], 'category_id': 1, 'id': 6}, {'segmentation': [], 'area': 2304, 'iscrowd': 0, 'image_id': 4, 'bbox': [260, 213, 48, 48], 'category_id': 0, 'id': 7}, {'segmentation': [], 'area': 1024, 'iscrowd': 0, 'image_id': 4, 'bbox': [65, 236, 32, 32], 'category_id': 1, 'id': 8}, {'segmentation': [], 'area': 2916, 'iscrowd': 0, 'image_id': 5, 'bbox': [422, 309, 54, 54], 'category_id': 0, 'id': 9}, {'segmentation': [], 'area': 1024, 'iscrowd': 0, 'image_id': 5, 'bbox': [281, 98, 32, 32], 'category_id': 1, 'id': 10}, {'segmentation': [], 'area': 2704, 'iscrowd': 0, 'image_id': 6, 'bbox': [327, 18, 52, 52], 'category_id': 0, 'id': 11}, {'segmentation': [], 'area': 1024, 'iscrowd': 0, 'image_id': 6, 'bbox': [297, 90, 32, 32], 'category_id': 1, 'id': 12}, {'segmentation': [], 'area': 2916, 'iscrowd': 0, 'image_id': 7, 'bbox': [95, 128, 54, 54], 'category_id': 0, 'id': 13}, {'segmentation': [], 'area': 1024, 'iscrowd': 0, 'image_id': 7, 'bbox': [86, 240, 32, 32], 'category_id': 1, 'id': 14}, {'segmentation': [], 'area': 3364, 'iscrowd': 0, 'image_id': 8, 'bbox': [194, 231, 58, 58], 'category_id': 0, 'id': 15}, {'segmentation': [], 'area': 1024, 'iscrowd': 0, 'image_id': 8, 'bbox': [421, 396, 32, 32], 'category_id': 1, 'id': 16}]\n",
            "[{'file_name': 'dummy_1.png', 'height': 512, 'width': 512, 'id': 1}, {'file_name': 'dummy_2.png', 'height': 512, 'width': 512, 'id': 2}, {'file_name': 'dummy_3.png', 'height': 512, 'width': 512, 'id': 3}, {'file_name': 'dummy_4.png', 'height': 512, 'width': 512, 'id': 4}, {'file_name': 'dummy_5.png', 'height': 512, 'width': 512, 'id': 5}, {'file_name': 'dummy_6.png', 'height': 512, 'width': 512, 'id': 6}, {'file_name': 'dummy_7.png', 'height': 512, 'width': 512, 'id': 7}, {'file_name': 'dummy_8.png', 'height': 512, 'width': 512, 'id': 8}]\n"
          ]
        }
      ],
      "source": [
        "s = ShapeDataset(n_images = 8,n_circles=1,n_rectangles=1)\n",
        "s.gen_dataset()"
      ]
    },
    {
      "cell_type": "code",
      "execution_count": 7,
      "metadata": {
        "id": "cfZsQyr1k2P9"
      },
      "outputs": [],
      "source": []
    },
    {
      "cell_type": "code",
      "execution_count": 8,
      "metadata": {
        "colab": {
          "base_uri": "https://localhost:8080/",
          "height": 286
        },
        "id": "ef3ylVWRk2P9",
        "outputId": "2ea7c91e-e2cf-48f2-ed6f-12e3aef8c185"
      },
      "outputs": [
        {
          "output_type": "execute_result",
          "data": {
            "text/plain": [
              "<matplotlib.image.AxesImage at 0x7ffadbdb1a90>"
            ]
          },
          "metadata": {},
          "execution_count": 8
        },
        {
          "output_type": "display_data",
          "data": {
            "text/plain": [
              "<Figure size 432x288 with 1 Axes>"
            ],
            "image/png": "[encoded data removed]"
          },
          "metadata": {
            "needs_background": "light"
          }
        }
      ],
      "source": [
        "im = Image.open('dummy_2.png')\n",
        "plt.imshow(im)"
      ]
    },
    {
      "cell_type": "code",
      "execution_count": 9,
      "metadata": {
        "colab": {
          "base_uri": "https://localhost:8080/"
        },
        "id": "JBzgial9k2P9",
        "outputId": "90a58b7a-9f21-4bad-9c4f-dd61d404b67e"
      },
      "outputs": [
        {
          "output_type": "stream",
          "name": "stdout",
          "text": [
            "label_map: {0: 0, 1: 1}\n",
            "label_map: {0: 0, 1: 1}\n"
          ]
        }
      ],
      "source": [
        "ds = COCODetectionDataset(img_dir='/content/',\n",
        "                ann_json='/content/coco_shapes.json',\n",
        "                IMG_RESOLUTION=512,\n",
        "                transform=train_transform_norm)\n",
        "val_ds = COCODetectionDataset(img_dir='/content/',\n",
        "                ann_json='/content/coco_shapes.json',\n",
        "                IMG_RESOLUTION=512,\n",
        "                transform=validation_transform_norm)\n",
        "BATCH_SIZE = 8\n",
        "train_loader = torch.utils.data.DataLoader(ds,\n",
        "                                        batch_size=BATCH_SIZE,\n",
        "                                        shuffle=True,\n",
        "                                        num_workers=2,\n",
        "                                        pin_memory=True,\n",
        "                                        collate_fn = coco_detection_collate_fn)\n",
        "val_loader = torch.utils.data.DataLoader(ds,\n",
        "                                        batch_size=1,\n",
        "                                        shuffle=False,\n",
        "                                        num_workers=0,\n",
        "                                        pin_memory=True,\n",
        "                                        collate_fn = coco_detection_collate_fn)\n"
      ]
    },
    {
      "cell_type": "code",
      "execution_count": 10,
      "metadata": {
        "colab": {
          "base_uri": "https://localhost:8080/"
        },
        "id": "Nty85YMBk2P-",
        "outputId": "4eac7d54-c3c7-499d-cab1-057b7ee270e4"
      },
      "outputs": [
        {
          "output_type": "execute_result",
          "data": {
            "text/plain": [
              "8"
            ]
          },
          "metadata": {},
          "execution_count": 10
        }
      ],
      "source": [
        "len(ds)"
      ]
    },
    {
      "cell_type": "code",
      "execution_count": 11,
      "metadata": {
        "colab": {
          "base_uri": "https://localhost:8080/",
          "height": 495
        },
        "id": "0vyN5T3kk2P-",
        "outputId": "5903d541-53b9-42b5-92fd-921d92935262"
      },
      "outputs": [
        {
          "output_type": "display_data",
          "data": {
            "text/plain": [
              "<Figure size 432x288 with 1 Axes>"
            ],
            "image/png": "[encoded data removed]"
          },
          "metadata": {
            "needs_background": "light"
          }
        },
        {
          "output_type": "display_data",
          "data": {
            "text/plain": [
              "<Figure size 432x288 with 1 Axes>"
            ],
            "image/png": "[encoded data removed]"
          },
          "metadata": {
            "needs_background": "light"
          }
        }
      ],
      "source": [
        "img, hm, reg, wh,reg_mask,inds, in_size, out_size, intermediate_size, scale, boxes_aug, target= ds[0]\n",
        "mean = np.array([0.485, 0.456, 0.406], dtype=np.float32)\n",
        "std = np.array([0.229, 0.224, 0.225], dtype=np.float32)\n",
        "img_u = img.transpose(1,2,0)*std + mean# unnormalize\n",
        "# img = img \n",
        "plt.imshow(img_u)\n",
        "plt.title(\"Resized image\")\n",
        "\n",
        "plt.show()\n",
        "c,h,w = hm.shape\n",
        "nrows = 1\n",
        "ncols = 2\n",
        "hm_u = hm.reshape(nrows, ncols, h, w).swapaxes(1,2).reshape(h*nrows, w*ncols)\n",
        "# hm_u = hm.transpose(1,2,0)\n",
        "plt.imshow(hm_u,cmap='gray')\n",
        "plt.title(\"Heatmap targets (2x128x128)\")\n",
        "plt.show()"
      ]
    },
    {
      "cell_type": "markdown",
      "metadata": {
        "id": "Si7zw5Dak2P_"
      },
      "source": [
        "# Background"
      ]
    },
    {
      "cell_type": "markdown",
      "metadata": {
        "id": "Mi4IkmXVk2P_"
      },
      "source": [
        "## Single Stage vs Two Stage\n",
        "<a id='single-vs-two-stage'></a>"
      ]
    },
    {
      "cell_type": "markdown",
      "metadata": {
        "id": "lrVjCeZsk2P_"
      },
      "source": []
    },
    {
      "cell_type": "markdown",
      "metadata": {
        "id": "TdUgjMguk2P_"
      },
      "source": [
        "## Centernet"
      ]
    },
    {
      "cell_type": "markdown",
      "metadata": {
        "id": "t3Q9gIwmk2P_"
      },
      "source": []
    },
    {
      "cell_type": "markdown",
      "metadata": {
        "id": "VjR9TRsdk2QA"
      },
      "source": []
    },
    {
      "cell_type": "markdown",
      "metadata": {
        "id": "R1khTOVDk2QA"
      },
      "source": [
        "# Preprocessing"
      ]
    },
    {
      "cell_type": "markdown",
      "metadata": {
        "id": "Ny2ZDKBXk2QA"
      },
      "source": [
        "## Encode Class Keypoints"
      ]
    },
    {
      "cell_type": "markdown",
      "metadata": {
        "id": "77wzduU-k2QA"
      },
      "source": [
        "```python\n",
        "def draw_umich_gaussian(heatmap, center, radius, k=1):\n",
        "  diameter = 2 * radius + 1\n",
        "  gaussian = gaussian2D((diameter, diameter), sigma=diameter / 6)\n",
        "  \n",
        "  x, y = int(center[0]), int(center[1])\n",
        "\n",
        "  height, width = heatmap.shape[0:2]\n",
        "    \n",
        "  left, right = min(x, radius), min(width - x, radius + 1)\n",
        "  top, bottom = min(y, radius), min(height - y, radius + 1)\n",
        "\n",
        "  masked_heatmap  = heatmap[y - top:y + bottom, x - left:x + right]\n",
        "  masked_gaussian = gaussian[radius - top:radius + bottom, radius - left:radius + right]\n",
        "  if min(masked_gaussian.shape) > 0 and min(masked_heatmap.shape) > 0: # TODO debug\n",
        "    np.maximum(masked_heatmap, masked_gaussian * k, out=masked_heatmap)\n",
        "  return heatmap\n",
        "```"
      ]
    },
    {
      "cell_type": "markdown",
      "metadata": {
        "id": "naG5yyGzk2QA"
      },
      "source": [
        "## Encoding bounding boxes"
      ]
    },
    {
      "cell_type": "markdown",
      "metadata": {
        "id": "PYza21GMk2QA"
      },
      "source": [
        "```python\n",
        "centers = np.array([bboxes[:,0]+bboxes[:,2]//2,bboxes[:,1]+bboxes[:,3]//2,bboxes[:,2],bboxes[:,3]]).T\n",
        "for ind,(c,l )in enumerate(zip(centers,classes)):\n",
        "    h, w = c[3]/MODEL_SCALE, c[2]/MODEL_SCALE\n",
        "    radius = gaussian_radius((math.ceil(h), math.ceil(w)))\n",
        "    radius = max(0, int(radius))\n",
        "    # print(\"radius:\", radius)\n",
        "    draw_umich_gaussian(hm[l], [int(c[0])//MODEL_SCALE,int(c[1])//MODEL_SCALE], \n",
        "                            radius)\n",
        "    # draw_msra_gaussian(hm[l], [int(c[0])//MODEL_SCALE,int(c[1])//MODEL_SCALE], \n",
        "    #                         radius)\n",
        "    reg_mask[ind] = 1\n",
        "    wh[ind] = c[2:]/input_size\n",
        "    draw_dense_reg(reg,hm[l],c[:2]//MODEL_SCALE,wh[ind],radius)\n",
        "    inds[ind] = (int(c[1])//MODEL_SCALE)*feature_scale + (int(c[0])//MODEL_SCALE)\n",
        "```"
      ]
    },
    {
      "cell_type": "markdown",
      "metadata": {
        "id": "rAKTZm8sk2QA"
      },
      "source": [
        "## Encode Width and Height Regression"
      ]
    },
    {
      "cell_type": "markdown",
      "metadata": {
        "id": "bdyNIPItk2QA"
      },
      "source": [
        "```python\n",
        "def draw_dense_reg(regmap, heatmap, center, value, radius, is_offset=False):\n",
        "  diameter = 2 * radius + 1\n",
        "  gaussian = gaussian2D((diameter, diameter), sigma=diameter / 6)\n",
        "  value = np.array(value, dtype=np.float32).reshape(-1, 1, 1)\n",
        "\n",
        "  dim = value.shape[0]\n",
        "  reg = np.ones((dim, diameter*2+1, diameter*2+1), dtype=np.float32) * value\n",
        "\n",
        "  if is_offset and dim == 2:\n",
        "    delta = np.arange(diameter*2+1) - radius\n",
        "    reg[0] = reg[0] - delta.reshape(1, -1)\n",
        "    reg[1] = reg[1] - delta.reshape(-1, 1)\n",
        "  \n",
        "  x, y = int(center[0]), int(center[1])\n",
        "\n",
        "  height, width = heatmap.shape[0:2]\n",
        "\n",
        "  left, right = min(x, radius), min(width - x, radius + 1)\n",
        "  top, bottom = min(y, radius), min(height - y, radius + 1)\n",
        "\n",
        "  masked_heatmap = heatmap[y - top:y + bottom, x - left:x + right]\n",
        "  masked_regmap = regmap[:, y - top:y + bottom, x - left:x + right]\n",
        "  masked_gaussian = gaussian[radius - top:radius + bottom,\n",
        "                             radius - left:radius + right]\n",
        "  masked_reg = reg[:, radius - top:radius + bottom,\n",
        "                      radius - left:radius + right]\n",
        "\n",
        "  if min(masked_gaussian.shape) > 0 and min(masked_heatmap.shape) > 0: # TODO debug\n",
        "    idx = (masked_gaussian >= masked_heatmap).reshape(\n",
        "      1, masked_gaussian.shape[0], masked_gaussian.shape[1])\n",
        "    masked_regmap = (1-idx) * masked_regmap + idx * masked_reg\n",
        "  regmap[:, y - top:y + bottom, x - left:x + right] = masked_regmap\n",
        "  return regmap\n",
        "```"
      ]
    },
    {
      "cell_type": "markdown",
      "metadata": {
        "id": "gBYJaFEwk2QA"
      },
      "source": [
        "# Model Architecture"
      ]
    },
    {
      "cell_type": "markdown",
      "metadata": {
        "id": "TB29n4jAk2QB"
      },
      "source": [
        "\n",
        "## Backbone"
      ]
    },
    {
      "cell_type": "markdown",
      "metadata": {
        "id": "YkjuudNJk2QB"
      },
      "source": [
        "```python\n",
        "if model_name == 'mv3':\n",
        "            basemodel = torchvision.models.mobilenet_v3_small(pretrained=True)\n",
        "            num_ch = 576\n",
        "elif model_name == 'resnet18':\n",
        "            basemodel = torchvision.models.resnet18(pretrained=True)\n",
        "            num_ch = 512\n",
        "basemodel = nn.Sequential(*list(basemodel.children())[:-2])\n",
        "# set basemodel\n",
        "self.base_model = basemodel\n",
        "# Neck\n",
        "self.up1 = up(num_ch, 512,bilinear=True)\n",
        "self.up2 = up(512, 256,bilinear=True)\n",
        "self.up3 = up(256, 256,bilinear=True)\n",
        "```"
      ]
    },
    {
      "cell_type": "markdown",
      "metadata": {
        "id": "AYDb_h1qk2QB"
      },
      "source": [
        "## Class Head and Regression Head"
      ]
    },
    {
      "cell_type": "markdown",
      "metadata": {
        "id": "uDJdaQLok2QB"
      },
      "source": [
        "```python\n",
        "\n",
        "# output classification\n",
        "self.outc = nn.Conv2d(256, n_classes, 1)\n",
        "\n",
        "self.outr = nn.Conv2d(256, 2, 1)\n",
        "```"
      ]
    },
    {
      "cell_type": "markdown",
      "metadata": {
        "id": "GFdXcl0jk2QB"
      },
      "source": [
        "## Initalization of conv layers in Neck for Focal Loss"
      ]
    },
    {
      "cell_type": "markdown",
      "metadata": {
        "id": "0iRthNXek2QB"
      },
      "source": [
        "```python\n",
        "'''\n",
        "Author of focal loss:  all new conv layers except the \n",
        "final layer, subnets are initalized  with bias b=0 and\n",
        "a Gaussian weight filled with sigma=0.01\n",
        "\n",
        "Weight init improves training stability for both the \n",
        "cross entropy and focal loss in the case of heavy class\n",
        "imbalance\n",
        "'''\n",
        "for m in self.conv.modules():\n",
        "    if isinstance(m,nn.Conv2d):\n",
        "        nn.init.normal_(m.weight,std=0.01)\n",
        "        if m.bias is not None:\n",
        "            nn.init.constant_(m.bias,0)\n",
        "```"
      ]
    },
    {
      "cell_type": "markdown",
      "metadata": {
        "id": "DfVS67zDk2QB"
      },
      "source": [
        "## Initalization of Layers in Head for Focal Loss"
      ]
    },
    {
      "cell_type": "markdown",
      "metadata": {
        "id": "5b5JQHwck2QB"
      },
      "source": [
        "```python\n",
        "'''\n",
        "Author: the final conv later set the bias\n",
        "initalization to log((1-pi)/pi)\n",
        "pi specifies that at the start of training,\n",
        "every anchor should be labeled as foreground\n",
        "with confidence of about pi. pi is a variable that is 0.01\n",
        "\n",
        "This initalization prevents a large number of background \n",
        "anchors from generating a large destabalizing loss value in the\n",
        "in the first iteration of training\n",
        "'''\n",
        "self.outc.bias.data.fill_(-2.19)\n",
        "# output residue\n",
        "self.outr.bias.data.fill_(-2.19)\n",
        "def forward(self, x):\n",
        "batch_size = x.shape[0]\n",
        "x = self.base_model(x) \n",
        "\n",
        "x = self.up1(x)\n",
        "x = self.up2(x)\n",
        "x = self.up3(x)\n",
        "outc = self.outc(x)\n",
        "outr = self.outr(x)\n",
        "return outc, outr\n",
        "```"
      ]
    },
    {
      "cell_type": "code",
      "execution_count": 12,
      "metadata": {
        "colab": {
          "base_uri": "https://localhost:8080/",
          "height": 156,
          "referenced_widgets": [
            "48704cf72b8e42a2a0398cc8652ad16d",
            "91bed89eb3574aca8da9bdd3b11a1d19",
            "d8c7f52d88d94336a27fd43c10deda83",
            "3cad88e3cd6245f9baa43891006be60a",
            "d573b6f20f9e4fb5afc505fd930cb44b",
            "949e3afb76b74bc1be168db8099589be",
            "dca168aa43ef42faa8171df4e4e04bd3",
            "7eaf2c98b6954b50bd0945d89c776fdc",
            "33cb1e4c76c04692b4a20b9f3896ddb6",
            "d9ba717dca3e4943aa6b0bcc5a59c9a2",
            "5ec1f37e47434e43b1a87f758380e013"
          ]
        },
        "id": "bYl9Y_CJk2QB",
        "outputId": "49db746a-05e9-4b7c-a3d2-11394f3ac685"
      },
      "outputs": [
        {
          "output_type": "stream",
          "name": "stderr",
          "text": [
            "/usr/local/lib/python3.7/dist-packages/torchvision/models/_utils.py:209: UserWarning: The parameter 'pretrained' is deprecated since 0.13 and will be removed in 0.15, please use 'weights' instead.\n",
            "  f\"The parameter '{pretrained_param}' is deprecated since 0.13 and will be removed in 0.15, \"\n",
            "/usr/local/lib/python3.7/dist-packages/torchvision/models/_utils.py:223: UserWarning: Arguments other than a weight enum or `None` for 'weights' are deprecated since 0.13 and will be removed in 0.15. The current behavior is equivalent to passing `weights=MobileNet_V3_Small_Weights.IMAGENET1K_V1`. You can also use `weights=MobileNet_V3_Small_Weights.DEFAULT` to get the most up-to-date weights.\n",
            "  warnings.warn(msg)\n",
            "Downloading: \"https://download.pytorch.org/models/mobilenet_v3_small-047dcff4.pth\" to /root/.cache/torch/hub/checkpoints/mobilenet_v3_small-047dcff4.pth\n"
          ]
        },
        {
          "output_type": "display_data",
          "data": {
            "text/plain": [
              "  0%|          | 0.00/9.83M [00:00<?, ?B/s]"
            ],
            "application/vnd.jupyter.widget-view+json": {
              "version_major": 2,
              "version_minor": 0,
              "model_id": "48704cf72b8e42a2a0398cc8652ad16d"
            }
          },
          "metadata": {}
        }
      ],
      "source": [
        "model = centernet(ds.num_classes,model_name='mv3')"
      ]
    },
    {
      "cell_type": "markdown",
      "metadata": {
        "id": "czCVk_AIk2QB"
      },
      "source": [
        "# Loss Function"
      ]
    },
    {
      "cell_type": "markdown",
      "metadata": {
        "vscode": {
          "languageId": "latex"
        },
        "id": "fUfCJDwik2QB"
      },
      "source": [
        "# Focal Loss\n",
        "$$\n",
        "L_k = \\frac{-1}{N} \\sum_{xyc}\n",
        "\\begin{cases}\n",
        "(1 - \\hat{Y}_{xyc})^{\\alpha} \n",
        "        \\log(\\hat{Y}_{xyc})  & \\text{ if } Y_{xyc}=1 \\\\\n",
        "\\begin{array}{c}\n",
        "        (1-Y_{xyc})^{\\beta} \n",
        "        (\\hat{Y}_{xyc})^{\\alpha}\\\\\n",
        "        \\log(1-\\hat{Y}_{xyc})\n",
        "        \\end{array} & \\text{ otherwise }\n",
        "\\end{cases}\n",
        "$$"
      ]
    },
    {
      "cell_type": "markdown",
      "metadata": {
        "id": "zYDwPq-jk2QC"
      },
      "source": [
        "```python \n",
        "def focal_loss(pred, gt):\n",
        "  ''' Modified focal loss.\n",
        "    Arguments:\n",
        "      pred (batch x h x w)\n",
        "      gt (batch  x h x w)\n",
        "  '''\n",
        "  pos_inds = gt.eq(1).float()\n",
        "  neg_inds = gt.lt(1).float()\n",
        "  neg_weights = torch.pow(1 - gt, 4)\n",
        "\n",
        "  loss = 0\n",
        "  prob_pred = F.sigmoid(pred)\n",
        "  pos_loss = F.logsigmoid(pred) * torch.pow(1 - prob_pred, 2) * pos_inds\n",
        "  neg_loss = F.logsigmoid(1 - pred) * torch.pow(prob_pred, 2) * neg_inds *  neg_weights \n",
        "\n",
        "  num_pos  = pos_inds.float().sum()\n",
        "  pos_loss = pos_loss.sum()\n",
        "  neg_loss = neg_loss.sum()\n",
        "\n",
        "  if num_pos == 0:\n",
        "    loss = loss - neg_loss\n",
        "  else:\n",
        "    loss =  loss - (pos_loss + neg_loss) / (num_pos+1e-4)\n",
        "  return loss\n",
        "  ```"
      ]
    },
    {
      "cell_type": "markdown",
      "metadata": {
        "id": "ffcRljPsk2QC"
      },
      "source": [
        "# Regression Loss\n",
        "$$\n",
        "L_{size} = \\frac{1}{N}\\sum_{k=1}^{N} \\left|\\hat S_{p_k} - s_k\\right|.\n",
        "$$"
      ]
    },
    {
      "cell_type": "markdown",
      "metadata": {
        "id": "J5V1n9eOk2QC"
      },
      "source": [
        "```python\n",
        "def reg_loss(regr, gt_regr, mask):\n",
        "  ''' L1 regression loss\n",
        "    Arguments:\n",
        "      regr (batch x max_objects x dim)\n",
        "      gt_regr (batch x max_objects x dim)\n",
        "      mask (batch x max_objects)\n",
        "  '''\n",
        "  num = mask.float().sum()\n",
        "  mask = mask.unsqueeze(2).expand_as(gt_regr).float()\n",
        "\n",
        "  regr = regr * mask\n",
        "  gt_regr = gt_regr * mask\n",
        "\n",
        "  regr_loss = nn.functional.l1_loss(regr, gt_regr, size_average=False)\n",
        "  regr_loss = regr_loss / (num + 1e-4)\n",
        "  return regr_loss\n",
        "  ````"
      ]
    },
    {
      "cell_type": "markdown",
      "metadata": {
        "id": "DnhIv91ok2QC"
      },
      "source": [
        "# Prepare and Train Training Model"
      ]
    },
    {
      "cell_type": "markdown",
      "metadata": {
        "id": "ncIJR67uk2QC"
      },
      "source": []
    },
    {
      "cell_type": "code",
      "execution_count": null,
      "metadata": {
        "colab": {
          "base_uri": "https://localhost:8080/"
        },
        "id": "Tod4TUMMk2QC",
        "outputId": "968d1123-2341-4cad-99c9-8629641c5c1d"
      },
      "outputs": [
        {
          "output_type": "stream",
          "name": "stderr",
          "text": [
            "/usr/local/lib/python3.7/dist-packages/torchvision/models/_utils.py:209: UserWarning: The parameter 'pretrained' is deprecated since 0.13 and will be removed in 0.15, please use 'weights' instead.\n",
            "  f\"The parameter '{pretrained_param}' is deprecated since 0.13 and will be removed in 0.15, \"\n",
            "/usr/local/lib/python3.7/dist-packages/torchvision/models/_utils.py:223: UserWarning: Arguments other than a weight enum or `None` for 'weights' are deprecated since 0.13 and will be removed in 0.15. The current behavior is equivalent to passing `weights=MobileNet_V3_Small_Weights.IMAGENET1K_V1`. You can also use `weights=MobileNet_V3_Small_Weights.DEFAULT` to get the most up-to-date weights.\n",
            "  warnings.warn(msg)\n",
            "  0%|          | 0/300 [00:00<?, ?it/s]/usr/local/lib/python3.7/dist-packages/torch/nn/functional.py:1960: UserWarning: nn.functional.sigmoid is deprecated. Use torch.sigmoid instead.\n",
            "  warnings.warn(\"nn.functional.sigmoid is deprecated. Use torch.sigmoid instead.\")\n",
            "/usr/local/lib/python3.7/dist-packages/torch/nn/_reduction.py:42: UserWarning: size_average and reduce args will be deprecated, please use reduction='sum' instead.\n",
            "  warnings.warn(warning.format(ret))\n",
            "  0%|          | 1/300 [00:00<04:33,  1.09it/s]"
          ]
        },
        {
          "output_type": "stream",
          "name": "stdout",
          "text": [
            "Epoch 0 - Min conf: 0.019158171489834785, Median conf: 0.10197626799345016, Max conf: 0.9445557594299316\n",
            "Epoch 0 - Loss: 60.68997573852539, Mask Loss: 56.94009017944336, Reg Loss: 3.7498843669891357\n"
          ]
        },
        {
          "output_type": "stream",
          "name": "stderr",
          "text": [
            "\r  1%|          | 2/300 [00:01<04:20,  1.14it/s]"
          ]
        },
        {
          "output_type": "stream",
          "name": "stdout",
          "text": [
            "Epoch 1 - Min conf: 9.091546959716368e-13, Median conf: 0.13415807485580444, Max conf: 0.3976345360279083\n",
            "Epoch 1 - Loss: 56.0289421081543, Mask Loss: 54.35538101196289, Reg Loss: 1.6735625267028809\n"
          ]
        },
        {
          "output_type": "stream",
          "name": "stderr",
          "text": [
            "\r  1%|          | 3/300 [00:02<04:16,  1.16it/s]"
          ]
        },
        {
          "output_type": "stream",
          "name": "stdout",
          "text": [
            "Epoch 2 - Min conf: 2.9016305417434163e-12, Median conf: 0.12140662968158722, Max conf: 0.7815075516700745\n",
            "Epoch 2 - Loss: 63.751461029052734, Mask Loss: 60.11640167236328, Reg Loss: 3.635059118270874\n"
          ]
        },
        {
          "output_type": "stream",
          "name": "stderr",
          "text": [
            "\r  1%|▏         | 4/300 [00:03<04:14,  1.16it/s]"
          ]
        },
        {
          "output_type": "stream",
          "name": "stdout",
          "text": [
            "Epoch 3 - Min conf: 3.3998733597320405e-14, Median conf: 0.12740616500377655, Max conf: 0.20498943328857422\n",
            "Epoch 3 - Loss: 31.115894317626953, Mask Loss: 27.298158645629883, Reg Loss: 3.817735433578491\n"
          ]
        },
        {
          "output_type": "stream",
          "name": "stderr",
          "text": [
            "\r  2%|▏         | 5/300 [00:04<04:12,  1.17it/s]"
          ]
        },
        {
          "output_type": "stream",
          "name": "stdout",
          "text": [
            "Epoch 4 - Min conf: 2.40107933249809e-17, Median conf: 0.11368977278470993, Max conf: 0.18134433031082153\n",
            "Epoch 4 - Loss: 22.22892189025879, Mask Loss: 18.074777603149414, Reg Loss: 4.154144287109375\n"
          ]
        },
        {
          "output_type": "stream",
          "name": "stderr",
          "text": [
            "\r  2%|▏         | 6/300 [00:05<04:12,  1.16it/s]"
          ]
        },
        {
          "output_type": "stream",
          "name": "stdout",
          "text": [
            "Epoch 5 - Min conf: 1.231203507201517e-12, Median conf: 0.10627280175685883, Max conf: 0.18992099165916443\n",
            "Epoch 5 - Loss: 21.01643943786621, Mask Loss: 16.99859046936035, Reg Loss: 4.017848968505859\n"
          ]
        },
        {
          "output_type": "stream",
          "name": "stderr",
          "text": [
            "\r  2%|▏         | 7/300 [00:06<04:09,  1.17it/s]"
          ]
        },
        {
          "output_type": "stream",
          "name": "stdout",
          "text": [
            "Epoch 6 - Min conf: 2.3986477206056935e-14, Median conf: 0.09843504428863525, Max conf: 0.16836164891719818\n",
            "Epoch 6 - Loss: 18.377708435058594, Mask Loss: 14.277290344238281, Reg Loss: 4.100418567657471\n"
          ]
        },
        {
          "output_type": "stream",
          "name": "stderr",
          "text": [
            "\r  3%|▎         | 8/300 [00:06<04:07,  1.18it/s]"
          ]
        },
        {
          "output_type": "stream",
          "name": "stdout",
          "text": [
            "Epoch 7 - Min conf: 1.5858544576466586e-17, Median conf: 0.09120874851942062, Max conf: 0.1555195301771164\n",
            "Epoch 7 - Loss: 16.257850646972656, Mask Loss: 12.138169288635254, Reg Loss: 4.119681358337402\n"
          ]
        },
        {
          "output_type": "stream",
          "name": "stderr",
          "text": [
            "\r  3%|▎         | 9/300 [00:07<04:07,  1.17it/s]"
          ]
        },
        {
          "output_type": "stream",
          "name": "stdout",
          "text": [
            "Epoch 8 - Min conf: 1.2704639110856278e-18, Median conf: 0.09630443900823593, Max conf: 0.15050819516181946\n",
            "Epoch 8 - Loss: 16.194822311401367, Mask Loss: 11.717893600463867, Reg Loss: 4.476929187774658\n"
          ]
        },
        {
          "output_type": "stream",
          "name": "stderr",
          "text": [
            "\r  3%|▎         | 10/300 [00:08<04:06,  1.17it/s]"
          ]
        },
        {
          "output_type": "stream",
          "name": "stdout",
          "text": [
            "Epoch 9 - Min conf: 3.732034196637654e-19, Median conf: 0.09409047663211823, Max conf: 0.15837430953979492\n",
            "Epoch 9 - Loss: 14.226046562194824, Mask Loss: 9.928278923034668, Reg Loss: 4.297767639160156\n"
          ]
        },
        {
          "output_type": "stream",
          "name": "stderr",
          "text": [
            "\r  4%|▎         | 11/300 [00:09<04:04,  1.18it/s]"
          ]
        },
        {
          "output_type": "stream",
          "name": "stdout",
          "text": [
            "Epoch 10 - Min conf: 1.4983076248755313e-20, Median conf: 0.08995750546455383, Max conf: 0.14227963984012604\n",
            "Epoch 10 - Loss: 14.228549003601074, Mask Loss: 9.962738990783691, Reg Loss: 4.265810012817383\n"
          ]
        },
        {
          "output_type": "stream",
          "name": "stderr",
          "text": [
            "\r  4%|▍         | 12/300 [00:10<04:03,  1.18it/s]"
          ]
        },
        {
          "output_type": "stream",
          "name": "stdout",
          "text": [
            "Epoch 11 - Min conf: 5.4999629357899935e-17, Median conf: 0.08702944219112396, Max conf: 0.14940546452999115\n",
            "Epoch 11 - Loss: 14.133408546447754, Mask Loss: 9.945988655090332, Reg Loss: 4.187419891357422\n"
          ]
        },
        {
          "output_type": "stream",
          "name": "stderr",
          "text": [
            "\r  4%|▍         | 13/300 [00:11<04:03,  1.18it/s]"
          ]
        },
        {
          "output_type": "stream",
          "name": "stdout",
          "text": [
            "Epoch 12 - Min conf: 7.042298247161119e-23, Median conf: 0.08272971212863922, Max conf: 0.13301093876361847\n",
            "Epoch 12 - Loss: 13.009653091430664, Mask Loss: 8.444533348083496, Reg Loss: 4.56511926651001\n"
          ]
        },
        {
          "output_type": "stream",
          "name": "stderr",
          "text": [
            "\r  5%|▍         | 14/300 [00:11<04:02,  1.18it/s]"
          ]
        },
        {
          "output_type": "stream",
          "name": "stdout",
          "text": [
            "Epoch 13 - Min conf: 1.0851842232807124e-21, Median conf: 0.08030644059181213, Max conf: 0.13967975974082947\n",
            "Epoch 13 - Loss: 12.100860595703125, Mask Loss: 7.5707478523254395, Reg Loss: 4.5301127433776855\n"
          ]
        },
        {
          "output_type": "stream",
          "name": "stderr",
          "text": [
            "\r  5%|▌         | 15/300 [00:12<04:02,  1.18it/s]"
          ]
        },
        {
          "output_type": "stream",
          "name": "stdout",
          "text": [
            "Epoch 14 - Min conf: 1.8268858977253282e-20, Median conf: 0.07842067629098892, Max conf: 0.1396002322435379\n",
            "Epoch 14 - Loss: 13.444931983947754, Mask Loss: 9.018031120300293, Reg Loss: 4.426900863647461\n"
          ]
        },
        {
          "output_type": "stream",
          "name": "stderr",
          "text": [
            "\r  5%|▌         | 16/300 [00:13<04:02,  1.17it/s]"
          ]
        },
        {
          "output_type": "stream",
          "name": "stdout",
          "text": [
            "Epoch 15 - Min conf: 7.221682470792977e-17, Median conf: 0.07548023760318756, Max conf: 0.1485578864812851\n",
            "Epoch 15 - Loss: 11.903239250183105, Mask Loss: 7.744321346282959, Reg Loss: 4.1589179039001465\n"
          ]
        },
        {
          "output_type": "stream",
          "name": "stderr",
          "text": [
            "\r  6%|▌         | 17/300 [00:14<04:01,  1.17it/s]"
          ]
        },
        {
          "output_type": "stream",
          "name": "stdout",
          "text": [
            "Epoch 16 - Min conf: 1.2745547037244404e-20, Median conf: 0.07313007116317749, Max conf: 0.13862383365631104\n",
            "Epoch 16 - Loss: 11.339603424072266, Mask Loss: 7.019307613372803, Reg Loss: 4.320296287536621\n"
          ]
        },
        {
          "output_type": "stream",
          "name": "stderr",
          "text": [
            "\r  6%|▌         | 18/300 [00:15<04:01,  1.17it/s]"
          ]
        },
        {
          "output_type": "stream",
          "name": "stdout",
          "text": [
            "Epoch 17 - Min conf: 4.482660284290423e-24, Median conf: 0.0715462863445282, Max conf: 0.13992469012737274\n",
            "Epoch 17 - Loss: 10.32054615020752, Mask Loss: 6.0231781005859375, Reg Loss: 4.297368049621582\n"
          ]
        },
        {
          "output_type": "stream",
          "name": "stderr",
          "text": [
            "\r  6%|▋         | 19/300 [00:16<03:59,  1.17it/s]"
          ]
        },
        {
          "output_type": "stream",
          "name": "stdout",
          "text": [
            "Epoch 18 - Min conf: 4.717759924480191e-23, Median conf: 0.06997121125459671, Max conf: 0.13126641511917114\n",
            "Epoch 18 - Loss: 10.412555694580078, Mask Loss: 6.18612813949585, Reg Loss: 4.22642707824707\n"
          ]
        },
        {
          "output_type": "stream",
          "name": "stderr",
          "text": [
            "\r  7%|▋         | 20/300 [00:17<03:58,  1.17it/s]"
          ]
        },
        {
          "output_type": "stream",
          "name": "stdout",
          "text": [
            "Epoch 19 - Min conf: 7.835649504962704e-18, Median conf: 0.07036492228507996, Max conf: 0.1487114131450653\n",
            "Epoch 19 - Loss: 10.293599128723145, Mask Loss: 6.116800308227539, Reg Loss: 4.1767988204956055\n"
          ]
        },
        {
          "output_type": "stream",
          "name": "stderr",
          "text": [
            "\r  7%|▋         | 21/300 [00:17<03:57,  1.17it/s]"
          ]
        },
        {
          "output_type": "stream",
          "name": "stdout",
          "text": [
            "Epoch 20 - Min conf: 2.856800925545252e-21, Median conf: 0.06943318247795105, Max conf: 0.12885090708732605\n",
            "Epoch 20 - Loss: 10.173563957214355, Mask Loss: 5.908092021942139, Reg Loss: 4.265471935272217\n"
          ]
        },
        {
          "output_type": "stream",
          "name": "stderr",
          "text": [
            "\r  7%|▋         | 22/300 [00:18<03:55,  1.18it/s]"
          ]
        },
        {
          "output_type": "stream",
          "name": "stdout",
          "text": [
            "Epoch 21 - Min conf: 7.995556235271122e-19, Median conf: 0.06981001794338226, Max conf: 0.13995078206062317\n",
            "Epoch 21 - Loss: 9.830095291137695, Mask Loss: 5.791685581207275, Reg Loss: 4.038409233093262\n"
          ]
        },
        {
          "output_type": "stream",
          "name": "stderr",
          "text": [
            "\r  8%|▊         | 23/300 [00:19<03:54,  1.18it/s]"
          ]
        },
        {
          "output_type": "stream",
          "name": "stdout",
          "text": [
            "Epoch 22 - Min conf: 3.7566287965647844e-20, Median conf: 0.07007847726345062, Max conf: 0.1421295702457428\n",
            "Epoch 22 - Loss: 9.42535400390625, Mask Loss: 5.410367012023926, Reg Loss: 4.014986991882324\n"
          ]
        },
        {
          "output_type": "stream",
          "name": "stderr",
          "text": [
            "\r  8%|▊         | 24/300 [00:20<03:54,  1.18it/s]"
          ]
        },
        {
          "output_type": "stream",
          "name": "stdout",
          "text": [
            "Epoch 23 - Min conf: 9.651191738320728e-24, Median conf: 0.07174908369779587, Max conf: 0.1338300257921219\n",
            "Epoch 23 - Loss: 9.254674911499023, Mask Loss: 5.1095991134643555, Reg Loss: 4.145076274871826\n"
          ]
        },
        {
          "output_type": "stream",
          "name": "stderr",
          "text": [
            "\r  8%|▊         | 25/300 [00:21<03:54,  1.17it/s]"
          ]
        }
      ],
      "source": [
        "LR = 1e-3\n",
        "# LR = 2.5e-4*BATCH_SIZE\n",
        "model_mv3, losses, mask_losses, regr_losses, min_confidences, median_confidences, max_confidences = train('mv3',\n",
        "                                                                                                          ds.num_classes,\n",
        "                                                                                                          learn_rate=LR,\n",
        "                                                                                                          epochs=300,\n",
        "                                                                                                          train_loader=train_loader,\n",
        "                                                                                                          val_loader=val_loader)"
      ]
    },
    {
      "cell_type": "code",
      "execution_count": null,
      "metadata": {
        "id": "Z2kLNjf6k2QC"
      },
      "outputs": [],
      "source": [
        "len(losses)"
      ]
    },
    {
      "cell_type": "code",
      "execution_count": null,
      "metadata": {
        "id": "MfDGtQOgk2QC"
      },
      "outputs": [],
      "source": [
        "# LR = 2.5e-4*2\n",
        "model_resnet18, losses_resnet18, mask_losses_resnet18, regr_losses_resnet18, min_confidences_r, median_confidences_r, max_confidences_r = train('resnet18',\n",
        "                                                                                    ds.num_classes,\n",
        "                                                                                    learn_rate=1e-3,\n",
        "                                                                                    epochs=300,\n",
        "                                                                                    train_loader=train_loader,\n",
        "                                                                                    val_loader=val_loader)\n"
      ]
    },
    {
      "cell_type": "markdown",
      "metadata": {
        "id": "hONnAPryk2QC"
      },
      "source": [
        "# Visualize Loss Curves"
      ]
    },
    {
      "cell_type": "code",
      "execution_count": null,
      "metadata": {
        "id": "AW3ynC2_k2QC"
      },
      "outputs": [],
      "source": [
        "import matplotlib.pyplot as plt\n",
        "plt.plot(range(len(losses)),losses )\n",
        "plt.plot(range(len(losses)),mask_losses)\n",
        "plt.plot(range(len(losses)),regr_losses)\n",
        "plt.title(\"centernet (mobilenetv3 backbone) training\")\n",
        "plt.legend(['loss','mask loss','regression loss'])\n",
        "plt.show()"
      ]
    },
    {
      "cell_type": "markdown",
      "metadata": {
        "id": "sYaQtvmXk2QD"
      },
      "source": [
        "## Visualize Confidence Scores over training"
      ]
    },
    {
      "cell_type": "code",
      "execution_count": null,
      "metadata": {
        "id": "OHf7fDNkk2QD"
      },
      "outputs": [],
      "source": [
        "plt.plot(range(len(min_confidences)),min_confidences )\n",
        "plt.plot(range(len(median_confidences)),median_confidences)\n",
        "plt.plot(range(len(max_confidences)),max_confidences)\n",
        "plt.title(\"confidence scores for centernet (mv3 backbone) during training\")\n",
        "plt.legend(['min_confidences','median_confidences','max_confidences'])\n",
        "plt.show()"
      ]
    },
    {
      "cell_type": "markdown",
      "metadata": {
        "id": "CO32OVhyk2QD"
      },
      "source": [
        "## Visualize Training Loss for Resnet18"
      ]
    },
    {
      "cell_type": "code",
      "execution_count": null,
      "metadata": {
        "id": "daDoNs2Ak2QD"
      },
      "outputs": [],
      "source": [
        "plt.plot(range(len(losses_resnet18)),losses_resnet18 )\n",
        "plt.plot(range(len(losses_resnet18)),mask_losses_resnet18)\n",
        "plt.plot(range(len(losses_resnet18)),regr_losses_resnet18)\n",
        "plt.title(\"centernet (resnet18 backbone) training\")\n",
        "plt.legend(['loss','mask loss','regression loss'])\n",
        "plt.show()"
      ]
    },
    {
      "cell_type": "code",
      "execution_count": null,
      "metadata": {
        "id": "hRDxEh49k2QD"
      },
      "outputs": [],
      "source": [
        "plt.plot(range(len(losses)),losses )\n",
        "plt.plot(range(len(losses_resnet18)),losses_resnet18)\n",
        "plt.title(\"mv3 vs resnet18\")\n",
        "plt.legend(['mv3: loss','resnet18: loss'])\n",
        "plt.show()"
      ]
    },
    {
      "cell_type": "markdown",
      "metadata": {
        "id": "KXTU8Ilsk2QD"
      },
      "source": [
        "# Visualize Predictions"
      ]
    },
    {
      "cell_type": "code",
      "execution_count": null,
      "metadata": {
        "id": "XvAY0YFbk2QD"
      },
      "outputs": [],
      "source": [
        "# model_mv3(torch.rand(1,3,512,512))"
      ]
    },
    {
      "cell_type": "code",
      "execution_count": null,
      "metadata": {
        "id": "0czprakSk2QD"
      },
      "outputs": [],
      "source": [
        "model_mv3.eval()\n",
        "model_mv3.cpu()\n",
        "for img, hm, reg, wh,reg_mask,inds, in_size, out_size, intermediate_size, scale,boxes_aug, target in val_loader:\n",
        "        break\n",
        "\n",
        "pred_hm, pred_regs = model_mv3(img)# (4,1,128,128), (4,2,128,128)\n",
        "pred_hm = torch.sigmoid(pred_hm)\n",
        "# bboxes,scores,classes = pred2box_multiclass(pred_hm[0].cpu().data.numpy(),\n",
        "#                                                         pred_regs[0].cpu().detach().numpy(),128,1,thresh=0.0)\n",
        "bboxes,scores,classes = pred2box_multiclass(pred_hm[0].data.numpy(),pred_regs[0].data.numpy(),128,1,thresh=0.25)\n",
        "bboxes,scores,classes =  filter_and_nms(bboxes,scores,classes,nms_threshold=0.45,n_top_scores=20)\n",
        "print(bboxes)"
      ]
    },
    {
      "cell_type": "code",
      "execution_count": null,
      "metadata": {
        "id": "g5LheN0vk2QD"
      },
      "outputs": [],
      "source": [
        "hm.shape"
      ]
    },
    {
      "cell_type": "code",
      "execution_count": null,
      "metadata": {
        "id": "g_A2oE4mk2QD"
      },
      "outputs": [],
      "source": [
        "for i in range(hm.shape[1]):\n",
        "    hm_gt = hm[0].data.numpy()[i]\n",
        "    hm_pred = pred_hm[0].data.numpy()[i]\n",
        "    hm_pred = np.dstack([hm_pred*255]*3).astype(np.uint8)\n",
        "    for b,c in zip(bboxes,classes):\n",
        "        if c == i:\n",
        "            x,y,x2,y2 = [int(k) for k in b]\n",
        "            # print(x,y)\n",
        "            cv2.rectangle(hm_pred,(x,y),(x2,y2),(255,0,0),1)\n",
        "        \n",
        "    plt.imshow(hm_gt,cmap='gray')\n",
        "    plt.title(\"GT centerpoints of Class {}\".format(i))\n",
        "    plt.show()\n",
        "    plt.imshow(hm_pred)\n",
        "    plt.title(\"prediction centerpoints for Class {} from model\".format(i))\n",
        "    plt.show()\n"
      ]
    },
    {
      "cell_type": "code",
      "execution_count": null,
      "metadata": {
        "id": "d8dr0NgKk2QD"
      },
      "outputs": [],
      "source": []
    }
  ],
  "metadata": {
    "kernelspec": {
      "display_name": "Python 3.8.13 64-bit ('centernet-tutorial')",
      "language": "python",
      "name": "python3"
    },
    "language_info": {
      "codemirror_mode": {
        "name": "ipython",
        "version": 3
      },
      "file_extension": ".py",
      "mimetype": "text/x-python",
      "name": "python",
      "nbconvert_exporter": "python",
      "pygments_lexer": "ipython3",
      "version": "3.8.13"
    },
    "orig_nbformat": 4,
    "vscode": {
      "interpreter": {
        "hash": "8c4847ba61354b9a2a97e4fd433e47cbf0c145ba9857abc70eb1f83b10d073fa"
      }
    },
    "colab": {
      "provenance": []
    },
    "accelerator": "GPU",
    "gpuClass": "standard",
    "widgets": {
      "application/vnd.jupyter.widget-state+json": {
        "48704cf72b8e42a2a0398cc8652ad16d": {
          "model_module": "@jupyter-widgets/controls",
          "model_name": "HBoxModel",
          "model_module_version": "1.5.0",
          "state": {
            "_dom_classes": [],
            "_model_module": "@jupyter-widgets/controls",
            "_model_module_version": "1.5.0",
            "_model_name": "HBoxModel",
            "_view_count": null,
            "_view_module": "@jupyter-widgets/controls",
            "_view_module_version": "1.5.0",
            "_view_name": "HBoxView",
            "box_style": "",
            "children": [
              "IPY_MODEL_91bed89eb3574aca8da9bdd3b11a1d19",
              "IPY_MODEL_d8c7f52d88d94336a27fd43c10deda83",
              "IPY_MODEL_3cad88e3cd6245f9baa43891006be60a"
            ],
            "layout": "IPY_MODEL_d573b6f20f9e4fb5afc505fd930cb44b"
          }
        },
        "91bed89eb3574aca8da9bdd3b11a1d19": {
          "model_module": "@jupyter-widgets/controls",
          "model_name": "HTMLModel",
          "model_module_version": "1.5.0",
          "state": {
            "_dom_classes": [],
            "_model_module": "@jupyter-widgets/controls",
            "_model_module_version": "1.5.0",
            "_model_name": "HTMLModel",
            "_view_count": null,
            "_view_module": "@jupyter-widgets/controls",
            "_view_module_version": "1.5.0",
            "_view_name": "HTMLView",
            "description": "",
            "description_tooltip": null,
            "layout": "IPY_MODEL_949e3afb76b74bc1be168db8099589be",
            "placeholder": "​",
            "style": "IPY_MODEL_dca168aa43ef42faa8171df4e4e04bd3",
            "value": "100%"
          }
        },
        "d8c7f52d88d94336a27fd43c10deda83": {
          "model_module": "@jupyter-widgets/controls",
          "model_name": "FloatProgressModel",
          "model_module_version": "1.5.0",
          "state": {
            "_dom_classes": [],
            "_model_module": "@jupyter-widgets/controls",
            "_model_module_version": "1.5.0",
            "_model_name": "FloatProgressModel",
            "_view_count": null,
            "_view_module": "@jupyter-widgets/controls",
            "_view_module_version": "1.5.0",
            "_view_name": "ProgressView",
            "bar_style": "success",
            "description": "",
            "description_tooltip": null,
            "layout": "IPY_MODEL_7eaf2c98b6954b50bd0945d89c776fdc",
            "max": 10306551,
            "min": 0,
            "orientation": "horizontal",
            "style": "IPY_MODEL_33cb1e4c76c04692b4a20b9f3896ddb6",
            "value": 10306551
          }
        },
        "3cad88e3cd6245f9baa43891006be60a": {
          "model_module": "@jupyter-widgets/controls",
          "model_name": "HTMLModel",
          "model_module_version": "1.5.0",
          "state": {
            "_dom_classes": [],
            "_model_module": "@jupyter-widgets/controls",
            "_model_module_version": "1.5.0",
            "_model_name": "HTMLModel",
            "_view_count": null,
            "_view_module": "@jupyter-widgets/controls",
            "_view_module_version": "1.5.0",
            "_view_name": "HTMLView",
            "description": "",
            "description_tooltip": null,
            "layout": "IPY_MODEL_d9ba717dca3e4943aa6b0bcc5a59c9a2",
            "placeholder": "​",
            "style": "IPY_MODEL_5ec1f37e47434e43b1a87f758380e013",
            "value": " 9.83M/9.83M [00:01&lt;00:00, 10.2MB/s]"
          }
        },
        "d573b6f20f9e4fb5afc505fd930cb44b": {
          "model_module": "@jupyter-widgets/base",
          "model_name": "LayoutModel",
          "model_module_version": "1.2.0",
          "state": {
            "_model_module": "@jupyter-widgets/base",
            "_model_module_version": "1.2.0",
            "_model_name": "LayoutModel",
            "_view_count": null,
            "_view_module": "@jupyter-widgets/base",
            "_view_module_version": "1.2.0",
            "_view_name": "LayoutView",
            "align_content": null,
            "align_items": null,
            "align_self": null,
            "border": null,
            "bottom": null,
            "display": null,
            "flex": null,
            "flex_flow": null,
            "grid_area": null,
            "grid_auto_columns": null,
            "grid_auto_flow": null,
            "grid_auto_rows": null,
            "grid_column": null,
            "grid_gap": null,
            "grid_row": null,
            "grid_template_areas": null,
            "grid_template_columns": null,
            "grid_template_rows": null,
            "height": null,
            "justify_content": null,
            "justify_items": null,
            "left": null,
            "margin": null,
            "max_height": null,
            "max_width": null,
            "min_height": null,
            "min_width": null,
            "object_fit": null,
            "object_position": null,
            "order": null,
            "overflow": null,
            "overflow_x": null,
            "overflow_y": null,
            "padding": null,
            "right": null,
            "top": null,
            "visibility": null,
            "width": null
          }
        },
        "949e3afb76b74bc1be168db8099589be": {
          "model_module": "@jupyter-widgets/base",
          "model_name": "LayoutModel",
          "model_module_version": "1.2.0",
          "state": {
            "_model_module": "@jupyter-widgets/base",
            "_model_module_version": "1.2.0",
            "_model_name": "LayoutModel",
            "_view_count": null,
            "_view_module": "@jupyter-widgets/base",
            "_view_module_version": "1.2.0",
            "_view_name": "LayoutView",
            "align_content": null,
            "align_items": null,
            "align_self": null,
            "border": null,
            "bottom": null,
            "display": null,
            "flex": null,
            "flex_flow": null,
            "grid_area": null,
            "grid_auto_columns": null,
            "grid_auto_flow": null,
            "grid_auto_rows": null,
            "grid_column": null,
            "grid_gap": null,
            "grid_row": null,
            "grid_template_areas": null,
            "grid_template_columns": null,
            "grid_template_rows": null,
            "height": null,
            "justify_content": null,
            "justify_items": null,
            "left": null,
            "margin": null,
            "max_height": null,
            "max_width": null,
            "min_height": null,
            "min_width": null,
            "object_fit": null,
            "object_position": null,
            "order": null,
            "overflow": null,
            "overflow_x": null,
            "overflow_y": null,
            "padding": null,
            "right": null,
            "top": null,
            "visibility": null,
            "width": null
          }
        },
        "dca168aa43ef42faa8171df4e4e04bd3": {
          "model_module": "@jupyter-widgets/controls",
          "model_name": "DescriptionStyleModel",
          "model_module_version": "1.5.0",
          "state": {
            "_model_module": "@jupyter-widgets/controls",
            "_model_module_version": "1.5.0",
            "_model_name": "DescriptionStyleModel",
            "_view_count": null,
            "_view_module": "@jupyter-widgets/base",
            "_view_module_version": "1.2.0",
            "_view_name": "StyleView",
            "description_width": ""
          }
        },
        "7eaf2c98b6954b50bd0945d89c776fdc": {
          "model_module": "@jupyter-widgets/base",
          "model_name": "LayoutModel",
          "model_module_version": "1.2.0",
          "state": {
            "_model_module": "@jupyter-widgets/base",
            "_model_module_version": "1.2.0",
            "_model_name": "LayoutModel",
            "_view_count": null,
            "_view_module": "@jupyter-widgets/base",
            "_view_module_version": "1.2.0",
            "_view_name": "LayoutView",
            "align_content": null,
            "align_items": null,
            "align_self": null,
            "border": null,
            "bottom": null,
            "display": null,
            "flex": null,
            "flex_flow": null,
            "grid_area": null,
            "grid_auto_columns": null,
            "grid_auto_flow": null,
            "grid_auto_rows": null,
            "grid_column": null,
            "grid_gap": null,
            "grid_row": null,
            "grid_template_areas": null,
            "grid_template_columns": null,
            "grid_template_rows": null,
            "height": null,
            "justify_content": null,
            "justify_items": null,
            "left": null,
            "margin": null,
            "max_height": null,
            "max_width": null,
            "min_height": null,
            "min_width": null,
            "object_fit": null,
            "object_position": null,
            "order": null,
            "overflow": null,
            "overflow_x": null,
            "overflow_y": null,
            "padding": null,
            "right": null,
            "top": null,
            "visibility": null,
            "width": null
          }
        },
        "33cb1e4c76c04692b4a20b9f3896ddb6": {
          "model_module": "@jupyter-widgets/controls",
          "model_name": "ProgressStyleModel",
          "model_module_version": "1.5.0",
          "state": {
            "_model_module": "@jupyter-widgets/controls",
            "_model_module_version": "1.5.0",
            "_model_name": "ProgressStyleModel",
            "_view_count": null,
            "_view_module": "@jupyter-widgets/base",
            "_view_module_version": "1.2.0",
            "_view_name": "StyleView",
            "bar_color": null,
            "description_width": ""
          }
        },
        "d9ba717dca3e4943aa6b0bcc5a59c9a2": {
          "model_module": "@jupyter-widgets/base",
          "model_name": "LayoutModel",
          "model_module_version": "1.2.0",
          "state": {
            "_model_module": "@jupyter-widgets/base",
            "_model_module_version": "1.2.0",
            "_model_name": "LayoutModel",
            "_view_count": null,
            "_view_module": "@jupyter-widgets/base",
            "_view_module_version": "1.2.0",
            "_view_name": "LayoutView",
            "align_content": null,
            "align_items": null,
            "align_self": null,
            "border": null,
            "bottom": null,
            "display": null,
            "flex": null,
            "flex_flow": null,
            "grid_area": null,
            "grid_auto_columns": null,
            "grid_auto_flow": null,
            "grid_auto_rows": null,
            "grid_column": null,
            "grid_gap": null,
            "grid_row": null,
            "grid_template_areas": null,
            "grid_template_columns": null,
            "grid_template_rows": null,
            "height": null,
            "justify_content": null,
            "justify_items": null,
            "left": null,
            "margin": null,
            "max_height": null,
            "max_width": null,
            "min_height": null,
            "min_width": null,
            "object_fit": null,
            "object_position": null,
            "order": null,
            "overflow": null,
            "overflow_x": null,
            "overflow_y": null,
            "padding": null,
            "right": null,
            "top": null,
            "visibility": null,
            "width": null
          }
        },
        "5ec1f37e47434e43b1a87f758380e013": {
          "model_module": "@jupyter-widgets/controls",
          "model_name": "DescriptionStyleModel",
          "model_module_version": "1.5.0",
          "state": {
            "_model_module": "@jupyter-widgets/controls",
            "_model_module_version": "1.5.0",
            "_model_name": "DescriptionStyleModel",
            "_view_count": null,
            "_view_module": "@jupyter-widgets/base",
            "_view_module_version": "1.2.0",
            "_view_name": "StyleView",
            "description_width": ""
          }
        }
      }
    }
  },
  "nbformat": 4,
  "nbformat_minor": 0
}